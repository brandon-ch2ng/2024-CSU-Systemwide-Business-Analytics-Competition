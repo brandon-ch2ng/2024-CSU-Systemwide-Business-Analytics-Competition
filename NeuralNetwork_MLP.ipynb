{
 "cells": [
  {
   "cell_type": "markdown",
   "id": "55373994-5762-4aec-806f-813c6eecbbd7",
   "metadata": {},
   "source": [
    "### Data Preprocessing "
   ]
  },
  {
   "cell_type": "code",
   "execution_count": 2,
   "id": "7fab1baf-858d-4273-a8f1-bf95b6a2a3dc",
   "metadata": {},
   "outputs": [],
   "source": [
    "import pandas as pd"
   ]
  },
  {
   "cell_type": "code",
   "execution_count": 3,
   "id": "c68448c3-ac53-453c-ad13-1d72c2300f65",
   "metadata": {},
   "outputs": [],
   "source": [
    "# ! pip install --upgrade torch transformers"
   ]
  },
  {
   "cell_type": "markdown",
   "id": "d07d5df2-ca58-4111-9c50-f2dfbbb9beea",
   "metadata": {},
   "source": [
    "**Load the CSV file we cleaned in the previous notebook**"
   ]
  },
  {
   "cell_type": "code",
   "execution_count": 5,
   "id": "4e702a7a-770d-40e9-ba7e-a47a73c7b752",
   "metadata": {},
   "outputs": [],
   "source": [
    "df = pd.read_csv('cleaned_df.csv')"
   ]
  },
  {
   "cell_type": "markdown",
   "id": "d108537c-43a1-4ed7-8576-6a0aedd09ece",
   "metadata": {},
   "source": [
    "**Take a brief look at the first few rows of our dataframe. Look at the columns to ensure all our variables we need for our model are here**"
   ]
  },
  {
   "cell_type": "code",
   "execution_count": 7,
   "id": "f08e5a82-2d5a-4bbe-bf86-886aee6bd5e2",
   "metadata": {},
   "outputs": [
    {
     "data": {
      "text/html": [
       "<div>\n",
       "<style scoped>\n",
       "    .dataframe tbody tr th:only-of-type {\n",
       "        vertical-align: middle;\n",
       "    }\n",
       "\n",
       "    .dataframe tbody tr th {\n",
       "        vertical-align: top;\n",
       "    }\n",
       "\n",
       "    .dataframe thead th {\n",
       "        text-align: right;\n",
       "    }\n",
       "</style>\n",
       "<table border=\"1\" class=\"dataframe\">\n",
       "  <thead>\n",
       "    <tr style=\"text-align: right;\">\n",
       "      <th></th>\n",
       "      <th>Name</th>\n",
       "      <th>City</th>\n",
       "      <th>State</th>\n",
       "      <th>Zip</th>\n",
       "      <th>NAICS_U.S._Industry_Title</th>\n",
       "      <th>Loan_Term</th>\n",
       "      <th>Number_Of_Employees</th>\n",
       "      <th>Business_Type</th>\n",
       "      <th>Urban_Rural_Status</th>\n",
       "      <th>Revolving_Line_Of_Credit</th>\n",
       "      <th>Low_Documentation_Loan_Program</th>\n",
       "      <th>Disbursement_Gross</th>\n",
       "      <th>Loan_Status</th>\n",
       "      <th>SBA_Approved_Amount</th>\n",
       "      <th>Franchise_Status</th>\n",
       "      <th>Month_Of_Approval</th>\n",
       "    </tr>\n",
       "  </thead>\n",
       "  <tbody>\n",
       "    <tr>\n",
       "      <th>0</th>\n",
       "      <td>ABC HOBBYCRAFT</td>\n",
       "      <td>EVANSVILLE</td>\n",
       "      <td>IN</td>\n",
       "      <td>47711</td>\n",
       "      <td>RetailTrade</td>\n",
       "      <td>84</td>\n",
       "      <td>4</td>\n",
       "      <td>New</td>\n",
       "      <td>Unknown</td>\n",
       "      <td>0</td>\n",
       "      <td>1</td>\n",
       "      <td>60000</td>\n",
       "      <td>1</td>\n",
       "      <td>48000</td>\n",
       "      <td>0</td>\n",
       "      <td>February</td>\n",
       "    </tr>\n",
       "    <tr>\n",
       "      <th>1</th>\n",
       "      <td>LANDMARK BAR &amp; GRILLE (THE)</td>\n",
       "      <td>NEW PARIS</td>\n",
       "      <td>IN</td>\n",
       "      <td>46526</td>\n",
       "      <td>Accommodation_FoodServices</td>\n",
       "      <td>60</td>\n",
       "      <td>2</td>\n",
       "      <td>New</td>\n",
       "      <td>Unknown</td>\n",
       "      <td>0</td>\n",
       "      <td>1</td>\n",
       "      <td>40000</td>\n",
       "      <td>1</td>\n",
       "      <td>32000</td>\n",
       "      <td>0</td>\n",
       "      <td>February</td>\n",
       "    </tr>\n",
       "    <tr>\n",
       "      <th>2</th>\n",
       "      <td>WHITLOCK DDS, TODD M.</td>\n",
       "      <td>BLOOMINGTON</td>\n",
       "      <td>IN</td>\n",
       "      <td>47401</td>\n",
       "      <td>HealthCare_SocialAssistance</td>\n",
       "      <td>180</td>\n",
       "      <td>7</td>\n",
       "      <td>Existing</td>\n",
       "      <td>Unknown</td>\n",
       "      <td>0</td>\n",
       "      <td>0</td>\n",
       "      <td>287000</td>\n",
       "      <td>1</td>\n",
       "      <td>215250</td>\n",
       "      <td>0</td>\n",
       "      <td>February</td>\n",
       "    </tr>\n",
       "    <tr>\n",
       "      <th>3</th>\n",
       "      <td>BIG BUCKS PAWN &amp; JEWELRY, LLC</td>\n",
       "      <td>BROKEN ARROW</td>\n",
       "      <td>OK</td>\n",
       "      <td>74012</td>\n",
       "      <td>Unknown</td>\n",
       "      <td>60</td>\n",
       "      <td>2</td>\n",
       "      <td>Existing</td>\n",
       "      <td>Unknown</td>\n",
       "      <td>0</td>\n",
       "      <td>1</td>\n",
       "      <td>35000</td>\n",
       "      <td>1</td>\n",
       "      <td>28000</td>\n",
       "      <td>0</td>\n",
       "      <td>February</td>\n",
       "    </tr>\n",
       "    <tr>\n",
       "      <th>4</th>\n",
       "      <td>ANASTASIA CONFECTIONS, INC.</td>\n",
       "      <td>ORLANDO</td>\n",
       "      <td>FL</td>\n",
       "      <td>32801</td>\n",
       "      <td>Unknown</td>\n",
       "      <td>240</td>\n",
       "      <td>14</td>\n",
       "      <td>Existing</td>\n",
       "      <td>Unknown</td>\n",
       "      <td>0</td>\n",
       "      <td>0</td>\n",
       "      <td>229000</td>\n",
       "      <td>1</td>\n",
       "      <td>229000</td>\n",
       "      <td>0</td>\n",
       "      <td>February</td>\n",
       "    </tr>\n",
       "  </tbody>\n",
       "</table>\n",
       "</div>"
      ],
      "text/plain": [
       "                            Name          City State    Zip  \\\n",
       "0                 ABC HOBBYCRAFT    EVANSVILLE    IN  47711   \n",
       "1    LANDMARK BAR & GRILLE (THE)     NEW PARIS    IN  46526   \n",
       "2          WHITLOCK DDS, TODD M.   BLOOMINGTON    IN  47401   \n",
       "3  BIG BUCKS PAWN & JEWELRY, LLC  BROKEN ARROW    OK  74012   \n",
       "4    ANASTASIA CONFECTIONS, INC.       ORLANDO    FL  32801   \n",
       "\n",
       "     NAICS_U.S._Industry_Title  Loan_Term  Number_Of_Employees Business_Type  \\\n",
       "0                  RetailTrade         84                    4           New   \n",
       "1   Accommodation_FoodServices         60                    2           New   \n",
       "2  HealthCare_SocialAssistance        180                    7      Existing   \n",
       "3                      Unknown         60                    2      Existing   \n",
       "4                      Unknown        240                   14      Existing   \n",
       "\n",
       "  Urban_Rural_Status  Revolving_Line_Of_Credit  \\\n",
       "0            Unknown                         0   \n",
       "1            Unknown                         0   \n",
       "2            Unknown                         0   \n",
       "3            Unknown                         0   \n",
       "4            Unknown                         0   \n",
       "\n",
       "   Low_Documentation_Loan_Program  Disbursement_Gross  Loan_Status  \\\n",
       "0                               1               60000            1   \n",
       "1                               1               40000            1   \n",
       "2                               0              287000            1   \n",
       "3                               1               35000            1   \n",
       "4                               0              229000            1   \n",
       "\n",
       "   SBA_Approved_Amount  Franchise_Status Month_Of_Approval  \n",
       "0                48000                 0          February  \n",
       "1                32000                 0          February  \n",
       "2               215250                 0          February  \n",
       "3                28000                 0          February  \n",
       "4               229000                 0          February  "
      ]
     },
     "execution_count": 7,
     "metadata": {},
     "output_type": "execute_result"
    }
   ],
   "source": [
    "df.head()"
   ]
  },
  {
   "cell_type": "markdown",
   "id": "11d925f8-a3f0-47ac-893a-c68ee8b71be7",
   "metadata": {},
   "source": [
    "**Look each class's frequency (default, paid in full). Is there a class imbalance?**"
   ]
  },
  {
   "cell_type": "markdown",
   "id": "eebb9f3d-0ed2-4094-8ef9-c25469b60497",
   "metadata": {},
   "source": [
    "*Yes, there is a class imbalance. There are about 6 times more 1s (paid in full) than 0s (default). Our model may be better at predicting 1s than 0s. This means the specificity rate will likely be low because there are less 0s to train on. We can either add weights or oversample the 0s to raise our ability to predict 0s when we create out model. Keep this in mind as we move on with this notebook!*"
   ]
  },
  {
   "cell_type": "code",
   "execution_count": 10,
   "id": "d7af6c83-a33c-4de9-959b-c70b327773f3",
   "metadata": {},
   "outputs": [
    {
     "data": {
      "text/plain": [
       "Loan_Status\n",
       "1    723540\n",
       "0    149379\n",
       "Name: count, dtype: int64"
      ]
     },
     "execution_count": 10,
     "metadata": {},
     "output_type": "execute_result"
    }
   ],
   "source": [
    "df['Loan_Status'].value_counts()"
   ]
  },
  {
   "cell_type": "markdown",
   "id": "ce7e9084-1f41-4bbe-b376-9df685b145bd",
   "metadata": {},
   "source": [
    "*As you can see, there is another class named 'Unknown'. We will drop this because this information does not provide the model with a lot of value, especially since there is a very low amount of 'Unknowns'. Moreover, an unknown class should be removed because it lacks consistent patterns, contributes no actionable information, skews model metrics, exacerbates class imbalance, confuses interpretation, and introduces noise that degrades overall model performance.*"
   ]
  },
  {
   "cell_type": "markdown",
   "id": "8d177f19-f51c-4324-825c-77a45bb846e2",
   "metadata": {},
   "source": [
    "**Unknown Class is now removed**"
   ]
  },
  {
   "cell_type": "code",
   "execution_count": 13,
   "id": "d3af2a7d-b487-49cc-a2dd-03c24a767ad7",
   "metadata": {},
   "outputs": [
    {
     "data": {
      "text/plain": [
       "Loan_Status\n",
       "1    723540\n",
       "0    149379\n",
       "Name: count, dtype: int64"
      ]
     },
     "execution_count": 13,
     "metadata": {},
     "output_type": "execute_result"
    }
   ],
   "source": [
    "df['Loan_Status'].value_counts()"
   ]
  },
  {
   "cell_type": "markdown",
   "id": "7094dd6f-42b9-4371-856b-338a64917cd9",
   "metadata": {},
   "source": [
    "**Look at data types of all of our categories.**"
   ]
  },
  {
   "cell_type": "code",
   "execution_count": 15,
   "id": "4b74d024-982a-4a88-ad78-7559cc38ac0f",
   "metadata": {},
   "outputs": [
    {
     "name": "stdout",
     "output_type": "stream",
     "text": [
      "<class 'pandas.core.frame.DataFrame'>\n",
      "RangeIndex: 872919 entries, 0 to 872918\n",
      "Data columns (total 16 columns):\n",
      " #   Column                          Non-Null Count   Dtype \n",
      "---  ------                          --------------   ----- \n",
      " 0   Name                            872906 non-null  object\n",
      " 1   City                            872889 non-null  object\n",
      " 2   State                           872906 non-null  object\n",
      " 3   Zip                             872919 non-null  int64 \n",
      " 4   NAICS_U.S._Industry_Title       872919 non-null  object\n",
      " 5   Loan_Term                       872919 non-null  int64 \n",
      " 6   Number_Of_Employees             872919 non-null  int64 \n",
      " 7   Business_Type                   872790 non-null  object\n",
      " 8   Urban_Rural_Status              872919 non-null  object\n",
      " 9   Revolving_Line_Of_Credit        872919 non-null  int64 \n",
      " 10  Low_Documentation_Loan_Program  872919 non-null  int64 \n",
      " 11  Disbursement_Gross              872919 non-null  int64 \n",
      " 12  Loan_Status                     872919 non-null  int64 \n",
      " 13  SBA_Approved_Amount             872919 non-null  int64 \n",
      " 14  Franchise_Status                872919 non-null  int64 \n",
      " 15  Month_Of_Approval               872919 non-null  object\n",
      "dtypes: int64(9), object(7)\n",
      "memory usage: 106.6+ MB\n"
     ]
    }
   ],
   "source": [
    "df.info()"
   ]
  },
  {
   "cell_type": "markdown",
   "id": "4f5df3c5-af94-4a2a-be42-f082cf1d27c5",
   "metadata": {},
   "source": [
    "*We are going to convert most of the objects to dummy variables later since they are categorical. However, we need to change Revolving Line of Credit ,Loan Status, and Low Documentation Loan Program into ints because we will keep these columns as is.*"
   ]
  },
  {
   "cell_type": "markdown",
   "id": "a43b1dd7-c889-4d17-9fc9-736cd3222cad",
   "metadata": {},
   "source": [
    "**Make sure numerical columns that are represented by (0,1) have 0s and 1s . The ML classification models we are using can only process numbers and they would not be able to process strings/objects.**"
   ]
  },
  {
   "cell_type": "markdown",
   "id": "e13bc047-61c3-4b3a-a39f-6e60b25f2f07",
   "metadata": {},
   "source": [
    "**Do the same for Revolving Line of Credit**"
   ]
  },
  {
   "cell_type": "code",
   "execution_count": 19,
   "id": "7521d814-0ef9-46d0-bf1f-aa29ee4e5a3b",
   "metadata": {},
   "outputs": [
    {
     "data": {
      "text/plain": [
       "Revolving_Line_Of_Credit\n",
       "0    673161\n",
       "1    199758\n",
       "Name: count, dtype: int64"
      ]
     },
     "execution_count": 19,
     "metadata": {},
     "output_type": "execute_result"
    }
   ],
   "source": [
    "df['Revolving_Line_Of_Credit'].value_counts()"
   ]
  },
  {
   "cell_type": "markdown",
   "id": "5fb95e5d-4b52-47a8-a3c4-fd156fcc2c99",
   "metadata": {},
   "source": [
    "**Do the same for Low Documentation Loan Program**"
   ]
  },
  {
   "cell_type": "code",
   "execution_count": 21,
   "id": "cc2e7f10-d168-4f9a-aa03-7ca056ea17cd",
   "metadata": {},
   "outputs": [
    {
     "data": {
      "text/plain": [
       "Low_Documentation_Loan_Program\n",
       "0    764923\n",
       "1    107996\n",
       "Name: count, dtype: int64"
      ]
     },
     "execution_count": 21,
     "metadata": {},
     "output_type": "execute_result"
    }
   ],
   "source": [
    "df['Low_Documentation_Loan_Program'].value_counts()"
   ]
  },
  {
   "cell_type": "code",
   "execution_count": 22,
   "id": "3f136486-ab9f-4459-a5ef-e30be5294dcd",
   "metadata": {},
   "outputs": [
    {
     "name": "stdout",
     "output_type": "stream",
     "text": [
      "<class 'pandas.core.frame.DataFrame'>\n",
      "RangeIndex: 872919 entries, 0 to 872918\n",
      "Data columns (total 16 columns):\n",
      " #   Column                          Non-Null Count   Dtype \n",
      "---  ------                          --------------   ----- \n",
      " 0   Name                            872906 non-null  object\n",
      " 1   City                            872889 non-null  object\n",
      " 2   State                           872906 non-null  object\n",
      " 3   Zip                             872919 non-null  int64 \n",
      " 4   NAICS_U.S._Industry_Title       872919 non-null  object\n",
      " 5   Loan_Term                       872919 non-null  int64 \n",
      " 6   Number_Of_Employees             872919 non-null  int64 \n",
      " 7   Business_Type                   872790 non-null  object\n",
      " 8   Urban_Rural_Status              872919 non-null  object\n",
      " 9   Revolving_Line_Of_Credit        872919 non-null  int64 \n",
      " 10  Low_Documentation_Loan_Program  872919 non-null  int64 \n",
      " 11  Disbursement_Gross              872919 non-null  int64 \n",
      " 12  Loan_Status                     872919 non-null  int64 \n",
      " 13  SBA_Approved_Amount             872919 non-null  int64 \n",
      " 14  Franchise_Status                872919 non-null  int64 \n",
      " 15  Month_Of_Approval               872919 non-null  object\n",
      "dtypes: int64(9), object(7)\n",
      "memory usage: 106.6+ MB\n"
     ]
    }
   ],
   "source": [
    "df.info()"
   ]
  },
  {
   "cell_type": "markdown",
   "id": "461de08a-7931-443b-bb5f-aeaca647db12",
   "metadata": {},
   "source": [
    "**Make sure Franchise Status is 0s and 1s and in INT form**"
   ]
  },
  {
   "cell_type": "code",
   "execution_count": 24,
   "id": "007ad7af-707d-4120-b84a-cd3bb0052adb",
   "metadata": {},
   "outputs": [
    {
     "data": {
      "text/plain": [
       "Franchise_Status\n",
       "0    821927\n",
       "1     50992\n",
       "Name: count, dtype: int64"
      ]
     },
     "execution_count": 24,
     "metadata": {},
     "output_type": "execute_result"
    }
   ],
   "source": [
    "df['Franchise_Status'].value_counts()"
   ]
  },
  {
   "cell_type": "markdown",
   "id": "6793649a-d161-44be-8567-ee9309165397",
   "metadata": {},
   "source": [
    "*Yes, it is*"
   ]
  },
  {
   "cell_type": "markdown",
   "id": "006501a8-3974-4463-8bd2-c2821756780d",
   "metadata": {},
   "source": [
    "**Check for NULL values**"
   ]
  },
  {
   "cell_type": "code",
   "execution_count": 27,
   "id": "599e996e-7a6e-41e6-8710-1e32f5dc70bf",
   "metadata": {},
   "outputs": [
    {
     "data": {
      "text/plain": [
       "(872919, 16)"
      ]
     },
     "execution_count": 27,
     "metadata": {},
     "output_type": "execute_result"
    }
   ],
   "source": [
    "df.shape"
   ]
  },
  {
   "cell_type": "code",
   "execution_count": 28,
   "id": "7c34f992-8b4d-4807-ba41-ac7584e88db3",
   "metadata": {},
   "outputs": [
    {
     "data": {
      "text/plain": [
       "Name                               13\n",
       "City                               30\n",
       "State                              13\n",
       "Zip                                 0\n",
       "NAICS_U.S._Industry_Title           0\n",
       "Loan_Term                           0\n",
       "Number_Of_Employees                 0\n",
       "Business_Type                     129\n",
       "Urban_Rural_Status                  0\n",
       "Revolving_Line_Of_Credit            0\n",
       "Low_Documentation_Loan_Program      0\n",
       "Disbursement_Gross                  0\n",
       "Loan_Status                         0\n",
       "SBA_Approved_Amount                 0\n",
       "Franchise_Status                    0\n",
       "Month_Of_Approval                   0\n",
       "dtype: int64"
      ]
     },
     "execution_count": 28,
     "metadata": {},
     "output_type": "execute_result"
    }
   ],
   "source": [
    "df.isna().sum()"
   ]
  },
  {
   "cell_type": "markdown",
   "id": "18b0f32b-d304-424d-898e-4f2e66d75b8a",
   "metadata": {},
   "source": [
    "*Low amount of N/A values. Best to drop the row with these N/A values. We have enough data, where dropping these would not make much of an effect on the amount of data the model is trained on.*"
   ]
  },
  {
   "cell_type": "code",
   "execution_count": 30,
   "id": "101c55d4-2600-4d6a-9e20-5d5cbb578602",
   "metadata": {},
   "outputs": [],
   "source": [
    "df = df.dropna()"
   ]
  },
  {
   "cell_type": "code",
   "execution_count": 31,
   "id": "55225322-20de-4cce-9c27-3e51c3dfab9f",
   "metadata": {},
   "outputs": [
    {
     "data": {
      "text/plain": [
       "(872734, 16)"
      ]
     },
     "execution_count": 31,
     "metadata": {},
     "output_type": "execute_result"
    }
   ],
   "source": [
    "df.shape"
   ]
  },
  {
   "cell_type": "markdown",
   "id": "df7d5996-6299-47d8-ae77-111e3f01623e",
   "metadata": {},
   "source": [
    "*We dropped 185 rows*"
   ]
  },
  {
   "cell_type": "markdown",
   "id": "33bd78e8-c7af-4732-8c27-aed4402463b9",
   "metadata": {},
   "source": [
    "**Check to make sure there are no more NULL values in the data set, and that our .dropna() worked in our previous code.**"
   ]
  },
  {
   "cell_type": "code",
   "execution_count": 34,
   "id": "cc8c176f-de28-42aa-b24c-c1c811741a8c",
   "metadata": {},
   "outputs": [
    {
     "data": {
      "text/plain": [
       "Name                              0\n",
       "City                              0\n",
       "State                             0\n",
       "Zip                               0\n",
       "NAICS_U.S._Industry_Title         0\n",
       "Loan_Term                         0\n",
       "Number_Of_Employees               0\n",
       "Business_Type                     0\n",
       "Urban_Rural_Status                0\n",
       "Revolving_Line_Of_Credit          0\n",
       "Low_Documentation_Loan_Program    0\n",
       "Disbursement_Gross                0\n",
       "Loan_Status                       0\n",
       "SBA_Approved_Amount               0\n",
       "Franchise_Status                  0\n",
       "Month_Of_Approval                 0\n",
       "dtype: int64"
      ]
     },
     "execution_count": 34,
     "metadata": {},
     "output_type": "execute_result"
    }
   ],
   "source": [
    "df.isna().sum()"
   ]
  },
  {
   "cell_type": "markdown",
   "id": "48b59e92-c279-4247-b6fd-4a722c305dc3",
   "metadata": {},
   "source": [
    "**Reset the index to ensure we can accurately map back to the validation set later. This step is crucial to prevent index shuffling during data partitioning, allowing us to correctly associate the disbursement gross with the corresponding business loan in order to calculate net profit from each loan in the validation set.**"
   ]
  },
  {
   "cell_type": "markdown",
   "id": "f4180d22-b2c7-4165-ae44-1bb69ccf9419",
   "metadata": {},
   "source": [
    "*When we reset the index, it creates a new column named 'index' that is not a natural index. This means we can refer back to it later to trace the original row positions or restore the initial indexing if needed.*"
   ]
  },
  {
   "cell_type": "markdown",
   "id": "c3c1e134-b71e-49d7-ad50-a53a9d6ee18b",
   "metadata": {},
   "source": [
    "*Drop = False means we do not drop the natural index and inplace = True makes the changes in the current dataframe, 'df'*"
   ]
  },
  {
   "cell_type": "code",
   "execution_count": 38,
   "id": "36cc5180-df92-4465-a133-0284a230fa92",
   "metadata": {},
   "outputs": [],
   "source": [
    "df.reset_index(drop=False, inplace=True)"
   ]
  },
  {
   "cell_type": "markdown",
   "id": "c3f89ac2-27d0-43bc-8841-8698e4c99a0b",
   "metadata": {},
   "source": [
    "*Check to see if new column 'index' was made*"
   ]
  },
  {
   "cell_type": "code",
   "execution_count": 40,
   "id": "dc6ceedb-f338-45f6-ab48-654eb375f364",
   "metadata": {},
   "outputs": [
    {
     "data": {
      "text/html": [
       "<div>\n",
       "<style scoped>\n",
       "    .dataframe tbody tr th:only-of-type {\n",
       "        vertical-align: middle;\n",
       "    }\n",
       "\n",
       "    .dataframe tbody tr th {\n",
       "        vertical-align: top;\n",
       "    }\n",
       "\n",
       "    .dataframe thead th {\n",
       "        text-align: right;\n",
       "    }\n",
       "</style>\n",
       "<table border=\"1\" class=\"dataframe\">\n",
       "  <thead>\n",
       "    <tr style=\"text-align: right;\">\n",
       "      <th></th>\n",
       "      <th>index</th>\n",
       "      <th>Name</th>\n",
       "      <th>City</th>\n",
       "      <th>State</th>\n",
       "      <th>Zip</th>\n",
       "      <th>NAICS_U.S._Industry_Title</th>\n",
       "      <th>Loan_Term</th>\n",
       "      <th>Number_Of_Employees</th>\n",
       "      <th>Business_Type</th>\n",
       "      <th>Urban_Rural_Status</th>\n",
       "      <th>Revolving_Line_Of_Credit</th>\n",
       "      <th>Low_Documentation_Loan_Program</th>\n",
       "      <th>Disbursement_Gross</th>\n",
       "      <th>Loan_Status</th>\n",
       "      <th>SBA_Approved_Amount</th>\n",
       "      <th>Franchise_Status</th>\n",
       "      <th>Month_Of_Approval</th>\n",
       "    </tr>\n",
       "  </thead>\n",
       "  <tbody>\n",
       "    <tr>\n",
       "      <th>0</th>\n",
       "      <td>0</td>\n",
       "      <td>ABC HOBBYCRAFT</td>\n",
       "      <td>EVANSVILLE</td>\n",
       "      <td>IN</td>\n",
       "      <td>47711</td>\n",
       "      <td>RetailTrade</td>\n",
       "      <td>84</td>\n",
       "      <td>4</td>\n",
       "      <td>New</td>\n",
       "      <td>Unknown</td>\n",
       "      <td>0</td>\n",
       "      <td>1</td>\n",
       "      <td>60000</td>\n",
       "      <td>1</td>\n",
       "      <td>48000</td>\n",
       "      <td>0</td>\n",
       "      <td>February</td>\n",
       "    </tr>\n",
       "    <tr>\n",
       "      <th>1</th>\n",
       "      <td>1</td>\n",
       "      <td>LANDMARK BAR &amp; GRILLE (THE)</td>\n",
       "      <td>NEW PARIS</td>\n",
       "      <td>IN</td>\n",
       "      <td>46526</td>\n",
       "      <td>Accommodation_FoodServices</td>\n",
       "      <td>60</td>\n",
       "      <td>2</td>\n",
       "      <td>New</td>\n",
       "      <td>Unknown</td>\n",
       "      <td>0</td>\n",
       "      <td>1</td>\n",
       "      <td>40000</td>\n",
       "      <td>1</td>\n",
       "      <td>32000</td>\n",
       "      <td>0</td>\n",
       "      <td>February</td>\n",
       "    </tr>\n",
       "    <tr>\n",
       "      <th>2</th>\n",
       "      <td>2</td>\n",
       "      <td>WHITLOCK DDS, TODD M.</td>\n",
       "      <td>BLOOMINGTON</td>\n",
       "      <td>IN</td>\n",
       "      <td>47401</td>\n",
       "      <td>HealthCare_SocialAssistance</td>\n",
       "      <td>180</td>\n",
       "      <td>7</td>\n",
       "      <td>Existing</td>\n",
       "      <td>Unknown</td>\n",
       "      <td>0</td>\n",
       "      <td>0</td>\n",
       "      <td>287000</td>\n",
       "      <td>1</td>\n",
       "      <td>215250</td>\n",
       "      <td>0</td>\n",
       "      <td>February</td>\n",
       "    </tr>\n",
       "    <tr>\n",
       "      <th>3</th>\n",
       "      <td>3</td>\n",
       "      <td>BIG BUCKS PAWN &amp; JEWELRY, LLC</td>\n",
       "      <td>BROKEN ARROW</td>\n",
       "      <td>OK</td>\n",
       "      <td>74012</td>\n",
       "      <td>Unknown</td>\n",
       "      <td>60</td>\n",
       "      <td>2</td>\n",
       "      <td>Existing</td>\n",
       "      <td>Unknown</td>\n",
       "      <td>0</td>\n",
       "      <td>1</td>\n",
       "      <td>35000</td>\n",
       "      <td>1</td>\n",
       "      <td>28000</td>\n",
       "      <td>0</td>\n",
       "      <td>February</td>\n",
       "    </tr>\n",
       "    <tr>\n",
       "      <th>4</th>\n",
       "      <td>4</td>\n",
       "      <td>ANASTASIA CONFECTIONS, INC.</td>\n",
       "      <td>ORLANDO</td>\n",
       "      <td>FL</td>\n",
       "      <td>32801</td>\n",
       "      <td>Unknown</td>\n",
       "      <td>240</td>\n",
       "      <td>14</td>\n",
       "      <td>Existing</td>\n",
       "      <td>Unknown</td>\n",
       "      <td>0</td>\n",
       "      <td>0</td>\n",
       "      <td>229000</td>\n",
       "      <td>1</td>\n",
       "      <td>229000</td>\n",
       "      <td>0</td>\n",
       "      <td>February</td>\n",
       "    </tr>\n",
       "  </tbody>\n",
       "</table>\n",
       "</div>"
      ],
      "text/plain": [
       "   index                           Name          City State    Zip  \\\n",
       "0      0                 ABC HOBBYCRAFT    EVANSVILLE    IN  47711   \n",
       "1      1    LANDMARK BAR & GRILLE (THE)     NEW PARIS    IN  46526   \n",
       "2      2          WHITLOCK DDS, TODD M.   BLOOMINGTON    IN  47401   \n",
       "3      3  BIG BUCKS PAWN & JEWELRY, LLC  BROKEN ARROW    OK  74012   \n",
       "4      4    ANASTASIA CONFECTIONS, INC.       ORLANDO    FL  32801   \n",
       "\n",
       "     NAICS_U.S._Industry_Title  Loan_Term  Number_Of_Employees Business_Type  \\\n",
       "0                  RetailTrade         84                    4           New   \n",
       "1   Accommodation_FoodServices         60                    2           New   \n",
       "2  HealthCare_SocialAssistance        180                    7      Existing   \n",
       "3                      Unknown         60                    2      Existing   \n",
       "4                      Unknown        240                   14      Existing   \n",
       "\n",
       "  Urban_Rural_Status  Revolving_Line_Of_Credit  \\\n",
       "0            Unknown                         0   \n",
       "1            Unknown                         0   \n",
       "2            Unknown                         0   \n",
       "3            Unknown                         0   \n",
       "4            Unknown                         0   \n",
       "\n",
       "   Low_Documentation_Loan_Program  Disbursement_Gross  Loan_Status  \\\n",
       "0                               1               60000            1   \n",
       "1                               1               40000            1   \n",
       "2                               0              287000            1   \n",
       "3                               1               35000            1   \n",
       "4                               0              229000            1   \n",
       "\n",
       "   SBA_Approved_Amount  Franchise_Status Month_Of_Approval  \n",
       "0                48000                 0          February  \n",
       "1                32000                 0          February  \n",
       "2               215250                 0          February  \n",
       "3                28000                 0          February  \n",
       "4               229000                 0          February  "
      ]
     },
     "execution_count": 40,
     "metadata": {},
     "output_type": "execute_result"
    }
   ],
   "source": [
    "df.head()"
   ]
  },
  {
   "cell_type": "markdown",
   "id": "a373d0f7-eb2c-4d2c-ad4c-f118e8b02697",
   "metadata": {},
   "source": [
    "*Yes, 'index' is now a column*"
   ]
  },
  {
   "cell_type": "markdown",
   "id": "99f7ee8c-ba86-48af-baec-7ce77174ad1f",
   "metadata": {},
   "source": [
    "**Drop City and Zip Columns.**"
   ]
  },
  {
   "cell_type": "markdown",
   "id": "b56c0768-99dc-4f70-a696-64fd13f31f67",
   "metadata": {},
   "source": [
    "*There are too many different cities and zip codes. Our model can not handle this many. State is a good representation for location because there are only 51 different states.*"
   ]
  },
  {
   "cell_type": "code",
   "execution_count": 44,
   "id": "2b4f0430-5c86-40be-b3ea-1e55690d50ce",
   "metadata": {},
   "outputs": [],
   "source": [
    "new_df = df.drop(columns = ['City', 'Zip'])"
   ]
  },
  {
   "cell_type": "markdown",
   "id": "ed54bb2f-39ee-4463-bc5e-97df3340fdff",
   "metadata": {},
   "source": [
    "**Rename the our dependent variable column from 'Loan Status (0,1)' to 'Paid in Full'**"
   ]
  },
  {
   "cell_type": "markdown",
   "id": "8f7ebc89-9a6d-4804-ae35-776e6f1da035",
   "metadata": {},
   "source": [
    "*This makes our variable more clear. 0 means it is not paid in full, or **no** (default) and 1 is \"**yes**\"*"
   ]
  },
  {
   "cell_type": "code",
   "execution_count": 47,
   "id": "9d5cbe4a-a3e9-4333-bbb7-1bc25f635e8b",
   "metadata": {},
   "outputs": [],
   "source": [
    "new_df.rename(columns={'Loan_Status': 'Paid in Full'}, inplace=True)"
   ]
  },
  {
   "cell_type": "markdown",
   "id": "9ce6215e-7d39-4905-b1b5-bd26fbad4589",
   "metadata": {},
   "source": [
    "### Model Preprocessing"
   ]
  },
  {
   "cell_type": "markdown",
   "id": "d6517fea-648c-4c30-9c2b-3f0fe786a8d0",
   "metadata": {},
   "source": [
    "#### 1. Overfit Small Sample"
   ]
  },
  {
   "cell_type": "markdown",
   "id": "5b566969-5ea4-48fd-9541-77853e133120",
   "metadata": {},
   "source": [
    "*Taking a small subset to overfit on serves a specific purpose in model development: to verify if the model can actually learn and memorize patterns effectively.The goal with the small subset is just to see if the model can **memorize the data**, not to achieve generalization or balanced performance across classes.*"
   ]
  },
  {
   "cell_type": "markdown",
   "id": "3cf5fa71-070a-4fd7-82fb-c600482152ac",
   "metadata": {},
   "source": [
    "When overfitting on a small subset, you can confirm the model is capable of learning effectively if:\n",
    "\n",
    "Metrics (e.g., Accuracy) are close to 1.000 (when evaluating classification), meaning the model predicts all samples in the subset correctly.\n",
    "Training Loss is very low, ideally close to zero, indicating that the model’s predictions closely match the true values.\n",
    "These signs show that the model has the capacity to learn patterns in the data. Achieving these results on a small subset suggests that, with further tuning and regularization, **the model can likely perform well on larger datasets and unseen data when you begin training in earnest.**"
   ]
  },
  {
   "cell_type": "markdown",
   "id": "f3f3d6a4-d833-4a45-bb9c-33f432f27fde",
   "metadata": {},
   "source": [
    "**Load Packages**"
   ]
  },
  {
   "cell_type": "code",
   "execution_count": 53,
   "id": "f6aad266-7816-4aed-b4b3-03346b01d036",
   "metadata": {},
   "outputs": [],
   "source": [
    "import numpy as np\n",
    "import pandas as pd\n",
    "from sklearn.model_selection import train_test_split\n",
    "from sklearn.preprocessing import StandardScaler\n",
    "from sklearn.metrics import accuracy_score\n",
    "import torch\n",
    "import torch.nn as nn\n",
    "import torch.optim as optim\n",
    "from torch.utils.data import DataLoader, TensorDataset"
   ]
  },
  {
   "cell_type": "markdown",
   "id": "97ae9184-58c0-496b-b000-e143b8e60956",
   "metadata": {},
   "source": [
    "**Separate Predictors from Dependent Variable**"
   ]
  },
  {
   "cell_type": "code",
   "execution_count": 55,
   "id": "bb3709db-7ab8-4d9d-ad15-6971eccc687e",
   "metadata": {},
   "outputs": [],
   "source": [
    "X = new_df.drop(columns = ['index','Paid in Full', 'Name'])"
   ]
  },
  {
   "cell_type": "code",
   "execution_count": 56,
   "id": "b7755f29-766c-4fdd-90e7-8cead64f81bd",
   "metadata": {},
   "outputs": [],
   "source": [
    "y = new_df['Paid in Full']"
   ]
  },
  {
   "cell_type": "markdown",
   "id": "6ab32503-9d3d-4672-8862-0bb4350441bd",
   "metadata": {},
   "source": [
    "**Partition Data into Training and Validation Sets**"
   ]
  },
  {
   "cell_type": "code",
   "execution_count": 58,
   "id": "96cdba5d-2d57-4ae6-b344-d3f0c0529665",
   "metadata": {},
   "outputs": [],
   "source": [
    "# Step 2: Partition the data into training and validation sets\n",
    "X_train, X_valid, y_train, y_valid = train_test_split(X, y, test_size=0.2, random_state=42)  "
   ]
  },
  {
   "cell_type": "markdown",
   "id": "822bad64-db75-4452-a725-693b17017595",
   "metadata": {},
   "source": [
    "### Data Transformation"
   ]
  },
  {
   "cell_type": "markdown",
   "id": "6003cea6-479e-4307-9b3c-04b21025647a",
   "metadata": {},
   "source": [
    "**Create dummies for categorical variables.**"
   ]
  },
  {
   "cell_type": "markdown",
   "id": "487fedab-bc8c-4b19-9e02-60efbbdab20d",
   "metadata": {},
   "source": [
    "*Creating dummy variables for classification models like MLPs is essential because they convert categorical data into a numerical format, avoid unintended ordinal relationships, ensure compatibility with activation functions, preserve non-ordinal information, and facilitate proper mapping in the output layer for multi-class predictions.*\n",
    "                                                                                                                                                                                                                                                                 "
   ]
  },
  {
   "cell_type": "markdown",
   "id": "79144627-1ee9-4aa6-8169-8c33b409419b",
   "metadata": {},
   "source": [
    "*Basically, ML models take in numbers and not words.*"
   ]
  },
  {
   "cell_type": "code",
   "execution_count": 63,
   "id": "0e747973-03e4-4274-8318-0a5d101d3bc0",
   "metadata": {},
   "outputs": [
    {
     "name": "stdout",
     "output_type": "stream",
     "text": [
      "<class 'pandas.core.frame.DataFrame'>\n",
      "RangeIndex: 872734 entries, 0 to 872733\n",
      "Data columns (total 17 columns):\n",
      " #   Column                          Non-Null Count   Dtype \n",
      "---  ------                          --------------   ----- \n",
      " 0   index                           872734 non-null  int64 \n",
      " 1   Name                            872734 non-null  object\n",
      " 2   City                            872734 non-null  object\n",
      " 3   State                           872734 non-null  object\n",
      " 4   Zip                             872734 non-null  int64 \n",
      " 5   NAICS_U.S._Industry_Title       872734 non-null  object\n",
      " 6   Loan_Term                       872734 non-null  int64 \n",
      " 7   Number_Of_Employees             872734 non-null  int64 \n",
      " 8   Business_Type                   872734 non-null  object\n",
      " 9   Urban_Rural_Status              872734 non-null  object\n",
      " 10  Revolving_Line_Of_Credit        872734 non-null  int64 \n",
      " 11  Low_Documentation_Loan_Program  872734 non-null  int64 \n",
      " 12  Disbursement_Gross              872734 non-null  int64 \n",
      " 13  Loan_Status                     872734 non-null  int64 \n",
      " 14  SBA_Approved_Amount             872734 non-null  int64 \n",
      " 15  Franchise_Status                872734 non-null  int64 \n",
      " 16  Month_Of_Approval               872734 non-null  object\n",
      "dtypes: int64(10), object(7)\n",
      "memory usage: 113.2+ MB\n"
     ]
    }
   ],
   "source": [
    "df.info()"
   ]
  },
  {
   "cell_type": "code",
   "execution_count": 64,
   "id": "79dc207e-96df-40fd-a163-89757eabfb7a",
   "metadata": {},
   "outputs": [],
   "source": [
    "X_train = pd.get_dummies(X_train, columns = ['NAICS_U.S._Industry_Title', 'State', 'Urban_Rural_Status', 'Month_Of_Approval', 'Business_Type'])"
   ]
  },
  {
   "cell_type": "code",
   "execution_count": 65,
   "id": "ea3f6b64-c7eb-42f6-b91d-1cbefe3e5da8",
   "metadata": {},
   "outputs": [],
   "source": [
    "X_valid = pd.get_dummies(X_valid, columns = ['NAICS_U.S._Industry_Title', 'State', 'Urban_Rural_Status', 'Month_Of_Approval', 'Business_Type'])"
   ]
  },
  {
   "cell_type": "markdown",
   "id": "9a905acd-9dcc-49a0-8475-cfb6834c19eb",
   "metadata": {},
   "source": [
    "*It is better not to use drop_first=True when creating dummies for an MLP neural network.*"
   ]
  },
  {
   "cell_type": "markdown",
   "id": "2b2a1acd-a359-480b-b07a-7a1d54902455",
   "metadata": {},
   "source": [
    "*In most other models, we would drop_first = True to prevent overfitting, but neural networks do not need to do this. Neural networks are designed to handle redundancy and overfitting during training through multiple iterations, so retaining all dummies enables the model to fully utilize the data and learn effectively.*"
   ]
  },
  {
   "cell_type": "markdown",
   "id": "233b3361-bdc5-49a5-bb77-44bbfc27b0da",
   "metadata": {},
   "source": [
    "**Take another look at datatypes to guide further preprocessing and ensure our datatypes will be in the correct numerical format for our model**"
   ]
  },
  {
   "cell_type": "code",
   "execution_count": 69,
   "id": "d21b94e3-28ce-4ee5-8b0b-973c05f7048f",
   "metadata": {
    "scrolled": true
   },
   "outputs": [
    {
     "name": "stdout",
     "output_type": "stream",
     "text": [
      "<class 'pandas.core.frame.DataFrame'>\n",
      "Index: 698187 entries, 538375 to 121958\n",
      "Data columns (total 97 columns):\n",
      " #   Column                                                                                Non-Null Count   Dtype\n",
      "---  ------                                                                                --------------   -----\n",
      " 0   Loan_Term                                                                             698187 non-null  int64\n",
      " 1   Number_Of_Employees                                                                   698187 non-null  int64\n",
      " 2   Revolving_Line_Of_Credit                                                              698187 non-null  int64\n",
      " 3   Low_Documentation_Loan_Program                                                        698187 non-null  int64\n",
      " 4   Disbursement_Gross                                                                    698187 non-null  int64\n",
      " 5   SBA_Approved_Amount                                                                   698187 non-null  int64\n",
      " 6   Franchise_Status                                                                      698187 non-null  int64\n",
      " 7   NAICS_U.S._Industry_Title_Accommodation_FoodServices                                  698187 non-null  bool \n",
      " 8   NAICS_U.S._Industry_Title_Administrative&Support_WasteManagement_RemediationServices  698187 non-null  bool \n",
      " 9   NAICS_U.S._Industry_Title_Agriculture_Forestry_Fishing_Hunting                        698187 non-null  bool \n",
      " 10  NAICS_U.S._Industry_Title_Arts_Entertainment_Recreation                               698187 non-null  bool \n",
      " 11  NAICS_U.S._Industry_Title_Construction                                                698187 non-null  bool \n",
      " 12  NAICS_U.S._Industry_Title_Educational                                                 698187 non-null  bool \n",
      " 13  NAICS_U.S._Industry_Title_Finance_Insurance                                           698187 non-null  bool \n",
      " 14  NAICS_U.S._Industry_Title_HealthCare_SocialAssistance                                 698187 non-null  bool \n",
      " 15  NAICS_U.S._Industry_Title_Information                                                 698187 non-null  bool \n",
      " 16  NAICS_U.S._Industry_Title_ManagementOfCompaniesAndEnterprises                         698187 non-null  bool \n",
      " 17  NAICS_U.S._Industry_Title_Manufacturing                                               698187 non-null  bool \n",
      " 18  NAICS_U.S._Industry_Title_Mining_Quarrying_Oil&GasExtraction                          698187 non-null  bool \n",
      " 19  NAICS_U.S._Industry_Title_OtherServices(except Public Administration)                 698187 non-null  bool \n",
      " 20  NAICS_U.S._Industry_Title_Professional_Scientific_TechService                         698187 non-null  bool \n",
      " 21  NAICS_U.S._Industry_Title_PublicAdministration                                        698187 non-null  bool \n",
      " 22  NAICS_U.S._Industry_Title_RealEstate_Rental_Leasing                                   698187 non-null  bool \n",
      " 23  NAICS_U.S._Industry_Title_RetailTrade                                                 698187 non-null  bool \n",
      " 24  NAICS_U.S._Industry_Title_Transportation_Warehousing                                  698187 non-null  bool \n",
      " 25  NAICS_U.S._Industry_Title_Unknown                                                     698187 non-null  bool \n",
      " 26  NAICS_U.S._Industry_Title_Utilities                                                   698187 non-null  bool \n",
      " 27  NAICS_U.S._Industry_Title_WholesaleTrade                                              698187 non-null  bool \n",
      " 28  State_AK                                                                              698187 non-null  bool \n",
      " 29  State_AL                                                                              698187 non-null  bool \n",
      " 30  State_AR                                                                              698187 non-null  bool \n",
      " 31  State_AZ                                                                              698187 non-null  bool \n",
      " 32  State_CA                                                                              698187 non-null  bool \n",
      " 33  State_CO                                                                              698187 non-null  bool \n",
      " 34  State_CT                                                                              698187 non-null  bool \n",
      " 35  State_DC                                                                              698187 non-null  bool \n",
      " 36  State_DE                                                                              698187 non-null  bool \n",
      " 37  State_FL                                                                              698187 non-null  bool \n",
      " 38  State_GA                                                                              698187 non-null  bool \n",
      " 39  State_HI                                                                              698187 non-null  bool \n",
      " 40  State_IA                                                                              698187 non-null  bool \n",
      " 41  State_ID                                                                              698187 non-null  bool \n",
      " 42  State_IL                                                                              698187 non-null  bool \n",
      " 43  State_IN                                                                              698187 non-null  bool \n",
      " 44  State_KS                                                                              698187 non-null  bool \n",
      " 45  State_KY                                                                              698187 non-null  bool \n",
      " 46  State_LA                                                                              698187 non-null  bool \n",
      " 47  State_MA                                                                              698187 non-null  bool \n",
      " 48  State_MD                                                                              698187 non-null  bool \n",
      " 49  State_ME                                                                              698187 non-null  bool \n",
      " 50  State_MI                                                                              698187 non-null  bool \n",
      " 51  State_MN                                                                              698187 non-null  bool \n",
      " 52  State_MO                                                                              698187 non-null  bool \n",
      " 53  State_MS                                                                              698187 non-null  bool \n",
      " 54  State_MT                                                                              698187 non-null  bool \n",
      " 55  State_NC                                                                              698187 non-null  bool \n",
      " 56  State_ND                                                                              698187 non-null  bool \n",
      " 57  State_NE                                                                              698187 non-null  bool \n",
      " 58  State_NH                                                                              698187 non-null  bool \n",
      " 59  State_NJ                                                                              698187 non-null  bool \n",
      " 60  State_NM                                                                              698187 non-null  bool \n",
      " 61  State_NV                                                                              698187 non-null  bool \n",
      " 62  State_NY                                                                              698187 non-null  bool \n",
      " 63  State_OH                                                                              698187 non-null  bool \n",
      " 64  State_OK                                                                              698187 non-null  bool \n",
      " 65  State_OR                                                                              698187 non-null  bool \n",
      " 66  State_PA                                                                              698187 non-null  bool \n",
      " 67  State_RI                                                                              698187 non-null  bool \n",
      " 68  State_SC                                                                              698187 non-null  bool \n",
      " 69  State_SD                                                                              698187 non-null  bool \n",
      " 70  State_TN                                                                              698187 non-null  bool \n",
      " 71  State_TX                                                                              698187 non-null  bool \n",
      " 72  State_UT                                                                              698187 non-null  bool \n",
      " 73  State_VA                                                                              698187 non-null  bool \n",
      " 74  State_VT                                                                              698187 non-null  bool \n",
      " 75  State_WA                                                                              698187 non-null  bool \n",
      " 76  State_WI                                                                              698187 non-null  bool \n",
      " 77  State_WV                                                                              698187 non-null  bool \n",
      " 78  State_WY                                                                              698187 non-null  bool \n",
      " 79  Urban_Rural_Status_Rural                                                              698187 non-null  bool \n",
      " 80  Urban_Rural_Status_Unknown                                                            698187 non-null  bool \n",
      " 81  Urban_Rural_Status_Urban                                                              698187 non-null  bool \n",
      " 82  Month_Of_Approval_April                                                               698187 non-null  bool \n",
      " 83  Month_Of_Approval_August                                                              698187 non-null  bool \n",
      " 84  Month_Of_Approval_December                                                            698187 non-null  bool \n",
      " 85  Month_Of_Approval_February                                                            698187 non-null  bool \n",
      " 86  Month_Of_Approval_January                                                             698187 non-null  bool \n",
      " 87  Month_Of_Approval_July                                                                698187 non-null  bool \n",
      " 88  Month_Of_Approval_June                                                                698187 non-null  bool \n",
      " 89  Month_Of_Approval_March                                                               698187 non-null  bool \n",
      " 90  Month_Of_Approval_May                                                                 698187 non-null  bool \n",
      " 91  Month_Of_Approval_November                                                            698187 non-null  bool \n",
      " 92  Month_Of_Approval_October                                                             698187 non-null  bool \n",
      " 93  Month_Of_Approval_September                                                           698187 non-null  bool \n",
      " 94  Business_Type_Existing                                                                698187 non-null  bool \n",
      " 95  Business_Type_New                                                                     698187 non-null  bool \n",
      " 96  Business_Type_Unknown                                                                 698187 non-null  bool \n",
      "dtypes: bool(90), int64(7)\n",
      "memory usage: 102.5 MB\n"
     ]
    }
   ],
   "source": [
    "X_train.info()"
   ]
  },
  {
   "cell_type": "code",
   "execution_count": 70,
   "id": "b140b718-1849-465e-a0fc-1b38c5318365",
   "metadata": {},
   "outputs": [
    {
     "name": "stdout",
     "output_type": "stream",
     "text": [
      "<class 'pandas.core.frame.DataFrame'>\n",
      "Index: 174547 entries, 210651 to 587732\n",
      "Data columns (total 97 columns):\n",
      " #   Column                                                                                Non-Null Count   Dtype\n",
      "---  ------                                                                                --------------   -----\n",
      " 0   Loan_Term                                                                             174547 non-null  int64\n",
      " 1   Number_Of_Employees                                                                   174547 non-null  int64\n",
      " 2   Revolving_Line_Of_Credit                                                              174547 non-null  int64\n",
      " 3   Low_Documentation_Loan_Program                                                        174547 non-null  int64\n",
      " 4   Disbursement_Gross                                                                    174547 non-null  int64\n",
      " 5   SBA_Approved_Amount                                                                   174547 non-null  int64\n",
      " 6   Franchise_Status                                                                      174547 non-null  int64\n",
      " 7   NAICS_U.S._Industry_Title_Accommodation_FoodServices                                  174547 non-null  bool \n",
      " 8   NAICS_U.S._Industry_Title_Administrative&Support_WasteManagement_RemediationServices  174547 non-null  bool \n",
      " 9   NAICS_U.S._Industry_Title_Agriculture_Forestry_Fishing_Hunting                        174547 non-null  bool \n",
      " 10  NAICS_U.S._Industry_Title_Arts_Entertainment_Recreation                               174547 non-null  bool \n",
      " 11  NAICS_U.S._Industry_Title_Construction                                                174547 non-null  bool \n",
      " 12  NAICS_U.S._Industry_Title_Educational                                                 174547 non-null  bool \n",
      " 13  NAICS_U.S._Industry_Title_Finance_Insurance                                           174547 non-null  bool \n",
      " 14  NAICS_U.S._Industry_Title_HealthCare_SocialAssistance                                 174547 non-null  bool \n",
      " 15  NAICS_U.S._Industry_Title_Information                                                 174547 non-null  bool \n",
      " 16  NAICS_U.S._Industry_Title_ManagementOfCompaniesAndEnterprises                         174547 non-null  bool \n",
      " 17  NAICS_U.S._Industry_Title_Manufacturing                                               174547 non-null  bool \n",
      " 18  NAICS_U.S._Industry_Title_Mining_Quarrying_Oil&GasExtraction                          174547 non-null  bool \n",
      " 19  NAICS_U.S._Industry_Title_OtherServices(except Public Administration)                 174547 non-null  bool \n",
      " 20  NAICS_U.S._Industry_Title_Professional_Scientific_TechService                         174547 non-null  bool \n",
      " 21  NAICS_U.S._Industry_Title_PublicAdministration                                        174547 non-null  bool \n",
      " 22  NAICS_U.S._Industry_Title_RealEstate_Rental_Leasing                                   174547 non-null  bool \n",
      " 23  NAICS_U.S._Industry_Title_RetailTrade                                                 174547 non-null  bool \n",
      " 24  NAICS_U.S._Industry_Title_Transportation_Warehousing                                  174547 non-null  bool \n",
      " 25  NAICS_U.S._Industry_Title_Unknown                                                     174547 non-null  bool \n",
      " 26  NAICS_U.S._Industry_Title_Utilities                                                   174547 non-null  bool \n",
      " 27  NAICS_U.S._Industry_Title_WholesaleTrade                                              174547 non-null  bool \n",
      " 28  State_AK                                                                              174547 non-null  bool \n",
      " 29  State_AL                                                                              174547 non-null  bool \n",
      " 30  State_AR                                                                              174547 non-null  bool \n",
      " 31  State_AZ                                                                              174547 non-null  bool \n",
      " 32  State_CA                                                                              174547 non-null  bool \n",
      " 33  State_CO                                                                              174547 non-null  bool \n",
      " 34  State_CT                                                                              174547 non-null  bool \n",
      " 35  State_DC                                                                              174547 non-null  bool \n",
      " 36  State_DE                                                                              174547 non-null  bool \n",
      " 37  State_FL                                                                              174547 non-null  bool \n",
      " 38  State_GA                                                                              174547 non-null  bool \n",
      " 39  State_HI                                                                              174547 non-null  bool \n",
      " 40  State_IA                                                                              174547 non-null  bool \n",
      " 41  State_ID                                                                              174547 non-null  bool \n",
      " 42  State_IL                                                                              174547 non-null  bool \n",
      " 43  State_IN                                                                              174547 non-null  bool \n",
      " 44  State_KS                                                                              174547 non-null  bool \n",
      " 45  State_KY                                                                              174547 non-null  bool \n",
      " 46  State_LA                                                                              174547 non-null  bool \n",
      " 47  State_MA                                                                              174547 non-null  bool \n",
      " 48  State_MD                                                                              174547 non-null  bool \n",
      " 49  State_ME                                                                              174547 non-null  bool \n",
      " 50  State_MI                                                                              174547 non-null  bool \n",
      " 51  State_MN                                                                              174547 non-null  bool \n",
      " 52  State_MO                                                                              174547 non-null  bool \n",
      " 53  State_MS                                                                              174547 non-null  bool \n",
      " 54  State_MT                                                                              174547 non-null  bool \n",
      " 55  State_NC                                                                              174547 non-null  bool \n",
      " 56  State_ND                                                                              174547 non-null  bool \n",
      " 57  State_NE                                                                              174547 non-null  bool \n",
      " 58  State_NH                                                                              174547 non-null  bool \n",
      " 59  State_NJ                                                                              174547 non-null  bool \n",
      " 60  State_NM                                                                              174547 non-null  bool \n",
      " 61  State_NV                                                                              174547 non-null  bool \n",
      " 62  State_NY                                                                              174547 non-null  bool \n",
      " 63  State_OH                                                                              174547 non-null  bool \n",
      " 64  State_OK                                                                              174547 non-null  bool \n",
      " 65  State_OR                                                                              174547 non-null  bool \n",
      " 66  State_PA                                                                              174547 non-null  bool \n",
      " 67  State_RI                                                                              174547 non-null  bool \n",
      " 68  State_SC                                                                              174547 non-null  bool \n",
      " 69  State_SD                                                                              174547 non-null  bool \n",
      " 70  State_TN                                                                              174547 non-null  bool \n",
      " 71  State_TX                                                                              174547 non-null  bool \n",
      " 72  State_UT                                                                              174547 non-null  bool \n",
      " 73  State_VA                                                                              174547 non-null  bool \n",
      " 74  State_VT                                                                              174547 non-null  bool \n",
      " 75  State_WA                                                                              174547 non-null  bool \n",
      " 76  State_WI                                                                              174547 non-null  bool \n",
      " 77  State_WV                                                                              174547 non-null  bool \n",
      " 78  State_WY                                                                              174547 non-null  bool \n",
      " 79  Urban_Rural_Status_Rural                                                              174547 non-null  bool \n",
      " 80  Urban_Rural_Status_Unknown                                                            174547 non-null  bool \n",
      " 81  Urban_Rural_Status_Urban                                                              174547 non-null  bool \n",
      " 82  Month_Of_Approval_April                                                               174547 non-null  bool \n",
      " 83  Month_Of_Approval_August                                                              174547 non-null  bool \n",
      " 84  Month_Of_Approval_December                                                            174547 non-null  bool \n",
      " 85  Month_Of_Approval_February                                                            174547 non-null  bool \n",
      " 86  Month_Of_Approval_January                                                             174547 non-null  bool \n",
      " 87  Month_Of_Approval_July                                                                174547 non-null  bool \n",
      " 88  Month_Of_Approval_June                                                                174547 non-null  bool \n",
      " 89  Month_Of_Approval_March                                                               174547 non-null  bool \n",
      " 90  Month_Of_Approval_May                                                                 174547 non-null  bool \n",
      " 91  Month_Of_Approval_November                                                            174547 non-null  bool \n",
      " 92  Month_Of_Approval_October                                                             174547 non-null  bool \n",
      " 93  Month_Of_Approval_September                                                           174547 non-null  bool \n",
      " 94  Business_Type_Existing                                                                174547 non-null  bool \n",
      " 95  Business_Type_New                                                                     174547 non-null  bool \n",
      " 96  Business_Type_Unknown                                                                 174547 non-null  bool \n",
      "dtypes: bool(90), int64(7)\n",
      "memory usage: 25.6 MB\n"
     ]
    }
   ],
   "source": [
    "X_valid.info()"
   ]
  },
  {
   "cell_type": "markdown",
   "id": "af2e8618-5713-4d89-8ddd-7f9bd0c7d6fb",
   "metadata": {},
   "source": [
    "*As we can see, we need to convert bool to int. We will do that **after** we normalize our numerical columns*"
   ]
  },
  {
   "cell_type": "markdown",
   "id": "ae51a5f3-c838-495f-a3ef-259cea847694",
   "metadata": {},
   "source": [
    "**Normalize numerical colums in X_train**"
   ]
  },
  {
   "cell_type": "code",
   "execution_count": 73,
   "id": "88119588-1f49-4497-8b14-3e3da954d294",
   "metadata": {},
   "outputs": [
    {
     "name": "stdout",
     "output_type": "stream",
     "text": [
      "<class 'pandas.core.frame.DataFrame'>\n",
      "RangeIndex: 872734 entries, 0 to 872733\n",
      "Data columns (total 15 columns):\n",
      " #   Column                          Non-Null Count   Dtype \n",
      "---  ------                          --------------   ----- \n",
      " 0   index                           872734 non-null  int64 \n",
      " 1   Name                            872734 non-null  object\n",
      " 2   State                           872734 non-null  object\n",
      " 3   NAICS_U.S._Industry_Title       872734 non-null  object\n",
      " 4   Loan_Term                       872734 non-null  int64 \n",
      " 5   Number_Of_Employees             872734 non-null  int64 \n",
      " 6   Business_Type                   872734 non-null  object\n",
      " 7   Urban_Rural_Status              872734 non-null  object\n",
      " 8   Revolving_Line_Of_Credit        872734 non-null  int64 \n",
      " 9   Low_Documentation_Loan_Program  872734 non-null  int64 \n",
      " 10  Disbursement_Gross              872734 non-null  int64 \n",
      " 11  Paid in Full                    872734 non-null  int64 \n",
      " 12  SBA_Approved_Amount             872734 non-null  int64 \n",
      " 13  Franchise_Status                872734 non-null  int64 \n",
      " 14  Month_Of_Approval               872734 non-null  object\n",
      "dtypes: int64(9), object(6)\n",
      "memory usage: 99.9+ MB\n"
     ]
    }
   ],
   "source": [
    "new_df.info()"
   ]
  },
  {
   "cell_type": "code",
   "execution_count": 74,
   "id": "5f00c345-547c-44bf-a8cc-96ce712d4621",
   "metadata": {},
   "outputs": [],
   "source": [
    "from sklearn.preprocessing import StandardScaler\n",
    "scaler = StandardScaler()\n",
    "columns_to_scale = ['Loan_Term', 'Number_Of_Employees', 'Disbursement_Gross', 'SBA_Approved_Amount']\n",
    "train_scaled_values = scaler.fit_transform(X_train[columns_to_scale])"
   ]
  },
  {
   "cell_type": "code",
   "execution_count": 75,
   "id": "8d1b7081-b2ea-4c13-9631-eadae36271c9",
   "metadata": {},
   "outputs": [
    {
     "data": {
      "text/html": [
       "<div>\n",
       "<style scoped>\n",
       "    .dataframe tbody tr th:only-of-type {\n",
       "        vertical-align: middle;\n",
       "    }\n",
       "\n",
       "    .dataframe tbody tr th {\n",
       "        vertical-align: top;\n",
       "    }\n",
       "\n",
       "    .dataframe thead th {\n",
       "        text-align: right;\n",
       "    }\n",
       "</style>\n",
       "<table border=\"1\" class=\"dataframe\">\n",
       "  <thead>\n",
       "    <tr style=\"text-align: right;\">\n",
       "      <th></th>\n",
       "      <th>Loan_Term</th>\n",
       "      <th>Number_Of_Employees</th>\n",
       "      <th>Revolving_Line_Of_Credit</th>\n",
       "      <th>Low_Documentation_Loan_Program</th>\n",
       "      <th>Disbursement_Gross</th>\n",
       "      <th>SBA_Approved_Amount</th>\n",
       "      <th>Franchise_Status</th>\n",
       "      <th>NAICS_U.S._Industry_Title_Accommodation_FoodServices</th>\n",
       "      <th>NAICS_U.S._Industry_Title_Administrative&amp;Support_WasteManagement_RemediationServices</th>\n",
       "      <th>NAICS_U.S._Industry_Title_Agriculture_Forestry_Fishing_Hunting</th>\n",
       "      <th>...</th>\n",
       "      <th>Month_Of_Approval_July</th>\n",
       "      <th>Month_Of_Approval_June</th>\n",
       "      <th>Month_Of_Approval_March</th>\n",
       "      <th>Month_Of_Approval_May</th>\n",
       "      <th>Month_Of_Approval_November</th>\n",
       "      <th>Month_Of_Approval_October</th>\n",
       "      <th>Month_Of_Approval_September</th>\n",
       "      <th>Business_Type_Existing</th>\n",
       "      <th>Business_Type_New</th>\n",
       "      <th>Business_Type_Unknown</th>\n",
       "    </tr>\n",
       "  </thead>\n",
       "  <tbody>\n",
       "    <tr>\n",
       "      <th>538375</th>\n",
       "      <td>1.619406</td>\n",
       "      <td>0.046533</td>\n",
       "      <td>0</td>\n",
       "      <td>0</td>\n",
       "      <td>1.979253</td>\n",
       "      <td>2.714961</td>\n",
       "      <td>0</td>\n",
       "      <td>False</td>\n",
       "      <td>False</td>\n",
       "      <td>False</td>\n",
       "      <td>...</td>\n",
       "      <td>False</td>\n",
       "      <td>False</td>\n",
       "      <td>False</td>\n",
       "      <td>False</td>\n",
       "      <td>False</td>\n",
       "      <td>False</td>\n",
       "      <td>False</td>\n",
       "      <td>False</td>\n",
       "      <td>True</td>\n",
       "      <td>False</td>\n",
       "    </tr>\n",
       "    <tr>\n",
       "      <th>169651</th>\n",
       "      <td>-0.651078</td>\n",
       "      <td>-0.114371</td>\n",
       "      <td>0</td>\n",
       "      <td>0</td>\n",
       "      <td>0.402843</td>\n",
       "      <td>0.035512</td>\n",
       "      <td>0</td>\n",
       "      <td>False</td>\n",
       "      <td>False</td>\n",
       "      <td>False</td>\n",
       "      <td>...</td>\n",
       "      <td>True</td>\n",
       "      <td>False</td>\n",
       "      <td>False</td>\n",
       "      <td>False</td>\n",
       "      <td>False</td>\n",
       "      <td>False</td>\n",
       "      <td>False</td>\n",
       "      <td>False</td>\n",
       "      <td>True</td>\n",
       "      <td>False</td>\n",
       "    </tr>\n",
       "    <tr>\n",
       "      <th>726438</th>\n",
       "      <td>2.376234</td>\n",
       "      <td>-0.114371</td>\n",
       "      <td>0</td>\n",
       "      <td>0</td>\n",
       "      <td>-0.012913</td>\n",
       "      <td>-0.008057</td>\n",
       "      <td>0</td>\n",
       "      <td>False</td>\n",
       "      <td>False</td>\n",
       "      <td>False</td>\n",
       "      <td>...</td>\n",
       "      <td>False</td>\n",
       "      <td>False</td>\n",
       "      <td>False</td>\n",
       "      <td>False</td>\n",
       "      <td>True</td>\n",
       "      <td>False</td>\n",
       "      <td>False</td>\n",
       "      <td>True</td>\n",
       "      <td>False</td>\n",
       "      <td>False</td>\n",
       "    </tr>\n",
       "    <tr>\n",
       "      <th>844044</th>\n",
       "      <td>2.376234</td>\n",
       "      <td>0.220846</td>\n",
       "      <td>0</td>\n",
       "      <td>0</td>\n",
       "      <td>2.724150</td>\n",
       "      <td>2.573365</td>\n",
       "      <td>0</td>\n",
       "      <td>False</td>\n",
       "      <td>False</td>\n",
       "      <td>False</td>\n",
       "      <td>...</td>\n",
       "      <td>True</td>\n",
       "      <td>False</td>\n",
       "      <td>False</td>\n",
       "      <td>False</td>\n",
       "      <td>False</td>\n",
       "      <td>False</td>\n",
       "      <td>False</td>\n",
       "      <td>True</td>\n",
       "      <td>False</td>\n",
       "      <td>False</td>\n",
       "    </tr>\n",
       "    <tr>\n",
       "      <th>575471</th>\n",
       "      <td>-0.348347</td>\n",
       "      <td>-0.100963</td>\n",
       "      <td>0</td>\n",
       "      <td>0</td>\n",
       "      <td>-0.601901</td>\n",
       "      <td>-0.543947</td>\n",
       "      <td>0</td>\n",
       "      <td>False</td>\n",
       "      <td>False</td>\n",
       "      <td>False</td>\n",
       "      <td>...</td>\n",
       "      <td>False</td>\n",
       "      <td>False</td>\n",
       "      <td>False</td>\n",
       "      <td>False</td>\n",
       "      <td>False</td>\n",
       "      <td>False</td>\n",
       "      <td>False</td>\n",
       "      <td>True</td>\n",
       "      <td>False</td>\n",
       "      <td>False</td>\n",
       "    </tr>\n",
       "  </tbody>\n",
       "</table>\n",
       "<p>5 rows × 97 columns</p>\n",
       "</div>"
      ],
      "text/plain": [
       "        Loan_Term  Number_Of_Employees  Revolving_Line_Of_Credit  \\\n",
       "538375   1.619406             0.046533                         0   \n",
       "169651  -0.651078            -0.114371                         0   \n",
       "726438   2.376234            -0.114371                         0   \n",
       "844044   2.376234             0.220846                         0   \n",
       "575471  -0.348347            -0.100963                         0   \n",
       "\n",
       "        Low_Documentation_Loan_Program  Disbursement_Gross  \\\n",
       "538375                               0            1.979253   \n",
       "169651                               0            0.402843   \n",
       "726438                               0           -0.012913   \n",
       "844044                               0            2.724150   \n",
       "575471                               0           -0.601901   \n",
       "\n",
       "        SBA_Approved_Amount  Franchise_Status  \\\n",
       "538375             2.714961                 0   \n",
       "169651             0.035512                 0   \n",
       "726438            -0.008057                 0   \n",
       "844044             2.573365                 0   \n",
       "575471            -0.543947                 0   \n",
       "\n",
       "        NAICS_U.S._Industry_Title_Accommodation_FoodServices  \\\n",
       "538375                                              False      \n",
       "169651                                              False      \n",
       "726438                                              False      \n",
       "844044                                              False      \n",
       "575471                                              False      \n",
       "\n",
       "        NAICS_U.S._Industry_Title_Administrative&Support_WasteManagement_RemediationServices  \\\n",
       "538375                                              False                                      \n",
       "169651                                              False                                      \n",
       "726438                                              False                                      \n",
       "844044                                              False                                      \n",
       "575471                                              False                                      \n",
       "\n",
       "        NAICS_U.S._Industry_Title_Agriculture_Forestry_Fishing_Hunting  ...  \\\n",
       "538375                                              False               ...   \n",
       "169651                                              False               ...   \n",
       "726438                                              False               ...   \n",
       "844044                                              False               ...   \n",
       "575471                                              False               ...   \n",
       "\n",
       "        Month_Of_Approval_July  Month_Of_Approval_June  \\\n",
       "538375                   False                   False   \n",
       "169651                    True                   False   \n",
       "726438                   False                   False   \n",
       "844044                    True                   False   \n",
       "575471                   False                   False   \n",
       "\n",
       "        Month_Of_Approval_March  Month_Of_Approval_May  \\\n",
       "538375                    False                  False   \n",
       "169651                    False                  False   \n",
       "726438                    False                  False   \n",
       "844044                    False                  False   \n",
       "575471                    False                  False   \n",
       "\n",
       "        Month_Of_Approval_November  Month_Of_Approval_October  \\\n",
       "538375                       False                      False   \n",
       "169651                       False                      False   \n",
       "726438                        True                      False   \n",
       "844044                       False                      False   \n",
       "575471                       False                      False   \n",
       "\n",
       "        Month_Of_Approval_September  Business_Type_Existing  \\\n",
       "538375                        False                   False   \n",
       "169651                        False                   False   \n",
       "726438                        False                    True   \n",
       "844044                        False                    True   \n",
       "575471                        False                    True   \n",
       "\n",
       "        Business_Type_New  Business_Type_Unknown  \n",
       "538375               True                  False  \n",
       "169651               True                  False  \n",
       "726438              False                  False  \n",
       "844044              False                  False  \n",
       "575471              False                  False  \n",
       "\n",
       "[5 rows x 97 columns]"
      ]
     },
     "execution_count": 75,
     "metadata": {},
     "output_type": "execute_result"
    }
   ],
   "source": [
    "# Reassign the scaled values back to the DataFrame\n",
    "X_train[columns_to_scale] = train_scaled_values\n",
    "\n",
    "# Check the DataFrame to ensure it has been updated\n",
    "X_train.head()"
   ]
  },
  {
   "cell_type": "markdown",
   "id": "ceb719ce-3399-44bc-be4b-80f4e205eedb",
   "metadata": {},
   "source": [
    "**Normalize numerical colums in X_valid**"
   ]
  },
  {
   "cell_type": "code",
   "execution_count": 77,
   "id": "56466b67-9cc8-43a1-ae6c-9a4d80c91a9e",
   "metadata": {},
   "outputs": [
    {
     "data": {
      "text/html": [
       "<div>\n",
       "<style scoped>\n",
       "    .dataframe tbody tr th:only-of-type {\n",
       "        vertical-align: middle;\n",
       "    }\n",
       "\n",
       "    .dataframe tbody tr th {\n",
       "        vertical-align: top;\n",
       "    }\n",
       "\n",
       "    .dataframe thead th {\n",
       "        text-align: right;\n",
       "    }\n",
       "</style>\n",
       "<table border=\"1\" class=\"dataframe\">\n",
       "  <thead>\n",
       "    <tr style=\"text-align: right;\">\n",
       "      <th></th>\n",
       "      <th>Loan_Term</th>\n",
       "      <th>Number_Of_Employees</th>\n",
       "      <th>Revolving_Line_Of_Credit</th>\n",
       "      <th>Low_Documentation_Loan_Program</th>\n",
       "      <th>Disbursement_Gross</th>\n",
       "      <th>SBA_Approved_Amount</th>\n",
       "      <th>Franchise_Status</th>\n",
       "      <th>NAICS_U.S._Industry_Title_Accommodation_FoodServices</th>\n",
       "      <th>NAICS_U.S._Industry_Title_Administrative&amp;Support_WasteManagement_RemediationServices</th>\n",
       "      <th>NAICS_U.S._Industry_Title_Agriculture_Forestry_Fishing_Hunting</th>\n",
       "      <th>...</th>\n",
       "      <th>Month_Of_Approval_July</th>\n",
       "      <th>Month_Of_Approval_June</th>\n",
       "      <th>Month_Of_Approval_March</th>\n",
       "      <th>Month_Of_Approval_May</th>\n",
       "      <th>Month_Of_Approval_November</th>\n",
       "      <th>Month_Of_Approval_October</th>\n",
       "      <th>Month_Of_Approval_September</th>\n",
       "      <th>Business_Type_Existing</th>\n",
       "      <th>Business_Type_New</th>\n",
       "      <th>Business_Type_Unknown</th>\n",
       "    </tr>\n",
       "  </thead>\n",
       "  <tbody>\n",
       "    <tr>\n",
       "      <th>210651</th>\n",
       "      <td>2.371676</td>\n",
       "      <td>-0.084932</td>\n",
       "      <td>0</td>\n",
       "      <td>0</td>\n",
       "      <td>-0.508757</td>\n",
       "      <td>-0.467214</td>\n",
       "      <td>0</td>\n",
       "      <td>False</td>\n",
       "      <td>False</td>\n",
       "      <td>False</td>\n",
       "      <td>...</td>\n",
       "      <td>False</td>\n",
       "      <td>False</td>\n",
       "      <td>False</td>\n",
       "      <td>False</td>\n",
       "      <td>True</td>\n",
       "      <td>False</td>\n",
       "      <td>False</td>\n",
       "      <td>True</td>\n",
       "      <td>False</td>\n",
       "      <td>False</td>\n",
       "    </tr>\n",
       "    <tr>\n",
       "      <th>759808</th>\n",
       "      <td>0.102310</td>\n",
       "      <td>0.008104</td>\n",
       "      <td>0</td>\n",
       "      <td>0</td>\n",
       "      <td>0.084890</td>\n",
       "      <td>0.136358</td>\n",
       "      <td>0</td>\n",
       "      <td>False</td>\n",
       "      <td>False</td>\n",
       "      <td>False</td>\n",
       "      <td>...</td>\n",
       "      <td>False</td>\n",
       "      <td>False</td>\n",
       "      <td>False</td>\n",
       "      <td>True</td>\n",
       "      <td>False</td>\n",
       "      <td>False</td>\n",
       "      <td>False</td>\n",
       "      <td>True</td>\n",
       "      <td>False</td>\n",
       "      <td>False</td>\n",
       "    </tr>\n",
       "    <tr>\n",
       "      <th>573055</th>\n",
       "      <td>1.615220</td>\n",
       "      <td>0.047977</td>\n",
       "      <td>0</td>\n",
       "      <td>0</td>\n",
       "      <td>3.011469</td>\n",
       "      <td>4.056927</td>\n",
       "      <td>0</td>\n",
       "      <td>False</td>\n",
       "      <td>False</td>\n",
       "      <td>False</td>\n",
       "      <td>...</td>\n",
       "      <td>False</td>\n",
       "      <td>False</td>\n",
       "      <td>False</td>\n",
       "      <td>False</td>\n",
       "      <td>False</td>\n",
       "      <td>True</td>\n",
       "      <td>False</td>\n",
       "      <td>True</td>\n",
       "      <td>False</td>\n",
       "      <td>False</td>\n",
       "    </tr>\n",
       "    <tr>\n",
       "      <th>832891</th>\n",
       "      <td>2.384283</td>\n",
       "      <td>-0.084932</td>\n",
       "      <td>0</td>\n",
       "      <td>0</td>\n",
       "      <td>0.682010</td>\n",
       "      <td>0.655218</td>\n",
       "      <td>0</td>\n",
       "      <td>False</td>\n",
       "      <td>False</td>\n",
       "      <td>False</td>\n",
       "      <td>...</td>\n",
       "      <td>False</td>\n",
       "      <td>False</td>\n",
       "      <td>False</td>\n",
       "      <td>False</td>\n",
       "      <td>False</td>\n",
       "      <td>False</td>\n",
       "      <td>False</td>\n",
       "      <td>True</td>\n",
       "      <td>False</td>\n",
       "      <td>False</td>\n",
       "    </tr>\n",
       "    <tr>\n",
       "      <th>472470</th>\n",
       "      <td>-0.792828</td>\n",
       "      <td>-0.018477</td>\n",
       "      <td>0</td>\n",
       "      <td>0</td>\n",
       "      <td>-0.428910</td>\n",
       "      <td>-0.357795</td>\n",
       "      <td>0</td>\n",
       "      <td>False</td>\n",
       "      <td>False</td>\n",
       "      <td>False</td>\n",
       "      <td>...</td>\n",
       "      <td>False</td>\n",
       "      <td>False</td>\n",
       "      <td>False</td>\n",
       "      <td>False</td>\n",
       "      <td>False</td>\n",
       "      <td>False</td>\n",
       "      <td>False</td>\n",
       "      <td>True</td>\n",
       "      <td>False</td>\n",
       "      <td>False</td>\n",
       "    </tr>\n",
       "  </tbody>\n",
       "</table>\n",
       "<p>5 rows × 97 columns</p>\n",
       "</div>"
      ],
      "text/plain": [
       "        Loan_Term  Number_Of_Employees  Revolving_Line_Of_Credit  \\\n",
       "210651   2.371676            -0.084932                         0   \n",
       "759808   0.102310             0.008104                         0   \n",
       "573055   1.615220             0.047977                         0   \n",
       "832891   2.384283            -0.084932                         0   \n",
       "472470  -0.792828            -0.018477                         0   \n",
       "\n",
       "        Low_Documentation_Loan_Program  Disbursement_Gross  \\\n",
       "210651                               0           -0.508757   \n",
       "759808                               0            0.084890   \n",
       "573055                               0            3.011469   \n",
       "832891                               0            0.682010   \n",
       "472470                               0           -0.428910   \n",
       "\n",
       "        SBA_Approved_Amount  Franchise_Status  \\\n",
       "210651            -0.467214                 0   \n",
       "759808             0.136358                 0   \n",
       "573055             4.056927                 0   \n",
       "832891             0.655218                 0   \n",
       "472470            -0.357795                 0   \n",
       "\n",
       "        NAICS_U.S._Industry_Title_Accommodation_FoodServices  \\\n",
       "210651                                              False      \n",
       "759808                                              False      \n",
       "573055                                              False      \n",
       "832891                                              False      \n",
       "472470                                              False      \n",
       "\n",
       "        NAICS_U.S._Industry_Title_Administrative&Support_WasteManagement_RemediationServices  \\\n",
       "210651                                              False                                      \n",
       "759808                                              False                                      \n",
       "573055                                              False                                      \n",
       "832891                                              False                                      \n",
       "472470                                              False                                      \n",
       "\n",
       "        NAICS_U.S._Industry_Title_Agriculture_Forestry_Fishing_Hunting  ...  \\\n",
       "210651                                              False               ...   \n",
       "759808                                              False               ...   \n",
       "573055                                              False               ...   \n",
       "832891                                              False               ...   \n",
       "472470                                              False               ...   \n",
       "\n",
       "        Month_Of_Approval_July  Month_Of_Approval_June  \\\n",
       "210651                   False                   False   \n",
       "759808                   False                   False   \n",
       "573055                   False                   False   \n",
       "832891                   False                   False   \n",
       "472470                   False                   False   \n",
       "\n",
       "        Month_Of_Approval_March  Month_Of_Approval_May  \\\n",
       "210651                    False                  False   \n",
       "759808                    False                   True   \n",
       "573055                    False                  False   \n",
       "832891                    False                  False   \n",
       "472470                    False                  False   \n",
       "\n",
       "        Month_Of_Approval_November  Month_Of_Approval_October  \\\n",
       "210651                        True                      False   \n",
       "759808                       False                      False   \n",
       "573055                       False                       True   \n",
       "832891                       False                      False   \n",
       "472470                       False                      False   \n",
       "\n",
       "        Month_Of_Approval_September  Business_Type_Existing  \\\n",
       "210651                        False                    True   \n",
       "759808                        False                    True   \n",
       "573055                        False                    True   \n",
       "832891                        False                    True   \n",
       "472470                        False                    True   \n",
       "\n",
       "        Business_Type_New  Business_Type_Unknown  \n",
       "210651              False                  False  \n",
       "759808              False                  False  \n",
       "573055              False                  False  \n",
       "832891              False                  False  \n",
       "472470              False                  False  \n",
       "\n",
       "[5 rows x 97 columns]"
      ]
     },
     "execution_count": 77,
     "metadata": {},
     "output_type": "execute_result"
    }
   ],
   "source": [
    "valid_scaled_values = scaler.fit_transform(X_valid[columns_to_scale])\n",
    "# Reassign the scaled values back to the DataFrame\n",
    "X_valid[columns_to_scale] = valid_scaled_values\n",
    "# Check the DataFrame to ensure it has been updated\n",
    "X_valid.head()"
   ]
  },
  {
   "cell_type": "code",
   "execution_count": 78,
   "id": "df1ac6f5-b775-471a-8dd8-13c9ac6e6999",
   "metadata": {},
   "outputs": [
    {
     "name": "stderr",
     "output_type": "stream",
     "text": [
      "C:\\Users\\dylan\\AppData\\Local\\Temp\\ipykernel_78472\\4139230606.py:2: FutureWarning: DataFrame.applymap has been deprecated. Use DataFrame.map instead.\n",
      "  X_train = X_train.applymap(lambda x: int(x) if isinstance(x, bool) else x)\n",
      "C:\\Users\\dylan\\AppData\\Local\\Temp\\ipykernel_78472\\4139230606.py:3: FutureWarning: DataFrame.applymap has been deprecated. Use DataFrame.map instead.\n",
      "  X_valid = X_valid.applymap(lambda x: int(x) if isinstance(x, bool) else x)\n"
     ]
    }
   ],
   "source": [
    "# Convert only boolean columns to integers (0s and 1s)\n",
    "X_train = X_train.applymap(lambda x: int(x) if isinstance(x, bool) else x)\n",
    "X_valid = X_valid.applymap(lambda x: int(x) if isinstance(x, bool) else x)"
   ]
  },
  {
   "cell_type": "code",
   "execution_count": 79,
   "id": "a5e406c5-2830-4e8c-b0eb-73127dd293bb",
   "metadata": {},
   "outputs": [
    {
     "data": {
      "text/html": [
       "<div>\n",
       "<style scoped>\n",
       "    .dataframe tbody tr th:only-of-type {\n",
       "        vertical-align: middle;\n",
       "    }\n",
       "\n",
       "    .dataframe tbody tr th {\n",
       "        vertical-align: top;\n",
       "    }\n",
       "\n",
       "    .dataframe thead th {\n",
       "        text-align: right;\n",
       "    }\n",
       "</style>\n",
       "<table border=\"1\" class=\"dataframe\">\n",
       "  <thead>\n",
       "    <tr style=\"text-align: right;\">\n",
       "      <th></th>\n",
       "      <th>Loan_Term</th>\n",
       "      <th>Number_Of_Employees</th>\n",
       "      <th>Revolving_Line_Of_Credit</th>\n",
       "      <th>Low_Documentation_Loan_Program</th>\n",
       "      <th>Disbursement_Gross</th>\n",
       "      <th>SBA_Approved_Amount</th>\n",
       "      <th>Franchise_Status</th>\n",
       "      <th>NAICS_U.S._Industry_Title_Accommodation_FoodServices</th>\n",
       "      <th>NAICS_U.S._Industry_Title_Administrative&amp;Support_WasteManagement_RemediationServices</th>\n",
       "      <th>NAICS_U.S._Industry_Title_Agriculture_Forestry_Fishing_Hunting</th>\n",
       "      <th>...</th>\n",
       "      <th>Month_Of_Approval_July</th>\n",
       "      <th>Month_Of_Approval_June</th>\n",
       "      <th>Month_Of_Approval_March</th>\n",
       "      <th>Month_Of_Approval_May</th>\n",
       "      <th>Month_Of_Approval_November</th>\n",
       "      <th>Month_Of_Approval_October</th>\n",
       "      <th>Month_Of_Approval_September</th>\n",
       "      <th>Business_Type_Existing</th>\n",
       "      <th>Business_Type_New</th>\n",
       "      <th>Business_Type_Unknown</th>\n",
       "    </tr>\n",
       "  </thead>\n",
       "  <tbody>\n",
       "    <tr>\n",
       "      <th>538375</th>\n",
       "      <td>1.619406</td>\n",
       "      <td>0.046533</td>\n",
       "      <td>0</td>\n",
       "      <td>0</td>\n",
       "      <td>1.979253</td>\n",
       "      <td>2.714961</td>\n",
       "      <td>0</td>\n",
       "      <td>0</td>\n",
       "      <td>0</td>\n",
       "      <td>0</td>\n",
       "      <td>...</td>\n",
       "      <td>0</td>\n",
       "      <td>0</td>\n",
       "      <td>0</td>\n",
       "      <td>0</td>\n",
       "      <td>0</td>\n",
       "      <td>0</td>\n",
       "      <td>0</td>\n",
       "      <td>0</td>\n",
       "      <td>1</td>\n",
       "      <td>0</td>\n",
       "    </tr>\n",
       "    <tr>\n",
       "      <th>169651</th>\n",
       "      <td>-0.651078</td>\n",
       "      <td>-0.114371</td>\n",
       "      <td>0</td>\n",
       "      <td>0</td>\n",
       "      <td>0.402843</td>\n",
       "      <td>0.035512</td>\n",
       "      <td>0</td>\n",
       "      <td>0</td>\n",
       "      <td>0</td>\n",
       "      <td>0</td>\n",
       "      <td>...</td>\n",
       "      <td>1</td>\n",
       "      <td>0</td>\n",
       "      <td>0</td>\n",
       "      <td>0</td>\n",
       "      <td>0</td>\n",
       "      <td>0</td>\n",
       "      <td>0</td>\n",
       "      <td>0</td>\n",
       "      <td>1</td>\n",
       "      <td>0</td>\n",
       "    </tr>\n",
       "    <tr>\n",
       "      <th>726438</th>\n",
       "      <td>2.376234</td>\n",
       "      <td>-0.114371</td>\n",
       "      <td>0</td>\n",
       "      <td>0</td>\n",
       "      <td>-0.012913</td>\n",
       "      <td>-0.008057</td>\n",
       "      <td>0</td>\n",
       "      <td>0</td>\n",
       "      <td>0</td>\n",
       "      <td>0</td>\n",
       "      <td>...</td>\n",
       "      <td>0</td>\n",
       "      <td>0</td>\n",
       "      <td>0</td>\n",
       "      <td>0</td>\n",
       "      <td>1</td>\n",
       "      <td>0</td>\n",
       "      <td>0</td>\n",
       "      <td>1</td>\n",
       "      <td>0</td>\n",
       "      <td>0</td>\n",
       "    </tr>\n",
       "    <tr>\n",
       "      <th>844044</th>\n",
       "      <td>2.376234</td>\n",
       "      <td>0.220846</td>\n",
       "      <td>0</td>\n",
       "      <td>0</td>\n",
       "      <td>2.724150</td>\n",
       "      <td>2.573365</td>\n",
       "      <td>0</td>\n",
       "      <td>0</td>\n",
       "      <td>0</td>\n",
       "      <td>0</td>\n",
       "      <td>...</td>\n",
       "      <td>1</td>\n",
       "      <td>0</td>\n",
       "      <td>0</td>\n",
       "      <td>0</td>\n",
       "      <td>0</td>\n",
       "      <td>0</td>\n",
       "      <td>0</td>\n",
       "      <td>1</td>\n",
       "      <td>0</td>\n",
       "      <td>0</td>\n",
       "    </tr>\n",
       "    <tr>\n",
       "      <th>575471</th>\n",
       "      <td>-0.348347</td>\n",
       "      <td>-0.100963</td>\n",
       "      <td>0</td>\n",
       "      <td>0</td>\n",
       "      <td>-0.601901</td>\n",
       "      <td>-0.543947</td>\n",
       "      <td>0</td>\n",
       "      <td>0</td>\n",
       "      <td>0</td>\n",
       "      <td>0</td>\n",
       "      <td>...</td>\n",
       "      <td>0</td>\n",
       "      <td>0</td>\n",
       "      <td>0</td>\n",
       "      <td>0</td>\n",
       "      <td>0</td>\n",
       "      <td>0</td>\n",
       "      <td>0</td>\n",
       "      <td>1</td>\n",
       "      <td>0</td>\n",
       "      <td>0</td>\n",
       "    </tr>\n",
       "  </tbody>\n",
       "</table>\n",
       "<p>5 rows × 97 columns</p>\n",
       "</div>"
      ],
      "text/plain": [
       "        Loan_Term  Number_Of_Employees  Revolving_Line_Of_Credit  \\\n",
       "538375   1.619406             0.046533                         0   \n",
       "169651  -0.651078            -0.114371                         0   \n",
       "726438   2.376234            -0.114371                         0   \n",
       "844044   2.376234             0.220846                         0   \n",
       "575471  -0.348347            -0.100963                         0   \n",
       "\n",
       "        Low_Documentation_Loan_Program  Disbursement_Gross  \\\n",
       "538375                               0            1.979253   \n",
       "169651                               0            0.402843   \n",
       "726438                               0           -0.012913   \n",
       "844044                               0            2.724150   \n",
       "575471                               0           -0.601901   \n",
       "\n",
       "        SBA_Approved_Amount  Franchise_Status  \\\n",
       "538375             2.714961                 0   \n",
       "169651             0.035512                 0   \n",
       "726438            -0.008057                 0   \n",
       "844044             2.573365                 0   \n",
       "575471            -0.543947                 0   \n",
       "\n",
       "        NAICS_U.S._Industry_Title_Accommodation_FoodServices  \\\n",
       "538375                                                  0      \n",
       "169651                                                  0      \n",
       "726438                                                  0      \n",
       "844044                                                  0      \n",
       "575471                                                  0      \n",
       "\n",
       "        NAICS_U.S._Industry_Title_Administrative&Support_WasteManagement_RemediationServices  \\\n",
       "538375                                                  0                                      \n",
       "169651                                                  0                                      \n",
       "726438                                                  0                                      \n",
       "844044                                                  0                                      \n",
       "575471                                                  0                                      \n",
       "\n",
       "        NAICS_U.S._Industry_Title_Agriculture_Forestry_Fishing_Hunting  ...  \\\n",
       "538375                                                  0               ...   \n",
       "169651                                                  0               ...   \n",
       "726438                                                  0               ...   \n",
       "844044                                                  0               ...   \n",
       "575471                                                  0               ...   \n",
       "\n",
       "        Month_Of_Approval_July  Month_Of_Approval_June  \\\n",
       "538375                       0                       0   \n",
       "169651                       1                       0   \n",
       "726438                       0                       0   \n",
       "844044                       1                       0   \n",
       "575471                       0                       0   \n",
       "\n",
       "        Month_Of_Approval_March  Month_Of_Approval_May  \\\n",
       "538375                        0                      0   \n",
       "169651                        0                      0   \n",
       "726438                        0                      0   \n",
       "844044                        0                      0   \n",
       "575471                        0                      0   \n",
       "\n",
       "        Month_Of_Approval_November  Month_Of_Approval_October  \\\n",
       "538375                           0                          0   \n",
       "169651                           0                          0   \n",
       "726438                           1                          0   \n",
       "844044                           0                          0   \n",
       "575471                           0                          0   \n",
       "\n",
       "        Month_Of_Approval_September  Business_Type_Existing  \\\n",
       "538375                            0                       0   \n",
       "169651                            0                       0   \n",
       "726438                            0                       1   \n",
       "844044                            0                       1   \n",
       "575471                            0                       1   \n",
       "\n",
       "        Business_Type_New  Business_Type_Unknown  \n",
       "538375                  1                      0  \n",
       "169651                  1                      0  \n",
       "726438                  0                      0  \n",
       "844044                  0                      0  \n",
       "575471                  0                      0  \n",
       "\n",
       "[5 rows x 97 columns]"
      ]
     },
     "execution_count": 79,
     "metadata": {},
     "output_type": "execute_result"
    }
   ],
   "source": [
    "X_train.head()"
   ]
  },
  {
   "cell_type": "code",
   "execution_count": 80,
   "id": "97420d8e-f1a0-4fe7-96ac-0588f8620076",
   "metadata": {},
   "outputs": [
    {
     "data": {
      "text/html": [
       "<div>\n",
       "<style scoped>\n",
       "    .dataframe tbody tr th:only-of-type {\n",
       "        vertical-align: middle;\n",
       "    }\n",
       "\n",
       "    .dataframe tbody tr th {\n",
       "        vertical-align: top;\n",
       "    }\n",
       "\n",
       "    .dataframe thead th {\n",
       "        text-align: right;\n",
       "    }\n",
       "</style>\n",
       "<table border=\"1\" class=\"dataframe\">\n",
       "  <thead>\n",
       "    <tr style=\"text-align: right;\">\n",
       "      <th></th>\n",
       "      <th>Loan_Term</th>\n",
       "      <th>Number_Of_Employees</th>\n",
       "      <th>Revolving_Line_Of_Credit</th>\n",
       "      <th>Low_Documentation_Loan_Program</th>\n",
       "      <th>Disbursement_Gross</th>\n",
       "      <th>SBA_Approved_Amount</th>\n",
       "      <th>Franchise_Status</th>\n",
       "      <th>NAICS_U.S._Industry_Title_Accommodation_FoodServices</th>\n",
       "      <th>NAICS_U.S._Industry_Title_Administrative&amp;Support_WasteManagement_RemediationServices</th>\n",
       "      <th>NAICS_U.S._Industry_Title_Agriculture_Forestry_Fishing_Hunting</th>\n",
       "      <th>...</th>\n",
       "      <th>Month_Of_Approval_July</th>\n",
       "      <th>Month_Of_Approval_June</th>\n",
       "      <th>Month_Of_Approval_March</th>\n",
       "      <th>Month_Of_Approval_May</th>\n",
       "      <th>Month_Of_Approval_November</th>\n",
       "      <th>Month_Of_Approval_October</th>\n",
       "      <th>Month_Of_Approval_September</th>\n",
       "      <th>Business_Type_Existing</th>\n",
       "      <th>Business_Type_New</th>\n",
       "      <th>Business_Type_Unknown</th>\n",
       "    </tr>\n",
       "  </thead>\n",
       "  <tbody>\n",
       "    <tr>\n",
       "      <th>210651</th>\n",
       "      <td>2.371676</td>\n",
       "      <td>-0.084932</td>\n",
       "      <td>0</td>\n",
       "      <td>0</td>\n",
       "      <td>-0.508757</td>\n",
       "      <td>-0.467214</td>\n",
       "      <td>0</td>\n",
       "      <td>0</td>\n",
       "      <td>0</td>\n",
       "      <td>0</td>\n",
       "      <td>...</td>\n",
       "      <td>0</td>\n",
       "      <td>0</td>\n",
       "      <td>0</td>\n",
       "      <td>0</td>\n",
       "      <td>1</td>\n",
       "      <td>0</td>\n",
       "      <td>0</td>\n",
       "      <td>1</td>\n",
       "      <td>0</td>\n",
       "      <td>0</td>\n",
       "    </tr>\n",
       "    <tr>\n",
       "      <th>759808</th>\n",
       "      <td>0.102310</td>\n",
       "      <td>0.008104</td>\n",
       "      <td>0</td>\n",
       "      <td>0</td>\n",
       "      <td>0.084890</td>\n",
       "      <td>0.136358</td>\n",
       "      <td>0</td>\n",
       "      <td>0</td>\n",
       "      <td>0</td>\n",
       "      <td>0</td>\n",
       "      <td>...</td>\n",
       "      <td>0</td>\n",
       "      <td>0</td>\n",
       "      <td>0</td>\n",
       "      <td>1</td>\n",
       "      <td>0</td>\n",
       "      <td>0</td>\n",
       "      <td>0</td>\n",
       "      <td>1</td>\n",
       "      <td>0</td>\n",
       "      <td>0</td>\n",
       "    </tr>\n",
       "    <tr>\n",
       "      <th>573055</th>\n",
       "      <td>1.615220</td>\n",
       "      <td>0.047977</td>\n",
       "      <td>0</td>\n",
       "      <td>0</td>\n",
       "      <td>3.011469</td>\n",
       "      <td>4.056927</td>\n",
       "      <td>0</td>\n",
       "      <td>0</td>\n",
       "      <td>0</td>\n",
       "      <td>0</td>\n",
       "      <td>...</td>\n",
       "      <td>0</td>\n",
       "      <td>0</td>\n",
       "      <td>0</td>\n",
       "      <td>0</td>\n",
       "      <td>0</td>\n",
       "      <td>1</td>\n",
       "      <td>0</td>\n",
       "      <td>1</td>\n",
       "      <td>0</td>\n",
       "      <td>0</td>\n",
       "    </tr>\n",
       "    <tr>\n",
       "      <th>832891</th>\n",
       "      <td>2.384283</td>\n",
       "      <td>-0.084932</td>\n",
       "      <td>0</td>\n",
       "      <td>0</td>\n",
       "      <td>0.682010</td>\n",
       "      <td>0.655218</td>\n",
       "      <td>0</td>\n",
       "      <td>0</td>\n",
       "      <td>0</td>\n",
       "      <td>0</td>\n",
       "      <td>...</td>\n",
       "      <td>0</td>\n",
       "      <td>0</td>\n",
       "      <td>0</td>\n",
       "      <td>0</td>\n",
       "      <td>0</td>\n",
       "      <td>0</td>\n",
       "      <td>0</td>\n",
       "      <td>1</td>\n",
       "      <td>0</td>\n",
       "      <td>0</td>\n",
       "    </tr>\n",
       "    <tr>\n",
       "      <th>472470</th>\n",
       "      <td>-0.792828</td>\n",
       "      <td>-0.018477</td>\n",
       "      <td>0</td>\n",
       "      <td>0</td>\n",
       "      <td>-0.428910</td>\n",
       "      <td>-0.357795</td>\n",
       "      <td>0</td>\n",
       "      <td>0</td>\n",
       "      <td>0</td>\n",
       "      <td>0</td>\n",
       "      <td>...</td>\n",
       "      <td>0</td>\n",
       "      <td>0</td>\n",
       "      <td>0</td>\n",
       "      <td>0</td>\n",
       "      <td>0</td>\n",
       "      <td>0</td>\n",
       "      <td>0</td>\n",
       "      <td>1</td>\n",
       "      <td>0</td>\n",
       "      <td>0</td>\n",
       "    </tr>\n",
       "  </tbody>\n",
       "</table>\n",
       "<p>5 rows × 97 columns</p>\n",
       "</div>"
      ],
      "text/plain": [
       "        Loan_Term  Number_Of_Employees  Revolving_Line_Of_Credit  \\\n",
       "210651   2.371676            -0.084932                         0   \n",
       "759808   0.102310             0.008104                         0   \n",
       "573055   1.615220             0.047977                         0   \n",
       "832891   2.384283            -0.084932                         0   \n",
       "472470  -0.792828            -0.018477                         0   \n",
       "\n",
       "        Low_Documentation_Loan_Program  Disbursement_Gross  \\\n",
       "210651                               0           -0.508757   \n",
       "759808                               0            0.084890   \n",
       "573055                               0            3.011469   \n",
       "832891                               0            0.682010   \n",
       "472470                               0           -0.428910   \n",
       "\n",
       "        SBA_Approved_Amount  Franchise_Status  \\\n",
       "210651            -0.467214                 0   \n",
       "759808             0.136358                 0   \n",
       "573055             4.056927                 0   \n",
       "832891             0.655218                 0   \n",
       "472470            -0.357795                 0   \n",
       "\n",
       "        NAICS_U.S._Industry_Title_Accommodation_FoodServices  \\\n",
       "210651                                                  0      \n",
       "759808                                                  0      \n",
       "573055                                                  0      \n",
       "832891                                                  0      \n",
       "472470                                                  0      \n",
       "\n",
       "        NAICS_U.S._Industry_Title_Administrative&Support_WasteManagement_RemediationServices  \\\n",
       "210651                                                  0                                      \n",
       "759808                                                  0                                      \n",
       "573055                                                  0                                      \n",
       "832891                                                  0                                      \n",
       "472470                                                  0                                      \n",
       "\n",
       "        NAICS_U.S._Industry_Title_Agriculture_Forestry_Fishing_Hunting  ...  \\\n",
       "210651                                                  0               ...   \n",
       "759808                                                  0               ...   \n",
       "573055                                                  0               ...   \n",
       "832891                                                  0               ...   \n",
       "472470                                                  0               ...   \n",
       "\n",
       "        Month_Of_Approval_July  Month_Of_Approval_June  \\\n",
       "210651                       0                       0   \n",
       "759808                       0                       0   \n",
       "573055                       0                       0   \n",
       "832891                       0                       0   \n",
       "472470                       0                       0   \n",
       "\n",
       "        Month_Of_Approval_March  Month_Of_Approval_May  \\\n",
       "210651                        0                      0   \n",
       "759808                        0                      1   \n",
       "573055                        0                      0   \n",
       "832891                        0                      0   \n",
       "472470                        0                      0   \n",
       "\n",
       "        Month_Of_Approval_November  Month_Of_Approval_October  \\\n",
       "210651                           1                          0   \n",
       "759808                           0                          0   \n",
       "573055                           0                          1   \n",
       "832891                           0                          0   \n",
       "472470                           0                          0   \n",
       "\n",
       "        Month_Of_Approval_September  Business_Type_Existing  \\\n",
       "210651                            0                       1   \n",
       "759808                            0                       1   \n",
       "573055                            0                       1   \n",
       "832891                            0                       1   \n",
       "472470                            0                       1   \n",
       "\n",
       "        Business_Type_New  Business_Type_Unknown  \n",
       "210651                  0                      0  \n",
       "759808                  0                      0  \n",
       "573055                  0                      0  \n",
       "832891                  0                      0  \n",
       "472470                  0                      0  \n",
       "\n",
       "[5 rows x 97 columns]"
      ]
     },
     "execution_count": 80,
     "metadata": {},
     "output_type": "execute_result"
    }
   ],
   "source": [
    "X_valid.head()"
   ]
  },
  {
   "cell_type": "markdown",
   "id": "49d26e1a-803d-45cc-9a62-8827e3e3ece6",
   "metadata": {},
   "source": [
    "### Model Training"
   ]
  },
  {
   "cell_type": "markdown",
   "id": "b3abb8d1-a90f-4f7b-a152-c4177b791f1d",
   "metadata": {},
   "source": [
    "#### Set up model + test it on a small subset of data "
   ]
  },
  {
   "cell_type": "markdown",
   "id": "756b1f81-8b8c-42a0-b5d8-61c34b9a2d87",
   "metadata": {},
   "source": [
    "**Take small sample size (1000 samples) from training set to oversample on**"
   ]
  },
  {
   "cell_type": "markdown",
   "id": "5d623524-1230-49cd-95fa-d498ea66219f",
   "metadata": {},
   "source": [
    "I am testing the neural network on a small sample size first to see if it can overfit the data because that tells me whether the model is capable of learning the patterns effectively. If it learns the small dataset really well and achieves near-perfect accuracy, it means the architecture and training setup (like the optimizer, activation functions, etc.) are working properly."
   ]
  },
  {
   "cell_type": "code",
   "execution_count": 85,
   "id": "c9a9b6ed-0009-4a77-80bf-e894b82ac60c",
   "metadata": {},
   "outputs": [],
   "source": [
    "small_sample_size = 1000  # Use a random sample of 1000 rows\n",
    "X_train_small = X_train.sample(n=small_sample_size, random_state=42)\n",
    "y_train_small = y_train[X_train_small.index]"
   ]
  },
  {
   "cell_type": "code",
   "execution_count": 86,
   "id": "fb6da8e6-b897-430e-a5d3-c6027dced965",
   "metadata": {},
   "outputs": [
    {
     "data": {
      "text/plain": [
       "(1000, 97)"
      ]
     },
     "execution_count": 86,
     "metadata": {},
     "output_type": "execute_result"
    }
   ],
   "source": [
    "X_train_small.shape"
   ]
  },
  {
   "cell_type": "code",
   "execution_count": 87,
   "id": "05b46e03-55e4-4b6c-8a93-16510f25ae4e",
   "metadata": {},
   "outputs": [
    {
     "data": {
      "text/plain": [
       "Paid in Full\n",
       "1    823\n",
       "0    177\n",
       "Name: count, dtype: int64"
      ]
     },
     "execution_count": 87,
     "metadata": {},
     "output_type": "execute_result"
    }
   ],
   "source": [
    "y_train_small.value_counts()"
   ]
  },
  {
   "cell_type": "markdown",
   "id": "dcdf6774-f5d7-48b7-97ff-c53382e9586e",
   "metadata": {},
   "source": [
    "**Convert X_train_small and y_train_small into Pytorch tensors**"
   ]
  },
  {
   "cell_type": "markdown",
   "id": "dc7ebd16-40b2-4a62-ab1b-ed79e136a3b5",
   "metadata": {},
   "source": [
    "Why do we convert to Pytorch tensors?\n",
    "For neural networks in PyTorch, data needs to be in tensor format because:\n",
    "- Compatibility: PyTorch models and layers expect inputs, outputs, and weights in tensor format.\n",
    "- Automatic Differentiation: Tensors support autograd, which is necessary for calculating gradients during backpropagation.\n",
    "- GPU Support: Tensors can be easily moved to a GPU, making training faster and more efficient."
   ]
  },
  {
   "cell_type": "markdown",
   "id": "1ed70695-d458-463b-8e19-57279844b335",
   "metadata": {},
   "source": [
    "Keeping this in mind as we set up the rest of the code for our model, it is important to understand that the input tensor typically needs to be in 2D dimensions, structured as:\n",
    "\n",
    "- Shape: [batch_size, num_features]\n",
    "- batch_size: The number of samples in each batch (e.g., 32, 64).\n",
    "- num_features: The number of features per sample (e.g., the number of columns in your dataset)."
   ]
  },
  {
   "cell_type": "markdown",
   "id": "1f17a230-2d98-48af-9688-4f659aa391ad",
   "metadata": {},
   "source": [
    "**How will we choose our arguments when converting our data into Pytorch tensors?**"
   ]
  },
  {
   "cell_type": "markdown",
   "id": "7cdc5700-6ceb-4a34-9000-401f3919d0fe",
   "metadata": {},
   "source": [
    "*We input .values in the first argument because we can only input the raw numeric data. Converting it into a numpy array gets rid of the metadata from our dataframes. For our datatypes, we used **float32** for our features because neural network computations require continuous numeric data. We used **long** for our y (labels) because it needs to be in this format for our classification loss function.*"
   ]
  },
  {
   "cell_type": "code",
   "execution_count": 93,
   "id": "03a6e8dc-adf7-4047-8452-aa1d81c2c5fe",
   "metadata": {},
   "outputs": [],
   "source": [
    "# Convert data to PyTorch tensors\n",
    "X_train_tensor_small = torch.tensor(X_train_small.values, dtype=torch.float32)\n",
    "y_train_tensor_small = torch.tensor(y_train_small.values, dtype=torch.long)"
   ]
  },
  {
   "cell_type": "markdown",
   "id": "f300f799-a947-4852-9cfb-e3f1032fa6dd",
   "metadata": {},
   "source": [
    "**Create Dataloaders**"
   ]
  },
  {
   "cell_type": "markdown",
   "id": "d15e8c0d-1761-492a-ab49-6e4773a470c1",
   "metadata": {},
   "source": [
    "TensorDataset: \n",
    "- Wraps the features (X_train_tensor) and labels (y_train_tensor) together, so each sample contains both the input data and the target label.\n",
    "- This allows us to easily work with the pairs of input-output data (e.g., a row of features with its corresponding label), which is essential for supervised learning."
   ]
  },
  {
   "cell_type": "code",
   "execution_count": 96,
   "id": "c4ea8e82-0250-468e-86a4-dc9336142cfc",
   "metadata": {},
   "outputs": [],
   "source": [
    "# Make training set by combining inputs (x) and output (y) into one dataset\n",
    "train_dataset_small = TensorDataset(X_train_tensor_small, y_train_tensor_small)"
   ]
  },
  {
   "cell_type": "markdown",
   "id": "8e3c6010-794d-4b63-bce7-512164aa598b",
   "metadata": {},
   "source": [
    "I chose a batch size of 32 because it’s well-suited for training on a smaller subset of data, offering efficient memory usage, frequent weight updates for faster convergence, and balancing speed with model performance, all while fitting comfortably within common GPU memory limits."
   ]
  },
  {
   "cell_type": "markdown",
   "id": "91e9025b-bf51-4152-ad3d-5210479c0d88",
   "metadata": {},
   "source": [
    "**Why do we need a dataloader and how did I choose my arguments?**"
   ]
  },
  {
   "cell_type": "markdown",
   "id": "077fc1d8-558b-4d97-a593-eeecd896efa0",
   "metadata": {},
   "source": [
    "A DataLoader in PyTorch is a tool that efficiently handles data loading during training or evaluation. It:\n",
    "\n",
    "1. Splits data into batches for processing.\n",
    "2. Shuffles data to prevent order bias during training.\n",
    "3. Uses multi-threading for faster data loading, especially with large datasets.\n",
    "4. Supports custom datasets for dynamic preprocessing and augmentation.\n",
    "    \n",
    "It simplifies workflows by automating these tasks, ensuring efficient and scalable data handling."
   ]
  },
  {
   "cell_type": "markdown",
   "id": "77f2e0a3-8732-4664-bc17-0cc0f135c4eb",
   "metadata": {},
   "source": [
    "- train_dataset_small: The dataset we created above, containing both inputs and labels in one dataset.\n",
    "- batch_size=32: Specifies the number of samples per batch. Here, it means each batch will contain 32 rows (samples) at a time. This allows the model to process data in small, manageable chunks.\n",
    "- shuffle=True: Shuffles the data at the start of each epoch, which helps the model generalize better by preventing it from learning any patterns due to the order of the data."
   ]
  },
  {
   "cell_type": "code",
   "execution_count": 101,
   "id": "fccb0089-9ecc-4858-935e-c8604c0fc98a",
   "metadata": {},
   "outputs": [],
   "source": [
    "# Create DataLoaders\n",
    "train_loader_small = DataLoader(train_dataset_small, batch_size=32, shuffle=True)"
   ]
  },
  {
   "cell_type": "markdown",
   "id": "809f9357-a870-4e63-8161-215cc750b0ac",
   "metadata": {},
   "source": [
    "**Define a simple neural network**"
   ]
  },
  {
   "cell_type": "markdown",
   "id": "6e783569-26d0-4b2e-a501-1c7f4beb5977",
   "metadata": {},
   "source": [
    "Keep the architecture simple to see if the model can learn on the small subset without making it overly complex.\n",
    "This setup will help us test the model’s ability to overfit without adding unnecessary complexity."
   ]
  },
  {
   "cell_type": "markdown",
   "id": "40107fb3-5150-494e-948e-f5bc9e53b982",
   "metadata": {},
   "source": [
    "**We are going to use ReLu as our activation function. Why?**\n",
    "- Non-linearity: ReLU introduces non-linearity to the model, allowing it to learn complex patterns rather than just simple linear relationships.\n",
    "- Efficient Computation: ReLU is simple and fast to compute, which speeds up training.\n",
    "- Reduces Vanishing Gradient Problem: Compared to other activation functions (like sigmoid or tanh), ReLU helps prevent the vanishing gradient problem. This means gradients remain large enough for effective backpropagation, allowing the model to learn better.\n",
    "*The vanishing gradient problem occurs when gradients in a neural network become very small (close to zero) as they are backpropagated through layers, especially in deep networks with many layers. When gradients vanish, it means the model’s parameters (weights) aren’t updated effectively during training, which can prevent the network from learning.*"
   ]
  },
  {
   "cell_type": "markdown",
   "id": "c6e8bbdf-5985-46dc-8141-21a75b45b817",
   "metadata": {},
   "source": [
    "**We are going to have 3 layers because it performed the best. How did we choose our neurons?**\n",
    "In this model:\n",
    "- 64 neurons in the first layer capture a broad set of features from the input data.\n",
    "- 48 neurons reduces the size and takes the most important patterns the model learned from the first layer.\n",
    "- 32 neurons in the third layer reduce the size, focusing on the most important patterns the model learned from the second layer.\n",
    "\n",
    "This gradual reduction helps the network process information in stages, extracting and condensing useful features. Reducing the neurons between layers also:\n",
    "- Saves computation: Fewer neurons require fewer calculations.\n",
    "- Reduces overfitting: A more compact second and third layer helps avoid overfitting on small datasets by limiting the model’s capacity."
   ]
  },
  {
   "cell_type": "markdown",
   "id": "6fe855eb-11ca-46eb-8d5e-3dcb303b43d2",
   "metadata": {},
   "source": [
    "These numbers (64, 48, 32) are standard and effective starting points, balancing model complexity and performance. "
   ]
  },
  {
   "cell_type": "markdown",
   "id": "5c6b4b78-2ba1-4fff-a1c2-a329d715264f",
   "metadata": {},
   "source": [
    "**How will we structure our code for our model definitions?**"
   ]
  },
  {
   "cell_type": "markdown",
   "id": "b4f4c4c8-6822-4321-a83d-3517f8369466",
   "metadata": {},
   "source": [
    "**First Layer (fc1):**\n",
    "\n",
    "- Type: Fully connected (or dense) layer.\n",
    "- Input Size: input_size (the number of features in your input data).\n",
    "- Output Size: 64 neurons.\n",
    "- Function: Takes the input data and passes it through 64 neurons, producing 64 outputs.\n",
    "\n",
    "**Activation Layer (relu):**\n",
    "\n",
    "- Type: ReLU (Rectified Linear Unit) activation function.\n",
    "- Function: Applies non-linearity to the output of fc1, helping the model learn complex patterns.\n",
    "\n",
    "**Second Layer (fc2):**\n",
    "\n",
    "- Type: Fully connected (dense) layer.\n",
    "- Input Size: 64 (from the previous layer’s output).\n",
    "- Output Size: 48 neurons.\n",
    "- Function: Takes the 64 outputs from the first layer, processes them, and produces 48 outputs.\n",
    "\n",
    "**Second Activation Layer (relu):**\n",
    "\n",
    "- Type: ReLU activation function.\n",
    "- Function: Adds non-linearity again to the output of fc2.\n",
    "\n",
    "**Third Layer (fc3):**\n",
    "\n",
    "- Type: Fully connected (dense) layer.\n",
    "- Input Size: 48 (from the previous layer’s output).\n",
    "- Output Size: 32 neurons.\n",
    "- Function: Takes the 48 outputs from the first layer, processes them, and produces 32 outputs.\n",
    "\n",
    "**Third Activation Layer (relu):**\n",
    "\n",
    "- Type: ReLU activation function.\n",
    "- Function: Adds non-linearity again to the output of fc3.\n",
    "\n",
    "**Output Layer (output):**\n",
    "\n",
    "- Type: Fully connected (dense) layer.\n",
    "- Input Size: 32 (from the previous layer’s output).\n",
    "- Output Size: 2 neurons.\n",
    "- Purpose: Produces 2 outputs, one for each class in a binary classification problem"
   ]
  },
  {
   "cell_type": "code",
   "execution_count": 109,
   "id": "83a80cb7-a9d3-4d3e-83b8-2935a4f01c7a",
   "metadata": {},
   "outputs": [],
   "source": [
    "# Step 5: Define a simple neural network with an additional layer\n",
    "class SimpleMLP(nn.Module):\n",
    "    def __init__(self, input_size):\n",
    "        super(SimpleMLP, self).__init__()\n",
    "        self.fc1 = nn.Linear(input_size, 64)  # First hidden layer\n",
    "        self.relu1 = nn.ReLU()\n",
    "        self.fc2 = nn.Linear(64, 48)  # second layer\n",
    "        self.relu2 = nn.ReLU()\n",
    "        self.fc3 = nn.Linear(48, 32)  # third hidden layer\n",
    "        self.output = nn.Linear(32, 2)  # Output layer for binary classification\n",
    "\n",
    "    def forward(self, x):\n",
    "        x = self.fc1(x)\n",
    "        x = self.relu1(x)\n",
    "        x = self.fc2(x)  # Pass through the new layer\n",
    "        x = self.relu2(x)\n",
    "        x = self.fc3(x) # Pass through the new layer\n",
    "        x = self.output(x)\n",
    "        return x\n",
    "\n"
   ]
  },
  {
   "cell_type": "markdown",
   "id": "9bb08a12-812e-47d0-925d-9b579683733f",
   "metadata": {},
   "source": [
    "**Define \"input size\" variable by getting the number columns from the training X set**\n",
    "- X_train_tensor.shape[1] gives the number of features (columns) in the input data X_train_tensor.\n",
    "- input_size stores this number, which is needed to define the first layer of the model so it knows how many inputs to expect."
   ]
  },
  {
   "cell_type": "code",
   "execution_count": 111,
   "id": "4a30aa67-1426-4979-9f7c-d9a4a441b007",
   "metadata": {},
   "outputs": [],
   "source": [
    "input_size = X_train_tensor_small.shape[1]"
   ]
  },
  {
   "cell_type": "markdown",
   "id": "9178caef-8176-41ae-994c-f3e6da2db96d",
   "metadata": {},
   "source": [
    "**Initialize the Model**\n",
    "- SimpleMLP(input_size) creates an instance of the neural network model (the SimpleMLP class).\n",
    "- input_size is passed to the model to configure the number of inputs in the first layer"
   ]
  },
  {
   "cell_type": "code",
   "execution_count": 113,
   "id": "16324bea-fb88-4d3d-a561-60fc4186360f",
   "metadata": {},
   "outputs": [],
   "source": [
    "model = SimpleMLP(input_size)"
   ]
  },
  {
   "cell_type": "markdown",
   "id": "58b4914b-3e50-4316-9f2f-41e00b26c58d",
   "metadata": {},
   "source": [
    "**We are going to assign weights to our classes. Keeping in mind the large class imbalance (less 0s than 1s), we want our model to perform well on 0s as well. In order to do this, we will assign weights.**"
   ]
  },
  {
   "cell_type": "markdown",
   "id": "c2ad0a50-aa19-4e01-832c-bcc252707cdd",
   "metadata": {},
   "source": [
    "*After running our model on multiple weights, we found that [2.5, 0.5] were the optimal weight parameters. This means that the model will give class 0 has 2.5x  more importance to errors in classifying samples of class 0. 0.5 for class 0 means the model will consider 1 as half as important compared to class 1.*"
   ]
  },
  {
   "cell_type": "markdown",
   "id": "24e785b7-77f9-49bd-ad90-637c2e6b10c5",
   "metadata": {},
   "source": [
    "*Basically, this means that the model will pay more attention to 0s than 1s, which will make our model perform better on predicting 0s.*"
   ]
  },
  {
   "cell_type": "markdown",
   "id": "a46192cb-879d-4a53-bc1f-b5c6dd7f3e8a",
   "metadata": {},
   "source": [
    "*We also tried oversampling to have our model detect 0s better, but that led to overfitting due to the large amount of synthetic data that was created using SMOTE that was not truly accurate. We are sticking to weights only to optimize our specificity metric.*"
   ]
  },
  {
   "cell_type": "code",
   "execution_count": 118,
   "id": "589b4298-4116-4cbb-904e-06a42a3beefc",
   "metadata": {},
   "outputs": [],
   "source": [
    "import torch\n",
    "import torch.nn as nn\n",
    "# Assign higher weight to class 0\n",
    "class_weights = torch.tensor([2.5, 0.5], dtype=torch.float32)  # Higher weight for class 0, lower for class 1"
   ]
  },
  {
   "cell_type": "markdown",
   "id": "8062930b-6650-405e-9071-3561c7ecc1fb",
   "metadata": {},
   "source": [
    "**Initialize Loss Function**\n",
    "- nn.CrossEntropyLoss() is the loss function, which measures how well the model’s predictions match the actual labels for classification tasks.\n",
    "- This loss function is commonly used for multi-class and binary classification, as it calculates the difference between the predicted class probabilities and the actual class."
   ]
  },
  {
   "cell_type": "code",
   "execution_count": 120,
   "id": "b452bc64-1b5a-4ebe-99aa-1b1944607d71",
   "metadata": {},
   "outputs": [],
   "source": [
    "criterion = nn.CrossEntropyLoss(weight = class_weights)"
   ]
  },
  {
   "cell_type": "markdown",
   "id": "998f7a7d-ed7b-475d-94c2-71f7f87c80e6",
   "metadata": {},
   "source": [
    "**Initialize Optimizers**"
   ]
  },
  {
   "cell_type": "markdown",
   "id": "307a76cb-5fab-4a35-9e9d-058c03b39053",
   "metadata": {},
   "source": [
    "An optimizer updates the weights of a neural network to minimize the loss, using gradients calculated during backpropagation. Adam is a popular optimizer because it adapts learning rates, which makes it efficient and easy to use for many tasks."
   ]
  },
  {
   "cell_type": "markdown",
   "id": "8671a387-3819-4b12-9918-828d41fb6691",
   "metadata": {},
   "source": [
    "*What is the Learning Rate (lr)?*\n",
    "- The learning rate is a key hyperparameter that controls how much the model's weights are adjusted in response to the calculated error (loss) during each update. It’s essentially the \"step size\" the model takes toward minimizing the loss:\n",
    "\n",
    "- Higher Learning Rate: The model takes larger steps in updating weights, which can speed up training but risks overshooting the optimal weights and potentially never converging.\n",
    "- Lower Learning Rate: The model takes smaller steps, which is safer and more precise but can slow down training. If it’s too low, the model might get stuck or take too long to reach optimal weights."
   ]
  },
  {
   "cell_type": "markdown",
   "id": "1cb8f480-55d6-4961-a4c7-ce51a8cd6ed8",
   "metadata": {},
   "source": [
    "- Learning Rate (lr=0.001): Controls the size of updates. 0.001 is a common and safe starting point for Adam.\n",
    "- Start with 0.001: If training is too slow, try 0.01; if unstable, try 0.0001.\n",
    "- Goal: Find a learning rate that allows steady convergence without oscillation"
   ]
  },
  {
   "cell_type": "markdown",
   "id": "2d6a2520-157e-4453-9c62-cbbefa7a3cad",
   "metadata": {},
   "source": [
    "*What .parameters() Does*\n",
    "- model.parameters() retrieves a collection (usually a list) of all the parameters in your neural network (like weights and biases in each layer).\n",
    "- Each layer in a neural network has its own set of weights and biases, and model.parameters() gathers them all together.\n",
    "- By passing model.parameters() to the optimizer, you’re telling it, \"These are the parameters I want you to adjust to minimize the loss.\"\n",
    "- The optimizer will use the gradients (calculated during backpropagation) to update these parameters.\n",
    "- When you call .step() on the optimizer, it will automatically adjust all the parameters from model.parameters() based on the gradients."
   ]
  },
  {
   "cell_type": "code",
   "execution_count": 126,
   "id": "d6b3a3fa-a6ae-45ff-b2ad-8447eac8790d",
   "metadata": {},
   "outputs": [],
   "source": [
    "optimizer = optim.Adam(model.parameters(), lr=0.001)"
   ]
  },
  {
   "cell_type": "markdown",
   "id": "8fbb40f1-4705-4810-b372-32ae7fa00be5",
   "metadata": {},
   "source": [
    "**Train the Model on the SMALL test sample (1000 rows)**"
   ]
  },
  {
   "cell_type": "markdown",
   "id": "48a802a4-87a8-4163-a9eb-14ec72408c1f",
   "metadata": {},
   "source": [
    "Each Epoch:\n",
    "\n",
    "- During each epoch, the model goes through all 1,000 samples in batches of 32 until it has processed the entire dataset.\n",
    "- After one epoch, the model will have seen every sample in the dataset once."
   ]
  },
  {
   "cell_type": "markdown",
   "id": "3a497a58-9e20-4c58-8b39-25dcedb11fb9",
   "metadata": {},
   "source": [
    "Training for Multiple Epochs:\n",
    "\n",
    "- Training for 50 epochs would mean the model sees all 1,000 samples 50 times (repeating the batches of 32 each time)."
   ]
  },
  {
   "cell_type": "markdown",
   "id": "902c22ac-7908-466b-9177-d4f046b95577",
   "metadata": {},
   "source": [
    "- Start with **more epochs for small datasets** to help the model learn basic patterns.\n",
    "- Reduce epochs as data increases to avoid overfitting, improve efficiency, and leverage the learning benefits of larger datasets."
   ]
  },
  {
   "cell_type": "markdown",
   "id": "a22c6655-3d0e-4789-9ac9-d99a378379dc",
   "metadata": {},
   "source": [
    "*In summary, an epoch is one round of learning on the entire dataset. \n",
    "More epochs give the model more chances to learn patterns. We are going to give it a lot of epochs because we want to see if it can overfit*"
   ]
  },
  {
   "cell_type": "code",
   "execution_count": 132,
   "id": "9d1915f1-e364-4300-9b1d-fc8992def20c",
   "metadata": {},
   "outputs": [
    {
     "name": "stdout",
     "output_type": "stream",
     "text": [
      "Epoch [1/50], Loss: 0.6726\n",
      "Epoch [2/50], Loss: 0.5764\n",
      "Epoch [3/50], Loss: 0.4909\n",
      "Epoch [4/50], Loss: 0.4248\n",
      "Epoch [5/50], Loss: 0.3799\n",
      "Epoch [6/50], Loss: 0.3594\n",
      "Epoch [7/50], Loss: 0.3115\n",
      "Epoch [8/50], Loss: 0.2851\n",
      "Epoch [9/50], Loss: 0.2674\n",
      "Epoch [10/50], Loss: 0.2203\n",
      "Epoch [11/50], Loss: 0.1776\n",
      "Epoch [12/50], Loss: 0.1569\n",
      "Epoch [13/50], Loss: 0.1240\n",
      "Epoch [14/50], Loss: 0.1044\n",
      "Epoch [15/50], Loss: 0.0898\n",
      "Epoch [16/50], Loss: 0.0906\n",
      "Epoch [17/50], Loss: 0.0765\n",
      "Epoch [18/50], Loss: 0.0565\n",
      "Epoch [19/50], Loss: 0.0474\n",
      "Epoch [20/50], Loss: 0.0350\n",
      "Epoch [21/50], Loss: 0.0316\n",
      "Epoch [22/50], Loss: 0.0236\n",
      "Epoch [23/50], Loss: 0.0304\n",
      "Epoch [24/50], Loss: 0.0185\n",
      "Epoch [25/50], Loss: 0.0140\n",
      "Epoch [26/50], Loss: 0.0095\n",
      "Epoch [27/50], Loss: 0.0080\n",
      "Epoch [28/50], Loss: 0.0060\n",
      "Epoch [29/50], Loss: 0.0049\n",
      "Epoch [30/50], Loss: 0.0034\n",
      "Epoch [31/50], Loss: 0.0026\n",
      "Epoch [32/50], Loss: 0.0021\n",
      "Epoch [33/50], Loss: 0.0019\n",
      "Epoch [34/50], Loss: 0.0017\n",
      "Epoch [35/50], Loss: 0.0017\n",
      "Epoch [36/50], Loss: 0.0019\n",
      "Epoch [37/50], Loss: 0.0012\n",
      "Epoch [38/50], Loss: 0.0011\n",
      "Epoch [39/50], Loss: 0.0010\n",
      "Epoch [40/50], Loss: 0.0009\n",
      "Epoch [41/50], Loss: 0.0008\n",
      "Epoch [42/50], Loss: 0.0007\n",
      "Epoch [43/50], Loss: 0.0007\n",
      "Epoch [44/50], Loss: 0.0006\n",
      "Epoch [45/50], Loss: 0.0006\n",
      "Epoch [46/50], Loss: 0.0005\n",
      "Epoch [47/50], Loss: 0.0005\n",
      "Epoch [48/50], Loss: 0.0004\n",
      "Epoch [49/50], Loss: 0.0004\n",
      "Epoch [50/50], Loss: 0.0004\n"
     ]
    }
   ],
   "source": [
    "# Step 5: Train the model on the small training sample\n",
    "epochs = 50  # Train for enough epochs to overfit (i.e., memorize the small sample data)\n",
    "for epoch in range(epochs):\n",
    "    model.train()  # Set the model to training mode (enables certain layers like dropout, if present)\n",
    "    total_loss = 0  # Initialize total loss for the epoch to calculate average loss later\n",
    "    \n",
    "    # Loop through each batch in the training loader\n",
    "    for inputs, labels in train_loader_small:\n",
    "        optimizer.zero_grad()  # Clear gradients from the previous batch to prevent accumulation\n",
    "        outputs = model(inputs)  # Perform a forward pass to get model predictions\n",
    "        loss = criterion(outputs, labels)  # Calculate the loss by comparing predictions to actual labels\n",
    "        loss.backward()  # Perform backpropagation to compute gradients of the loss w.r.t. model parameters\n",
    "        optimizer.step()  # Update model parameters using the gradients to minimize loss\n",
    "        \n",
    "        total_loss += loss.item()  # Accumulate batch loss to calculate the epoch's average loss\n",
    "    \n",
    "    # Print average loss for the epoch to monitor model's performance\n",
    "    print(f'Epoch [{epoch+1}/{epochs}], Loss: {total_loss/len(train_loader_small):.4f}')"
   ]
  },
  {
   "cell_type": "code",
   "execution_count": 133,
   "id": "3649f64c-063f-4021-8513-e9448f8880e4",
   "metadata": {},
   "outputs": [
    {
     "name": "stdout",
     "output_type": "stream",
     "text": [
      "Training accuracy on small sample: 1.0000\n",
      "Training Precision: 1.0000\n",
      "Training Recall: 1.0000\n",
      "Training F1 Score: 1.0000\n",
      "Training Specificity: 1.0000\n"
     ]
    }
   ],
   "source": [
    "from sklearn.metrics import f1_score, precision_score, recall_score, confusion_matrix\n",
    "\n",
    "# Calculate metrics for the training set\n",
    "with torch.no_grad():\n",
    "    train_predictions = model(X_train_tensor_small)\n",
    "    predicted_classes_train = torch.argmax(train_predictions, dim=1)\n",
    "    train_accuracy = accuracy_score(y_train_small, predicted_classes_train.numpy())\n",
    "    \n",
    "    # Calculate additional metrics for training set\n",
    "    train_precision = precision_score(y_train_small, predicted_classes_train.numpy(), average='binary')\n",
    "    train_recall = recall_score(y_train_small, predicted_classes_train.numpy(), average='binary')\n",
    "    train_f1 = f1_score(y_train_small, predicted_classes_train.numpy(), average='binary')\n",
    "    \n",
    "    # Calculate specificity\n",
    "    cm_train = confusion_matrix(y_train_small, predicted_classes_train.numpy())\n",
    "    train_specificity = cm_train[0, 0] / (cm_train[0, 0] + cm_train[0, 1])  # TN / (TN + FP)\n",
    "    \n",
    "    print(f\"Training accuracy on small sample: {train_accuracy:.4f}\")\n",
    "    print(f\"Training Precision: {train_precision:.4f}\")\n",
    "    print(f\"Training Recall: {train_recall:.4f}\")\n",
    "    print(f\"Training F1 Score: {train_f1:.4f}\")\n",
    "    print(f\"Training Specificity: {train_specificity:.4f}\")"
   ]
  },
  {
   "cell_type": "markdown",
   "id": "0d1e7720-8850-4b38-99ab-d210fc996d4a",
   "metadata": {},
   "source": [
    "*Our model overfit perfectly! Our loss function continued to decrease after each epoch and was very low! Our training results were all 100% as well! Our model is ready for the entire dataset*"
   ]
  },
  {
   "cell_type": "markdown",
   "id": "b14cf3a2-a9db-4c9d-a3c2-bbdde98b2e81",
   "metadata": {},
   "source": [
    "#### 2. Train on Progressively Larger Batches"
   ]
  },
  {
   "cell_type": "markdown",
   "id": "2c3aa445-43ef-447e-9fba-ff135f2fd42a",
   "metadata": {},
   "source": [
    "**Convert the entire X_train, y_train, X_valid, y_valid into pytorch tensors**"
   ]
  },
  {
   "cell_type": "code",
   "execution_count": 137,
   "id": "680ead28-b91d-4088-8646-8d315584093a",
   "metadata": {},
   "outputs": [],
   "source": [
    "X_train_tensor = torch.tensor(X_train.values, dtype=torch.float32)\n",
    "y_train_tensor = torch.tensor(y_train.values, dtype=torch.long)"
   ]
  },
  {
   "cell_type": "code",
   "execution_count": 138,
   "id": "768d3155-af88-4fa4-b14d-a93141aadee5",
   "metadata": {},
   "outputs": [],
   "source": [
    "# Convert validation data to tensors\n",
    "X_val_tensor = torch.tensor(X_valid.values, dtype=torch.float32)\n",
    "y_val_tensor = torch.tensor(y_valid.values, dtype=torch.long)"
   ]
  },
  {
   "cell_type": "markdown",
   "id": "5404d77b-6f5b-405a-b50d-cb0b42663f2c",
   "metadata": {},
   "source": [
    "**We are going to  train on progressively larger samples to save resources and improve efficiency.**\n",
    "\n",
    "Starting with smaller samples:\n",
    "\n",
    "- Speeds up early training when the model is still learning basic patterns.\n",
    "- Prevents wasting time on the full dataset if the model isn’t improving (thanks to early stopping).\n",
    "- Scales better for large datasets, making it manageable in memory-constrained environments.\n",
    "- Growing the sample size lets the model refine its learning with more data once it’s already trained on smaller subsets."
   ]
  },
  {
   "cell_type": "markdown",
   "id": "cddaf67d-d1cc-491e-a349-a73d61dd4739",
   "metadata": {},
   "source": [
    "**Code Set-Up and Thought Process**"
   ]
  },
  {
   "cell_type": "markdown",
   "id": "1078c4f2-c318-4bb8-8987-9ec573a725df",
   "metadata": {},
   "source": [
    "1. Initial Setup:\n",
    "I started by thinking about how to efficiently train a model on a large dataset without overwhelming memory or computational resources. My goal was to start with a small sample of the data and progressively increase the size of the training set. To do this, I initialized:\n",
    "\n",
    "- A small initial sample size (sample_size = 5000) to begin training.\n",
    "- A growth_factor to gradually increase the sample size (in this case, doubling it each time).\n",
    "- Variables like epochs, min_improvement,(0.005), and patience` (3 epochs) for early stopping, so I could stop training if validation performance stopped improving.\n",
    "By starting small, I could allow the model to learn efficiently on a manageable subset and scale up as the model's capacity improved.\n",
    "\n",
    "2. Dynamic Sample Sizing:\n",
    "To manage the data, I designed a loop that slices the dataset into progressively larger subsets. The idea was to:\n",
    "\n",
    "- Set a start and end index for each subset of data (start_idx to end_idx).\n",
    "- Check if I’ve reached the end of the dataset or if the sample size exceeds a predefined limit (e.g., 320,000). If so, I would use the remaining data for a final training iteration.\n",
    "- I also ensured no overlap between slices of data by incrementing the start_idx for each iteration. This way, the model progressively sees more data without redundant processing.\n",
    "\n",
    "3. Data Preparation:\n",
    "- For each subset,\n",
    "\n",
    "    - I sliced the training dataset (X_sample, y_sample) and converted them to PyTorch tensors for compatibility with the model.\n",
    "    - I used a DataLoader to batch the data, shuffle it during training, and create an efficient pipeline for each sample.\n",
    "    - I also created a validation DataLoader that remained constant throughout the process, as I wanted to evaluate performance consistently.\n",
    "\n",
    "4. Training with Early Stopping: In each iteration, I trained the model on the current data subset:\n",
    "\n",
    "- I entered a loop for a fixed number of epochs (epochs=50) but included early stopping to terminate training early if validation loss stopped improving.\n",
    "\n",
    "- During training,\n",
    "\n",
    "    - I used model.train() to enable training-specific layers (e.g., dropout).\n",
    "    - For each batch in the DataLoader, I:\n",
    "    - Performed a forward pass to get predictions.\n",
    "    - Computed the loss and performed backpropagation.\n",
    "    - Updated model weights using the optimizer.\n",
    "    - I kept track of the average training loss to monitor performance.\n",
    "  \n",
    "- For validation:\n",
    "\n",
    "    - I switched the model to evaluation mode using model.eval() (disabling dropout and similar layers).\n",
    "    - I computed the average validation loss for the current subset.\n",
    "    - I tracked the best validation loss and used a patience counter to determine if early stopping should trigger.\n",
    "    - Early stopping was important here because I didn’t want to waste time training the model on a subset if it wasn’t improving significantly. If the validation loss didn’t improve by at least min_improvement for patience epochs, I stopped early.\n",
    "\n",
    "5. Incremental Learning\n",
    "- Once training on a subset was complete, I:\n",
    "\n",
    "    - Incremented the start_idx to prepare for the next data slice.\n",
    "    - Doubled the sample_size (using growth_factor) for the next iteration unless it was the last subset.\n",
    "    - Checked if I’d used all the training data. If so, I broke out of the loop.\n",
    "    - By progressively increasing the sample size, the model got a chance to learn from more data without being overwhelmed initially.  It’s like feeding the model data in \"digestible chunks.\"\n",
    "\n",
    "- Why I Structured It This Way\n",
    "    - Scalability: I designed this approach to handle large datasets that couldn’t fit into memory all at once. By training on progressively larger subsets, I could scale the process dynamically.\n",
    "\n",
    "    - Efficiency: Early stopping ensured I didn’t waste time overfitting a small dataset or training on a subset where the model wasn’t improving.\n",
    "\n",
    "    - Control: By starting with a small sample size and gradually increasing it, I could observe how the model's performance scaled with the amount of training data.\n",
    "\n",
    "    - Flexibility: This approach adapts to different dataset sizes, stopping when all the data has been used or a predefined limit is reached."
   ]
  },
  {
   "cell_type": "markdown",
   "id": "ef03f84a-d8c8-48f6-adb1-5e3a3076ac8c",
   "metadata": {},
   "source": [
    "**How It Plays Out**\n",
    "- Here’s what happens:\n",
    "\n",
    "    - Initially, the model trains on the first 5,000 samples (sample_size=5000).\n",
    "    - After a few epochs (or early stopping), I expand the training set by doubling the sample size (sample_size=10,000).\n",
    "    - This continues until all the data is processed or the sample size reaches a predefined cap.\n",
    "    - At each step, the model learns progressively, and validation loss is used to monitor whether training is effective."
   ]
  },
  {
   "cell_type": "markdown",
   "id": "1fe0e0e9-8760-4a18-9027-7f2a8d450fba",
   "metadata": {},
   "source": [
    "**Example Scenario**\n",
    "- Inputs:\n",
    "    - Suppose I have 100,000 rows of data (len(X_train) = 100,000).\n",
    "    - My initial sample_size = 5,000 and growth_factor = 2.\n",
    "    - Iterations:\n",
    "- Iteration 1:\n",
    "\n",
    "    - Train on rows 0-4,999 (5,000 samples).\n",
    "    - Early stopping may kick in after a few epochs.\n",
    "    - Validation loss improves, so I move to the next subset.\n",
    "- Iteration 2:\n",
    "\n",
    "    - Train on rows 5,000-14,999 (10,000 samples).\n",
    "    - The model trains longer, but early stopping ensures it doesn’t overfit.\n",
    "- Final Iteration:\n",
    "\n",
    "    - When only 15,000 rows are left, I train on all remaining data.\n",
    "    - After training, the loop exits."
   ]
  },
  {
   "cell_type": "code",
   "execution_count": 144,
   "id": "3477eb48-96e0-41e4-832f-5caccea21a6b",
   "metadata": {},
   "outputs": [
    {
     "name": "stdout",
     "output_type": "stream",
     "text": [
      "Training with sample size: 5000 (from row 0 to 5000)\n",
      "Epoch [1/50], Training Loss: 0.8902, Validation Loss: 0.5452\n",
      "Epoch [2/50], Training Loss: 0.5012, Validation Loss: 0.5356\n",
      "Epoch [3/50], Training Loss: 0.4647, Validation Loss: 0.5346\n",
      "Epoch [4/50], Training Loss: 0.4425, Validation Loss: 0.5342\n",
      "Epoch [5/50], Training Loss: 0.4228, Validation Loss: 0.5343\n",
      "Early stopping triggered after 5 epochs without sufficient improvement.\n",
      "Training with sample size: 10000 (from row 5000 to 15000)\n",
      "Epoch [1/50], Training Loss: 0.4915, Validation Loss: 0.5031\n",
      "Epoch [2/50], Training Loss: 0.4618, Validation Loss: 0.4977\n",
      "Epoch [3/50], Training Loss: 0.4452, Validation Loss: 0.4841\n",
      "Epoch [4/50], Training Loss: 0.4344, Validation Loss: 0.5119\n",
      "Epoch [5/50], Training Loss: 0.4212, Validation Loss: 0.5002\n",
      "Epoch [6/50], Training Loss: 0.4051, Validation Loss: 0.5087\n",
      "Early stopping triggered after 6 epochs without sufficient improvement.\n",
      "Training with sample size: 20000 (from row 15000 to 35000)\n",
      "Epoch [1/50], Training Loss: 0.4707, Validation Loss: 0.4630\n",
      "Epoch [2/50], Training Loss: 0.4343, Validation Loss: 0.4608\n",
      "Epoch [3/50], Training Loss: 0.4158, Validation Loss: 0.4549\n",
      "Epoch [4/50], Training Loss: 0.4002, Validation Loss: 0.4543\n",
      "Epoch [5/50], Training Loss: 0.3863, Validation Loss: 0.4666\n",
      "Epoch [6/50], Training Loss: 0.3699, Validation Loss: 0.4637\n",
      "Early stopping triggered after 6 epochs without sufficient improvement.\n",
      "Training with sample size: 40000 (from row 35000 to 75000)\n",
      "Epoch [1/50], Training Loss: 0.4442, Validation Loss: 0.4408\n",
      "Epoch [2/50], Training Loss: 0.4229, Validation Loss: 0.4445\n",
      "Epoch [3/50], Training Loss: 0.4122, Validation Loss: 0.4435\n",
      "Epoch [4/50], Training Loss: 0.4000, Validation Loss: 0.4440\n",
      "Early stopping triggered after 4 epochs without sufficient improvement.\n",
      "Training with sample size: 80000 (from row 75000 to 155000)\n",
      "Epoch [1/50], Training Loss: 0.4290, Validation Loss: 0.4301\n",
      "Epoch [2/50], Training Loss: 0.4144, Validation Loss: 0.4219\n",
      "Epoch [3/50], Training Loss: 0.4052, Validation Loss: 0.4253\n",
      "Epoch [4/50], Training Loss: 0.3972, Validation Loss: 0.4281\n",
      "Epoch [5/50], Training Loss: 0.3884, Validation Loss: 0.4322\n",
      "Early stopping triggered after 5 epochs without sufficient improvement.\n",
      "Training with sample size: 160000 (from row 155000 to 315000)\n",
      "Epoch [1/50], Training Loss: 0.4122, Validation Loss: 0.4130\n",
      "Epoch [2/50], Training Loss: 0.4003, Validation Loss: 0.4040\n",
      "Epoch [3/50], Training Loss: 0.3916, Validation Loss: 0.4026\n",
      "Epoch [4/50], Training Loss: 0.3859, Validation Loss: 0.4029\n",
      "Epoch [5/50], Training Loss: 0.3785, Validation Loss: 0.3971\n",
      "Epoch [6/50], Training Loss: 0.3729, Validation Loss: 0.3957\n",
      "Epoch [7/50], Training Loss: 0.3655, Validation Loss: 0.3989\n",
      "Epoch [8/50], Training Loss: 0.3609, Validation Loss: 0.3926\n",
      "Early stopping triggered after 8 epochs without sufficient improvement.\n",
      "Final training with remaining data from row 315000 to 698187\n",
      "Epoch [1/50], Training Loss: 0.3810, Validation Loss: 0.3797\n",
      "Epoch [2/50], Training Loss: 0.3697, Validation Loss: 0.3768\n",
      "Epoch [3/50], Training Loss: 0.3617, Validation Loss: 0.3758\n",
      "Epoch [4/50], Training Loss: 0.3560, Validation Loss: 0.3673\n",
      "Epoch [5/50], Training Loss: 0.3492, Validation Loss: 0.3583\n",
      "Epoch [6/50], Training Loss: 0.3416, Validation Loss: 0.3599\n",
      "Epoch [7/50], Training Loss: 0.3366, Validation Loss: 0.3495\n",
      "Epoch [8/50], Training Loss: 0.3317, Validation Loss: 0.3469\n",
      "Epoch [9/50], Training Loss: 0.3276, Validation Loss: 0.3431\n",
      "Epoch [10/50], Training Loss: 0.3255, Validation Loss: 0.3412\n",
      "Epoch [11/50], Training Loss: 0.3229, Validation Loss: 0.3450\n",
      "Epoch [12/50], Training Loss: 0.3209, Validation Loss: 0.3412\n",
      "Early stopping triggered after 12 epochs without sufficient improvement.\n"
     ]
    }
   ],
   "source": [
    "import torch\n",
    "from torch.utils.data import DataLoader, TensorDataset\n",
    "import numpy as np\n",
    "from sklearn.model_selection import train_test_split\n",
    "\n",
    "# Initialize starting sample size and growth factor\n",
    "sample_size = 5000\n",
    "growth_factor = 2\n",
    "start_idx = 0  # Start index for each new sample\n",
    "epochs = 50  # Set a high number of epochs to allow early stopping\n",
    "min_improvement = 0.005  # Minimum improvement threshold\n",
    "patience = 3  # Number of epochs to wait for improvement\n",
    "\n",
    "# Dynamically determine the number of iterations needed\n",
    "while start_idx < len(X_train):\n",
    "    end_idx = start_idx + sample_size\n",
    "    \n",
    "    # Check if this is the last iteration based on a threshold (e.g., sample_size >= 320000)\n",
    "    if end_idx >= len(X_train) or sample_size >= 320000:\n",
    "        end_idx = len(X_train)  # Use all remaining data\n",
    "        print(f\"Final training with remaining data from row {start_idx} to {end_idx}\")\n",
    "    else:\n",
    "        print(f\"Training with sample size: {sample_size} (from row {start_idx} to {end_idx})\")\n",
    "    \n",
    "    # Slice the training dataset to avoid overlap\n",
    "    X_sample = X_train[start_idx:end_idx]\n",
    "    y_sample = y_train[start_idx:end_idx]\n",
    "    \n",
    "    # Convert to tensors\n",
    "    X_sample_tensor = torch.tensor(X_sample.values, dtype=torch.float32)\n",
    "    y_sample_tensor = torch.tensor(y_sample.values, dtype=torch.long)\n",
    "    \n",
    "    # Create DataLoader for the current sample with shuffling\n",
    "    train_loader_sample = DataLoader(TensorDataset(X_sample_tensor, y_sample_tensor), batch_size=32, shuffle=True)\n",
    "    val_loader_sample = DataLoader(TensorDataset(X_val_tensor, y_val_tensor), batch_size=32, shuffle=False)\n",
    "    \n",
    "    # Early stopping variables\n",
    "    best_val_loss = float('inf')\n",
    "    epochs_no_improve = 0\n",
    "    \n",
    "    # Train the model on this sample size\n",
    "    for epoch in range(epochs):\n",
    "        model.train()\n",
    "        total_loss = 0\n",
    "        for inputs, labels in train_loader_sample:\n",
    "            optimizer.zero_grad()\n",
    "            outputs = model(inputs)\n",
    "            loss = criterion(outputs, labels)\n",
    "            loss.backward()\n",
    "            optimizer.step()\n",
    "            total_loss += loss.item()\n",
    "        avg_train_loss = total_loss / len(train_loader_sample)\n",
    "        \n",
    "        # Validation phase\n",
    "        model.eval()\n",
    "        val_loss = 0\n",
    "        with torch.no_grad():\n",
    "            for val_inputs, val_labels in val_loader_sample:\n",
    "                val_outputs = model(val_inputs)\n",
    "                loss = criterion(val_outputs, val_labels)\n",
    "                val_loss += loss.item()\n",
    "        avg_val_loss = val_loss / len(val_loader_sample)\n",
    "        \n",
    "        print(f\"Epoch [{epoch+1}/{epochs}], Training Loss: {avg_train_loss:.4f}, Validation Loss: {avg_val_loss:.4f}\")\n",
    "        \n",
    "        # Early stopping condition\n",
    "        if avg_val_loss < best_val_loss - min_improvement:\n",
    "            best_val_loss = avg_val_loss\n",
    "            epochs_no_improve = 0  # Reset the patience counter\n",
    "        else:\n",
    "            epochs_no_improve += 1  # Increment patience counter if no improvement\n",
    "        \n",
    "        if epochs_no_improve >= patience:\n",
    "            print(f\"Early stopping triggered after {epoch+1} epochs without sufficient improvement.\")\n",
    "            break\n",
    "    \n",
    "    # Move the starting index forward\n",
    "    start_idx = end_idx\n",
    "\n",
    "    # Check if we’ve used all data; if so, break the loop\n",
    "    if end_idx == len(X_train):\n",
    "        break\n",
    "    \n",
    "    # Increase sample size for the next iteration, unless it’s the last iteration\n",
    "    sample_size *= growth_factor"
   ]
  },
  {
   "cell_type": "markdown",
   "id": "f068f8fb-361c-408d-9622-b1267148edd7",
   "metadata": {},
   "source": [
    "**Overall Trends**\n",
    "- Training Loss:\n",
    "    - Consistently decreases across all subsets, showing the model effectively fits the training data.\n",
    "- Validation Loss:\n",
    "    - Improves with larger datasets, indicating that the model benefits from more data.\n",
    "    - Valid Loss continue to decrease with Training Loss and has similar values (with the more data it is trained on). This is good.\n",
    "    - Early stopping prevents overfitting, ensuring the model maintains its generalization ability.\n",
    "- Good!"
   ]
  },
  {
   "cell_type": "markdown",
   "id": "9255f104-a2f4-4323-87cc-72dd1b738049",
   "metadata": {},
   "source": [
    "### Training & Validation Metrics + Results"
   ]
  },
  {
   "cell_type": "markdown",
   "id": "9931ae78-848a-485a-bb2e-fc33172a6dc3",
   "metadata": {},
   "source": [
    "Install and important packages that provide results from our model"
   ]
  },
  {
   "cell_type": "code",
   "execution_count": 148,
   "id": "7df80c2c-0a7d-42d0-b576-c750889f7471",
   "metadata": {},
   "outputs": [],
   "source": [
    "#! pip install torchmetrics"
   ]
  },
  {
   "cell_type": "code",
   "execution_count": 149,
   "id": "15ab8e8c-fee1-4f82-927b-b8f1a6dbd78d",
   "metadata": {},
   "outputs": [],
   "source": [
    "import torch\n",
    "from torchmetrics.classification import Accuracy, Precision, Recall, F1Score"
   ]
  },
  {
   "cell_type": "code",
   "execution_count": 150,
   "id": "6fad0b91-f506-4a51-8c21-ba03cafd89fd",
   "metadata": {},
   "outputs": [],
   "source": [
    "import torch\n",
    "\n",
    "# Check if GPU is available, otherwise use CPU\n",
    "device = torch.device(\"cuda\" if torch.cuda.is_available() else \"cpu\")"
   ]
  },
  {
   "cell_type": "markdown",
   "id": "b915a8fe-d67c-4cca-9402-bcfcfc5a6b3b",
   "metadata": {},
   "source": [
    "**Training Metrics**"
   ]
  },
  {
   "cell_type": "code",
   "execution_count": 152,
   "id": "ec8bcd5a-7cec-461e-8b85-09d7eff8576a",
   "metadata": {},
   "outputs": [
    {
     "name": "stdout",
     "output_type": "stream",
     "text": [
      "Training Metrics:\n",
      "Training Accuracy: 0.8731\n",
      "Training Precision: 0.9672\n",
      "Training Recall: 0.8766\n",
      "Training F1 Score: 0.9197\n",
      "Training Specificity: 0.8562\n"
     ]
    }
   ],
   "source": [
    "# Initialize metrics for binary classification\n",
    "accuracy = Accuracy(task=\"binary\").to(device)  # Ensure metrics are on the same device\n",
    "precision = Precision(task=\"binary\").to(device)\n",
    "recall = Recall(task=\"binary\").to(device)\n",
    "f1 = F1Score(task=\"binary\").to(device)\n",
    "\n",
    "# ----- Training Set Metrics -----\n",
    "with torch.no_grad():\n",
    "    model.eval()  # Ensure the model is in evaluation mode\n",
    "    train_outputs = model(X_train_tensor)  # Get raw model outputs (logits) with shape [N, 2]\n",
    "    train_predictions = torch.argmax(train_outputs, dim=1)  # Get class predictions (0 or 1)\n",
    "\n",
    "# Ensure y_train_tensor and train_predictions are on the same device\n",
    "y_train_tensor = y_train_tensor.to(train_predictions.device)\n",
    "\n",
    "# Calculate training metrics\n",
    "train_acc = accuracy(train_predictions, y_train_tensor)\n",
    "train_prec = precision(train_predictions, y_train_tensor)\n",
    "train_rec = recall(train_predictions, y_train_tensor)\n",
    "train_f1_score = f1(train_predictions, y_train_tensor)\n",
    "\n",
    "# Calculate specificity manually using confusion matrix\n",
    "from sklearn.metrics import confusion_matrix\n",
    "train_conf_matrix = confusion_matrix(\n",
    "    y_train_tensor.cpu().numpy(), train_predictions.cpu().numpy()\n",
    ")\n",
    "TN, FP, FN, TP = train_conf_matrix.ravel()\n",
    "train_specificity = TN / (TN + FP)\n",
    "\n",
    "# Print the results\n",
    "print(\"Training Metrics:\")\n",
    "print(f\"Training Accuracy: {train_acc:.4f}\")\n",
    "print(f\"Training Precision: {train_prec:.4f}\")\n",
    "print(f\"Training Recall: {train_rec:.4f}\")\n",
    "print(f\"Training F1 Score: {train_f1_score:.4f}\")\n",
    "print(f\"Training Specificity: {train_specificity:.4f}\")\n"
   ]
  },
  {
   "cell_type": "markdown",
   "id": "8b45df98-cdde-4b10-a35b-943abcf5bd9a",
   "metadata": {},
   "source": [
    "**Validation Metrics**"
   ]
  },
  {
   "cell_type": "code",
   "execution_count": 154,
   "id": "fb8fdc86-4b46-4208-b381-8265eafecf49",
   "metadata": {},
   "outputs": [
    {
     "name": "stdout",
     "output_type": "stream",
     "text": [
      "\n",
      "Validation Metrics:\n",
      "Validation Accuracy: 0.8692\n",
      "Validation Precision: 0.9641\n",
      "Validation Recall: 0.8751\n",
      "Validation F1 Score: 0.9174\n",
      "Validation Specificity: 0.8404\n"
     ]
    }
   ],
   "source": [
    "# ----- Validation Set Metrics -----\n",
    "with torch.no_grad():\n",
    "    val_outputs = model(X_val_tensor)  # Get raw model outputs\n",
    "    val_predictions = torch.argmax(val_outputs, dim=1)  # Convert to predicted classes\n",
    "\n",
    "# Ensure y_val_tensor and val_predictions are on the same device\n",
    "y_val_tensor = y_val_tensor.to(val_predictions.device)\n",
    "\n",
    "# Calculate validation metrics\n",
    "val_acc = accuracy(val_predictions, y_val_tensor)\n",
    "val_prec = precision(val_predictions, y_val_tensor)\n",
    "val_rec = recall(val_predictions, y_val_tensor)\n",
    "val_f1_score = f1(val_predictions, y_val_tensor)\n",
    "\n",
    "# Calculate specificity manually using confusion matrix\n",
    "val_conf_matrix = confusion_matrix(y_val_tensor.cpu().numpy(), val_predictions.cpu().numpy())\n",
    "TN, FP, FN, TP = val_conf_matrix.ravel()\n",
    "val_specificity = TN / (TN + FP)\n",
    "\n",
    "print(\"\\nValidation Metrics:\")\n",
    "print(f\"Validation Accuracy: {val_acc:.4f}\")\n",
    "print(f\"Validation Precision: {val_prec:.4f}\")\n",
    "print(f\"Validation Recall: {val_rec:.4f}\")\n",
    "print(f\"Validation F1 Score: {val_f1_score:.4f}\")\n",
    "print(f\"Validation Specificity: {val_specificity:.4f}\")"
   ]
  },
  {
   "cell_type": "markdown",
   "id": "e6fd8c5e-d76c-4232-8ee7-5be346b2aee9",
   "metadata": {},
   "source": [
    "*This is the best model that balances bias-variance. Moreover, it produces the best financial results, which we will go over later. Both training and validation metrics have about the same metrics, which shows that it does not overfit. Our model also has great precision, which is our most important metric and has a good specificity rate, which is our 2nd most important metric. The specificity rate would have been extremely poor if we did not give it weights. This 83-84% specificity is the highest percentage we could get without overfitting.*"
   ]
  },
  {
   "cell_type": "markdown",
   "id": "6c725641-8bef-4ce8-9f51-18b801edc463",
   "metadata": {},
   "source": [
    "**Cross Validation (ensures no overfitting aka our model performs well on new data)**"
   ]
  },
  {
   "cell_type": "code",
   "execution_count": 158,
   "id": "d9822a38-e35f-4f9f-9067-1f138adf4742",
   "metadata": {},
   "outputs": [
    {
     "name": "stdout",
     "output_type": "stream",
     "text": [
      "Fold 1\n",
      "Fold 1 Metrics:\n",
      "Accuracy: 0.8739, Precision: 0.9670, Recall: 0.8776, F1 Score: 0.9201, Specificity: 0.8559\n",
      "Fold 2\n",
      "Fold 2 Metrics:\n",
      "Accuracy: 0.8733, Precision: 0.9676, Recall: 0.8764, F1 Score: 0.9198, Specificity: 0.8578\n",
      "Fold 3\n",
      "Fold 3 Metrics:\n",
      "Accuracy: 0.8730, Precision: 0.9668, Recall: 0.8766, F1 Score: 0.9195, Specificity: 0.8559\n",
      "Fold 4\n",
      "Fold 4 Metrics:\n",
      "Accuracy: 0.8738, Precision: 0.9678, Recall: 0.8771, F1 Score: 0.9202, Specificity: 0.8572\n",
      "Fold 5\n",
      "Fold 5 Metrics:\n",
      "Accuracy: 0.8716, Precision: 0.9666, Recall: 0.8752, F1 Score: 0.9187, Specificity: 0.8544\n",
      "\n",
      "Cross-Validation Results (Pre-trained Model):\n",
      "Average Accuracy: 0.8731\n",
      "Average Precision: 0.9672\n",
      "Average Recall: 0.8766\n",
      "Average F1 Score: 0.9197\n",
      "Average Specificity: 0.8562\n"
     ]
    }
   ],
   "source": [
    "from sklearn.model_selection import KFold\n",
    "from sklearn.metrics import accuracy_score, precision_score, recall_score, f1_score, confusion_matrix\n",
    "import numpy as np\n",
    "\n",
    "# Convert dataset to tensors\n",
    "X_tensor = torch.tensor(X_train.values, dtype=torch.float32)  # Features\n",
    "y_tensor = torch.tensor(y_train.values, dtype=torch.long)  # Labels must be 1D for metrics\n",
    "\n",
    "# Initialize k-fold cross-validation\n",
    "kf = KFold(n_splits=5, shuffle=True, random_state=42)\n",
    "\n",
    "# Metrics storage\n",
    "fold_results = []\n",
    "\n",
    "for fold, (train_idx, val_idx) in enumerate(kf.split(X_tensor)):\n",
    "    print(f\"Fold {fold + 1}\")\n",
    "    \n",
    "    # Validation data for the current fold\n",
    "    X_val_fold, y_val_fold = X_tensor[val_idx], y_tensor[val_idx]\n",
    "    \n",
    "    # Validation predictions\n",
    "    model.eval()\n",
    "    y_val_pred = []\n",
    "    y_val_true = []\n",
    "    with torch.no_grad():\n",
    "        outputs = model(X_val_fold)  # Predictions from pre-trained model\n",
    "        preds = torch.argmax(outputs, dim=1)  # Convert logits to predicted class\n",
    "        y_val_pred.extend(preds.cpu().numpy())\n",
    "        y_val_true.extend(y_val_fold.cpu().numpy())\n",
    "    \n",
    "    # Calculate metrics for the current fold\n",
    "    acc = accuracy_score(y_val_true, y_val_pred)\n",
    "    prec = precision_score(y_val_true, y_val_pred, zero_division=0)\n",
    "    rec = recall_score(y_val_true, y_val_pred, zero_division=0)\n",
    "    f1 = f1_score(y_val_true, y_val_pred, zero_division=0)\n",
    "    conf_matrix = confusion_matrix(y_val_true, y_val_pred)\n",
    "    specificity = conf_matrix[0, 0] / (conf_matrix[0, 0] + conf_matrix[0, 1]) if (conf_matrix[0, 0] + conf_matrix[0, 1]) > 0 else 0\n",
    "\n",
    "    print(f\"Fold {fold + 1} Metrics:\")\n",
    "    print(f\"Accuracy: {acc:.4f}, Precision: {prec:.4f}, Recall: {rec:.4f}, F1 Score: {f1:.4f}, Specificity: {specificity:.4f}\")\n",
    "    \n",
    "    fold_results.append((acc, prec, rec, f1, specificity))\n",
    "\n",
    "# Calculate and display average metrics across folds\n",
    "avg_metrics = np.mean(fold_results, axis=0)\n",
    "print(\"\\nCross-Validation Results (Pre-trained Model):\")\n",
    "print(f\"Average Accuracy: {avg_metrics[0]:.4f}\")\n",
    "print(f\"Average Precision: {avg_metrics[1]:.4f}\")\n",
    "print(f\"Average Recall: {avg_metrics[2]:.4f}\")\n",
    "print(f\"Average F1 Score: {avg_metrics[3]:.4f}\")\n",
    "print(f\"Average Specificity: {avg_metrics[4]:.4f}\")\n"
   ]
  },
  {
   "cell_type": "markdown",
   "id": "7d7857c9-5939-4241-8dba-5e7990b513a1",
   "metadata": {},
   "source": [
    "*Our results show that our model performs on new data. ALl the folds have very similar metrics from each other.*"
   ]
  },
  {
   "cell_type": "markdown",
   "id": "9a2abb47-d7fa-453e-a953-608966a9ca22",
   "metadata": {},
   "source": [
    "### Analyze Validation Results (Net Profits, Gains/Lift Charts, ROC Curve)"
   ]
  },
  {
   "cell_type": "code",
   "execution_count": 162,
   "id": "6b1cb880-1ef2-4e73-99d3-acd8de657e69",
   "metadata": {},
   "outputs": [],
   "source": [
    "y_valid = y_valid.reset_index()"
   ]
  },
  {
   "cell_type": "code",
   "execution_count": 164,
   "id": "021c7815-e08d-4e6b-9244-90b50f3cb517",
   "metadata": {},
   "outputs": [
    {
     "name": "stdout",
     "output_type": "stream",
     "text": [
      "    index  Actual  Predicted  Correct\n",
      "0  210651       1          1     True\n",
      "1  759808       1          1     True\n",
      "2  573055       1          1     True\n",
      "3  832891       1          1     True\n",
      "4  472470       0          0     True\n",
      "5  507048       1          1     True\n",
      "6  241483       0          1    False\n",
      "7   15632       1          1     True\n",
      "8  392200       1          0    False\n",
      "9  867477       1          0    False\n"
     ]
    }
   ],
   "source": [
    "# Convert tensors to numpy for DataFrame creation\n",
    "y_val_np = y_val_tensor.cpu().numpy()  # Convert actual labels to numpy array\n",
    "val_pred_np = val_predictions.cpu().numpy()  # Convert predictions to numpy array\n",
    "\n",
    "# Create DataFrame with Actual, Predicted, and Correct (True/False) columns\n",
    "df_results = pd.DataFrame({\n",
    "    'index': y_valid['index'],\n",
    "    'Actual': y_val_np,\n",
    "    'Predicted': val_pred_np,\n",
    "    'Correct': y_val_np == val_pred_np  # True if prediction matches actual\n",
    "})\n",
    "\n",
    "# Display first 10 rows of the DataFrame\n",
    "print(df_results.head(10))"
   ]
  },
  {
   "cell_type": "code",
   "execution_count": 166,
   "id": "7e70d17b-32b4-4e49-9f69-6d6b991a9c62",
   "metadata": {},
   "outputs": [
    {
     "name": "stdout",
     "output_type": "stream",
     "text": [
      "True Positives (TP): 126820\n",
      "False Positives (FP): 4727\n",
      "True Negatives (TN): 24896\n",
      "False Negatives (FN): 18104\n"
     ]
    }
   ],
   "source": [
    "# Assuming y_val_np (actual values) and val_pred_np (predicted values) are numpy arrays\n",
    "\n",
    "# Initialize counters for each category\n",
    "TP = 0  # True Positive\n",
    "FP = 0  # False Positive\n",
    "TN = 0  # True Negative\n",
    "FN = 0  # False Negative\n",
    "\n",
    "# Iterate through actual and predicted labels\n",
    "for actual, predicted in zip(y_val_np, val_pred_np):\n",
    "    if actual == 1 and predicted == 1:\n",
    "        TP += 1\n",
    "    elif actual == 0 and predicted == 1:\n",
    "        FP += 1\n",
    "    elif actual == 0 and predicted == 0:\n",
    "        TN += 1\n",
    "    elif actual == 1 and predicted == 0:\n",
    "        FN += 1\n",
    "\n",
    "# Print the results\n",
    "print(\"True Positives (TP):\", TP)\n",
    "print(\"False Positives (FP):\", FP)\n",
    "print(\"True Negatives (TN):\", TN)\n",
    "print(\"False Negatives (FN):\", FN)\n",
    "\n"
   ]
  },
  {
   "cell_type": "markdown",
   "id": "51ce340a-ccdd-4033-86b3-6094c9d43ef9",
   "metadata": {},
   "source": [
    "**Make sure y_valid matches with df_results**"
   ]
  },
  {
   "cell_type": "code",
   "execution_count": 169,
   "id": "d7285f26-9316-410a-a818-d30af95431fc",
   "metadata": {},
   "outputs": [
    {
     "data": {
      "text/html": [
       "<div>\n",
       "<style scoped>\n",
       "    .dataframe tbody tr th:only-of-type {\n",
       "        vertical-align: middle;\n",
       "    }\n",
       "\n",
       "    .dataframe tbody tr th {\n",
       "        vertical-align: top;\n",
       "    }\n",
       "\n",
       "    .dataframe thead th {\n",
       "        text-align: right;\n",
       "    }\n",
       "</style>\n",
       "<table border=\"1\" class=\"dataframe\">\n",
       "  <thead>\n",
       "    <tr style=\"text-align: right;\">\n",
       "      <th></th>\n",
       "      <th>index</th>\n",
       "      <th>Paid in Full</th>\n",
       "    </tr>\n",
       "  </thead>\n",
       "  <tbody>\n",
       "    <tr>\n",
       "      <th>0</th>\n",
       "      <td>210651</td>\n",
       "      <td>1</td>\n",
       "    </tr>\n",
       "    <tr>\n",
       "      <th>1</th>\n",
       "      <td>759808</td>\n",
       "      <td>1</td>\n",
       "    </tr>\n",
       "    <tr>\n",
       "      <th>2</th>\n",
       "      <td>573055</td>\n",
       "      <td>1</td>\n",
       "    </tr>\n",
       "    <tr>\n",
       "      <th>3</th>\n",
       "      <td>832891</td>\n",
       "      <td>1</td>\n",
       "    </tr>\n",
       "    <tr>\n",
       "      <th>4</th>\n",
       "      <td>472470</td>\n",
       "      <td>0</td>\n",
       "    </tr>\n",
       "    <tr>\n",
       "      <th>...</th>\n",
       "      <td>...</td>\n",
       "      <td>...</td>\n",
       "    </tr>\n",
       "    <tr>\n",
       "      <th>174542</th>\n",
       "      <td>299520</td>\n",
       "      <td>1</td>\n",
       "    </tr>\n",
       "    <tr>\n",
       "      <th>174543</th>\n",
       "      <td>802635</td>\n",
       "      <td>1</td>\n",
       "    </tr>\n",
       "    <tr>\n",
       "      <th>174544</th>\n",
       "      <td>313380</td>\n",
       "      <td>1</td>\n",
       "    </tr>\n",
       "    <tr>\n",
       "      <th>174545</th>\n",
       "      <td>577603</td>\n",
       "      <td>1</td>\n",
       "    </tr>\n",
       "    <tr>\n",
       "      <th>174546</th>\n",
       "      <td>587732</td>\n",
       "      <td>1</td>\n",
       "    </tr>\n",
       "  </tbody>\n",
       "</table>\n",
       "<p>174547 rows × 2 columns</p>\n",
       "</div>"
      ],
      "text/plain": [
       "         index  Paid in Full\n",
       "0       210651             1\n",
       "1       759808             1\n",
       "2       573055             1\n",
       "3       832891             1\n",
       "4       472470             0\n",
       "...        ...           ...\n",
       "174542  299520             1\n",
       "174543  802635             1\n",
       "174544  313380             1\n",
       "174545  577603             1\n",
       "174546  587732             1\n",
       "\n",
       "[174547 rows x 2 columns]"
      ]
     },
     "execution_count": 169,
     "metadata": {},
     "output_type": "execute_result"
    }
   ],
   "source": [
    "y_valid"
   ]
  },
  {
   "cell_type": "markdown",
   "id": "9be8db66-2a63-40c9-a779-1ddd3d3b2085",
   "metadata": {},
   "source": [
    "**Create a new dataframe with the results for each business, as well as its name and disbursement gross**"
   ]
  },
  {
   "cell_type": "code",
   "execution_count": 182,
   "id": "055b632d-460f-48e2-b6bf-52fbfaa9ef12",
   "metadata": {},
   "outputs": [],
   "source": [
    "# Merge predictions with the original DataFrame based on 'index' column in df_results and natural index in df\n",
    "merged_df = df_results.merge(\n",
    "    df[['Name', 'Disbursement_Gross']],  # Only retain necessary columns\n",
    "    left_on='index',  # Use the 'index' column from df_results\n",
    "    right_index=True,  # Use the natural index of df of the right DataFrame\n",
    "    how='left'  # Keep all rows in df_results\n",
    ")\n"
   ]
  },
  {
   "cell_type": "code",
   "execution_count": 184,
   "id": "aec6c206-66e1-4650-85f2-b6c5f1bb2193",
   "metadata": {
    "scrolled": true
   },
   "outputs": [
    {
     "data": {
      "text/html": [
       "<div>\n",
       "<style scoped>\n",
       "    .dataframe tbody tr th:only-of-type {\n",
       "        vertical-align: middle;\n",
       "    }\n",
       "\n",
       "    .dataframe tbody tr th {\n",
       "        vertical-align: top;\n",
       "    }\n",
       "\n",
       "    .dataframe thead th {\n",
       "        text-align: right;\n",
       "    }\n",
       "</style>\n",
       "<table border=\"1\" class=\"dataframe\">\n",
       "  <thead>\n",
       "    <tr style=\"text-align: right;\">\n",
       "      <th></th>\n",
       "      <th>index</th>\n",
       "      <th>Actual</th>\n",
       "      <th>Predicted</th>\n",
       "      <th>Correct</th>\n",
       "      <th>Name</th>\n",
       "      <th>Disbursement_Gross</th>\n",
       "    </tr>\n",
       "  </thead>\n",
       "  <tbody>\n",
       "    <tr>\n",
       "      <th>0</th>\n",
       "      <td>210651</td>\n",
       "      <td>1</td>\n",
       "      <td>1</td>\n",
       "      <td>True</td>\n",
       "      <td>WINDSHIELD REPAIR SYST/SPECIAL</td>\n",
       "      <td>57000</td>\n",
       "    </tr>\n",
       "    <tr>\n",
       "      <th>1</th>\n",
       "      <td>759808</td>\n",
       "      <td>1</td>\n",
       "      <td>1</td>\n",
       "      <td>True</td>\n",
       "      <td>SPORTS SHOE, THE</td>\n",
       "      <td>228000</td>\n",
       "    </tr>\n",
       "    <tr>\n",
       "      <th>2</th>\n",
       "      <td>573055</td>\n",
       "      <td>1</td>\n",
       "      <td>1</td>\n",
       "      <td>True</td>\n",
       "      <td>TEMMERMAN &amp; CILLEY, LLP</td>\n",
       "      <td>1071000</td>\n",
       "    </tr>\n",
       "    <tr>\n",
       "      <th>3</th>\n",
       "      <td>832891</td>\n",
       "      <td>1</td>\n",
       "      <td>1</td>\n",
       "      <td>True</td>\n",
       "      <td>GARLICK ENVIRONMENTAL ASSOCIAT</td>\n",
       "      <td>400000</td>\n",
       "    </tr>\n",
       "    <tr>\n",
       "      <th>4</th>\n",
       "      <td>472470</td>\n",
       "      <td>0</td>\n",
       "      <td>0</td>\n",
       "      <td>True</td>\n",
       "      <td>NATIONAL MOLDED PRODUCTS</td>\n",
       "      <td>80000</td>\n",
       "    </tr>\n",
       "    <tr>\n",
       "      <th>...</th>\n",
       "      <td>...</td>\n",
       "      <td>...</td>\n",
       "      <td>...</td>\n",
       "      <td>...</td>\n",
       "      <td>...</td>\n",
       "      <td>...</td>\n",
       "    </tr>\n",
       "    <tr>\n",
       "      <th>174542</th>\n",
       "      <td>299520</td>\n",
       "      <td>1</td>\n",
       "      <td>1</td>\n",
       "      <td>True</td>\n",
       "      <td>CHEF LEE'S MANDARIN HOUSE</td>\n",
       "      <td>1148000</td>\n",
       "    </tr>\n",
       "    <tr>\n",
       "      <th>174543</th>\n",
       "      <td>802635</td>\n",
       "      <td>1</td>\n",
       "      <td>1</td>\n",
       "      <td>True</td>\n",
       "      <td>CS44 ACQUISITION CORP DBA SERV</td>\n",
       "      <td>1235723</td>\n",
       "    </tr>\n",
       "    <tr>\n",
       "      <th>174544</th>\n",
       "      <td>313380</td>\n",
       "      <td>1</td>\n",
       "      <td>1</td>\n",
       "      <td>True</td>\n",
       "      <td>BIG WEST OILFIELD SERVICES</td>\n",
       "      <td>541934</td>\n",
       "    </tr>\n",
       "    <tr>\n",
       "      <th>174545</th>\n",
       "      <td>577603</td>\n",
       "      <td>1</td>\n",
       "      <td>1</td>\n",
       "      <td>True</td>\n",
       "      <td>N.L. CARGO, INC.</td>\n",
       "      <td>550000</td>\n",
       "    </tr>\n",
       "    <tr>\n",
       "      <th>174546</th>\n",
       "      <td>587732</td>\n",
       "      <td>1</td>\n",
       "      <td>1</td>\n",
       "      <td>True</td>\n",
       "      <td>WALT'S AUTO SERVICE PLUS INC</td>\n",
       "      <td>80000</td>\n",
       "    </tr>\n",
       "  </tbody>\n",
       "</table>\n",
       "<p>174547 rows × 6 columns</p>\n",
       "</div>"
      ],
      "text/plain": [
       "         index  Actual  Predicted  Correct                            Name  \\\n",
       "0       210651       1          1     True  WINDSHIELD REPAIR SYST/SPECIAL   \n",
       "1       759808       1          1     True                SPORTS SHOE, THE   \n",
       "2       573055       1          1     True         TEMMERMAN & CILLEY, LLP   \n",
       "3       832891       1          1     True  GARLICK ENVIRONMENTAL ASSOCIAT   \n",
       "4       472470       0          0     True        NATIONAL MOLDED PRODUCTS   \n",
       "...        ...     ...        ...      ...                             ...   \n",
       "174542  299520       1          1     True       CHEF LEE'S MANDARIN HOUSE   \n",
       "174543  802635       1          1     True  CS44 ACQUISITION CORP DBA SERV   \n",
       "174544  313380       1          1     True      BIG WEST OILFIELD SERVICES   \n",
       "174545  577603       1          1     True                N.L. CARGO, INC.   \n",
       "174546  587732       1          1     True    WALT'S AUTO SERVICE PLUS INC   \n",
       "\n",
       "        Disbursement_Gross  \n",
       "0                    57000  \n",
       "1                   228000  \n",
       "2                  1071000  \n",
       "3                   400000  \n",
       "4                    80000  \n",
       "...                    ...  \n",
       "174542             1148000  \n",
       "174543             1235723  \n",
       "174544              541934  \n",
       "174545              550000  \n",
       "174546               80000  \n",
       "\n",
       "[174547 rows x 6 columns]"
      ]
     },
     "execution_count": 184,
     "metadata": {},
     "output_type": "execute_result"
    }
   ],
   "source": [
    "merged_df"
   ]
  },
  {
   "cell_type": "markdown",
   "id": "55b70cae-ffd1-417f-8b0c-6f6000c4573f",
   "metadata": {},
   "source": [
    "**Make sure natural index in df matches with column 'index' in df_results.**"
   ]
  },
  {
   "cell_type": "code",
   "execution_count": 187,
   "id": "fcd91726-4f8c-4f9d-bd1e-c05cacfccc72",
   "metadata": {},
   "outputs": [
    {
     "data": {
      "text/plain": [
       "index                                                                  210664\n",
       "Name                                           WINDSHIELD REPAIR SYST/SPECIAL\n",
       "City                                                               SAN MARCOS\n",
       "State                                                                      CA\n",
       "Zip                                                                     92069\n",
       "NAICS_U.S._Industry_Title         OtherServices(except Public Administration)\n",
       "Loan_Term                                                                 300\n",
       "Number_Of_Employees                                                         5\n",
       "Business_Type                                                        Existing\n",
       "Urban_Rural_Status                                                    Unknown\n",
       "Revolving_Line_Of_Credit                                                    0\n",
       "Low_Documentation_Loan_Program                                              0\n",
       "Disbursement_Gross                                                      57000\n",
       "Loan_Status                                                                 1\n",
       "SBA_Approved_Amount                                                     45600\n",
       "Franchise_Status                                                            0\n",
       "Month_Of_Approval                                                    November\n",
       "Name: 210651, dtype: object"
      ]
     },
     "execution_count": 187,
     "metadata": {},
     "output_type": "execute_result"
    }
   ],
   "source": [
    "df.iloc[210651]"
   ]
  },
  {
   "cell_type": "markdown",
   "id": "9509e01d-191c-4e70-b80c-a4abe6e9402c",
   "metadata": {},
   "source": [
    "*Yes, we joined on the correct indexes*"
   ]
  },
  {
   "cell_type": "markdown",
   "id": "0118a9db-69ee-4d29-a60d-5be4cb3b5944",
   "metadata": {},
   "source": [
    "**Create a new column calculating 'Profit/Loss' for each business**"
   ]
  },
  {
   "cell_type": "markdown",
   "id": "88f9be35-6584-4a1e-a68e-826d03d7a0b4",
   "metadata": {},
   "source": [
    "At the end of the day, we need to see how much money our model will make/lose for the bank who uses this model. We will set up these calculations based on the criteria"
   ]
  },
  {
   "cell_type": "markdown",
   "id": "db6a6c82-7871-4115-9156-732dd3ad9047",
   "metadata": {},
   "source": [
    "- **If Predicted Paid in Full, Actual Paid in Full**: **Profit** = 5% of DisbursementGross\n",
    "- **If Predicted Paid in Full, Actual Default**: **Loss** = -5 times 5% of DisbursementGross\n",
    "    - The formula means:\n",
    "        - Take 5% of the loan amount.\n",
    "        - Multiply this amount by 5.\n",
    "        - Make it negative (indicating a loss).\n",
    "- **If Predicted Default** (regardless of actual outcome): Profit/Loss = 0\n",
    "    - This is because the bank chooses to not give the business money, so they do not gain or lose any money."
   ]
  },
  {
   "cell_type": "code",
   "execution_count": 196,
   "id": "e154f263-5bce-436c-960a-d815a2d3fb0c",
   "metadata": {},
   "outputs": [
    {
     "name": "stdout",
     "output_type": "stream",
     "text": [
      "    index  Actual  Predicted  Correct                            Name  \\\n",
      "0  210651       1          1     True  WINDSHIELD REPAIR SYST/SPECIAL   \n",
      "1  759808       1          1     True                SPORTS SHOE, THE   \n",
      "2  573055       1          1     True         TEMMERMAN & CILLEY, LLP   \n",
      "3  832891       1          1     True  GARLICK ENVIRONMENTAL ASSOCIAT   \n",
      "4  472470       0          0     True        NATIONAL MOLDED PRODUCTS   \n",
      "\n",
      "   Disbursement_Gross  Profit/Loss  \n",
      "0               57000       2850.0  \n",
      "1              228000      11400.0  \n",
      "2             1071000      53550.0  \n",
      "3              400000      20000.0  \n",
      "4               80000          0.0  \n"
     ]
    }
   ],
   "source": [
    "def calculate_profit_loss(row):\n",
    "    if row['Predicted'] == 1 and row['Actual'] == 1:\n",
    "        # Predicted Paid in Full, Actual Paid in Full\n",
    "        return 0.05 * row['Disbursement_Gross']\n",
    "    elif row['Predicted'] == 1 and row['Actual'] == 0:\n",
    "        # Predicted Paid in Full, Actual Default\n",
    "        return -5 * 0.05 * row['Disbursement_Gross']\n",
    "    else:\n",
    "        # Predicted Default (regardless of Actual outcome)\n",
    "        return 0\n",
    "\n",
    "# Apply the function to each row of the DataFrame\n",
    "merged_df['Profit/Loss'] = merged_df.apply(calculate_profit_loss, axis=1)\n",
    "\n",
    "# Display the first few rows of the DataFrame to verify the calculations\n",
    "print(merged_df.head())\n"
   ]
  },
  {
   "cell_type": "markdown",
   "id": "e8bcc015-ab85-47ad-817d-60497d275793",
   "metadata": {},
   "source": [
    "**Average Profit/Loss from each Business Loan Given Out for the Bank**"
   ]
  },
  {
   "cell_type": "code",
   "execution_count": 198,
   "id": "ff91be0b-c042-4df5-ac13-5befef6d96ce",
   "metadata": {},
   "outputs": [
    {
     "data": {
      "text/plain": [
       "6416.437117796354"
      ]
     },
     "execution_count": 198,
     "metadata": {},
     "output_type": "execute_result"
    }
   ],
   "source": [
    "merged_df['Profit/Loss'].mean()"
   ]
  },
  {
   "cell_type": "markdown",
   "id": "dfa618fa-c087-4233-b382-1052b9227cc0",
   "metadata": {},
   "source": [
    "**Total Profit/Loss from all the Business Loans Given Out for the Bank**"
   ]
  },
  {
   "cell_type": "code",
   "execution_count": 202,
   "id": "35359852-d391-4712-bead-a17310ec00d0",
   "metadata": {},
   "outputs": [
    {
     "data": {
      "text/plain": [
       "1119969849.6000001"
      ]
     },
     "execution_count": 202,
     "metadata": {},
     "output_type": "execute_result"
    }
   ],
   "source": [
    "merged_df['Profit/Loss'].sum()"
   ]
  },
  {
   "cell_type": "markdown",
   "id": "aa4fac5d-db71-451b-ba6a-0255d267b92f",
   "metadata": {},
   "source": [
    "#### Normal Distribution Chart"
   ]
  },
  {
   "cell_type": "markdown",
   "id": "469d2dce-3eca-4eba-8a47-d6b9caa4119d",
   "metadata": {},
   "source": [
    "**Remove outliers**"
   ]
  },
  {
   "cell_type": "code",
   "execution_count": 206,
   "id": "48d3e749-aee4-4d19-9d59-6fba4286255e",
   "metadata": {},
   "outputs": [
    {
     "name": "stdout",
     "output_type": "stream",
     "text": [
      "Original number of rows: 174547\n",
      "Number of rows after removing outliers: 154368\n"
     ]
    }
   ],
   "source": [
    "import numpy as np\n",
    "\n",
    "# Calculate Q1 (25th percentile) and Q3 (75th percentile) of the Profit/Loss column\n",
    "Q1 = merged_df['Profit/Loss'].quantile(0.25)\n",
    "Q3 = merged_df['Profit/Loss'].quantile(0.75)\n",
    "\n",
    "# Calculate the Interquartile Range (IQR)\n",
    "IQR = Q3 - Q1\n",
    "\n",
    "# Define lower and upper bounds for outliers\n",
    "lower_bound = Q1 - 1.5 * IQR\n",
    "upper_bound = Q3 + 1.5 * IQR\n",
    "\n",
    "# Filter the DataFrame to remove outliers\n",
    "filtered_df = merged_df[(merged_df['Profit/Loss'] >= lower_bound) & (merged_df['Profit/Loss'] <= upper_bound)]\n",
    "\n",
    "print(f\"Original number of rows: {merged_df.shape[0]}\")\n",
    "print(f\"Number of rows after removing outliers: {filtered_df.shape[0]}\")\n"
   ]
  },
  {
   "cell_type": "markdown",
   "id": "6e795f19-cf04-4427-98da-582a5f1ee7a6",
   "metadata": {},
   "source": [
    "**Create Chart**"
   ]
  },
  {
   "cell_type": "code",
   "execution_count": 209,
   "id": "29afa706-a95a-419f-82cb-43681f12f67c",
   "metadata": {},
   "outputs": [
    {
     "data": {
      "image/png": "[encoded data removed]",
      "text/plain": [
       "<Figure size 1000x600 with 1 Axes>"
      ]
     },
     "metadata": {},
     "output_type": "display_data"
    }
   ],
   "source": [
    "import matplotlib.pyplot as plt\n",
    "\n",
    "# Plot a normal distribution chart for the 'Profit/Loss' column\n",
    "plt.figure(figsize=(10, 6))\n",
    "plt.hist(filtered_df['Profit/Loss'], bins=100, density=True, alpha=0.6, color='blue')\n",
    "plt.title('Normal Distribution of Profit/Loss')\n",
    "plt.xlabel('Profit/Loss')\n",
    "plt.ylabel('Density')\n",
    "plt.grid(True)\n",
    "plt.show()\n"
   ]
  },
  {
   "cell_type": "markdown",
   "id": "83cef664-ad96-4702-bc3f-990836d0463c",
   "metadata": {},
   "source": [
    "*The normal distribution Chart has a majority of its Profit/Loss values right below or above zero. It is skewed to the right, meaning the higher the profit, the less instances there are of those. This is expected. However, if we look on the left side of the chart, there ar very low amounts of instances where there are negative values (losses), which means oour model is good at preventing losses.*"
   ]
  },
  {
   "cell_type": "markdown",
   "id": "0f92e2f3-d067-4422-b527-679af573eac7",
   "metadata": {},
   "source": [
    "**View the total number of instances where there is a loss vs. total number of instances where there is a profit**"
   ]
  },
  {
   "cell_type": "code",
   "execution_count": 213,
   "id": "cd0ddd9b-4713-4894-b631-2eab6ff7c666",
   "metadata": {},
   "outputs": [
    {
     "name": "stdout",
     "output_type": "stream",
     "text": [
      "Number of Positive Values: 126820\n",
      "Number of Negative Values: 4727\n"
     ]
    }
   ],
   "source": [
    "# Count the number of positive and negative values\n",
    "positive_count = (merged_df['Profit/Loss'] > 0).sum()\n",
    "negative_count = (merged_df['Profit/Loss'] < 0).sum()\n",
    "\n",
    "# Print the results\n",
    "print(f\"Number of Positive Values: {positive_count}\")\n",
    "print(f\"Number of Negative Values: {negative_count}\")\n"
   ]
  },
  {
   "cell_type": "markdown",
   "id": "1878150e-fa27-43f9-811a-fe6f8fdc1e92",
   "metadata": {},
   "source": [
    "There are approximately 92.26% more positives than negatives in the dataset! This is GOOD!"
   ]
  },
  {
   "cell_type": "code",
   "execution_count": 216,
   "id": "1ff3ca52-3677-46a8-bdf8-f847dffb9604",
   "metadata": {},
   "outputs": [
    {
     "data": {
      "text/plain": [
       "count    174547.000000\n",
       "mean       6416.437118\n",
       "std       22452.642291\n",
       "min     -675000.000000\n",
       "25%           0.000000\n",
       "50%        3000.000000\n",
       "75%        9675.000000\n",
       "max      572316.250000\n",
       "Name: Profit/Loss, dtype: float64"
      ]
     },
     "execution_count": 216,
     "metadata": {},
     "output_type": "execute_result"
    }
   ],
   "source": [
    "merged_df['Profit/Loss'].describe()"
   ]
  },
  {
   "cell_type": "markdown",
   "id": "3a21ec41-4c13-4b07-bc3e-db9eeed6c3ca",
   "metadata": {},
   "source": [
    "#### Gains Chart"
   ]
  },
  {
   "cell_type": "markdown",
   "id": "886626f9-daa4-4e13-9e57-f5c1c40d5c23",
   "metadata": {},
   "source": [
    "**What is a gains chart?**\n",
    "*A gains chart is a visual tool used to evaluate the performance of a predictive model, particularly in classification tasks. It shows how well the model identifies positive cases (e.g., customers likely to buy, patients likely to have a disease) compared to random guessing.*"
   ]
  },
  {
   "cell_type": "code",
   "execution_count": 220,
   "id": "d2ceef91-e9e4-4c80-800a-49aa32f09e77",
   "metadata": {},
   "outputs": [],
   "source": [
    "#! pip install ace_tools"
   ]
  },
  {
   "cell_type": "markdown",
   "id": "5f319b11-4b23-48f9-8849-b4a484d9c63c",
   "metadata": {},
   "source": [
    "**Extract the probability that the loan will be paid in full from the model**"
   ]
  },
  {
   "cell_type": "code",
   "execution_count": 223,
   "id": "b6c5ba76-52e1-420e-bac6-91c6d64c1a70",
   "metadata": {
    "scrolled": true
   },
   "outputs": [
    {
     "name": "stdout",
     "output_type": "stream",
     "text": [
      "    index  Actual  Predicted  Correct                            Name  \\\n",
      "0  210651       1          1     True  WINDSHIELD REPAIR SYST/SPECIAL   \n",
      "1  759808       1          1     True                SPORTS SHOE, THE   \n",
      "2  573055       1          1     True         TEMMERMAN & CILLEY, LLP   \n",
      "3  832891       1          1     True  GARLICK ENVIRONMENTAL ASSOCIAT   \n",
      "4  472470       0          0     True        NATIONAL MOLDED PRODUCTS   \n",
      "\n",
      "   Disbursement_Gross  Profit/Loss  Positive Class Probability  \n",
      "0               57000       2850.0                    0.879517  \n",
      "1              228000      11400.0                    0.942048  \n",
      "2             1071000      53550.0                    0.998567  \n",
      "3              400000      20000.0                    0.923171  \n",
      "4               80000          0.0                    0.437885  \n"
     ]
    }
   ],
   "source": [
    "import torch\n",
    "import torch.nn.functional as F\n",
    "\n",
    "# Example inputs\n",
    "X_val_tensor = torch.tensor(X_valid.values, dtype=torch.float32)  # Validation set tensor\n",
    "\n",
    "# Ensure logits are converted to probabilities\n",
    "import torch.nn.functional as F\n",
    "\n",
    "# Generate probabilities for positive class\n",
    "with torch.no_grad():  # No gradient computation during evaluation\n",
    "    logits = model(X_val_tensor)  # Get logits\n",
    "    probs = F.softmax(logits, dim=1)  # Apply softmax\n",
    "    probs_positive_class = probs[:, 1].cpu().numpy()  # Extract positive class probabilities\n",
    "\n",
    "# Add the probabilities as a new column in merged_df\n",
    "merged_df['Positive Class Probability'] = probs_positive_class\n",
    "\n",
    "# Display first few rows to verify\n",
    "print(merged_df.head())\n",
    "\n"
   ]
  },
  {
   "cell_type": "code",
   "execution_count": 224,
   "id": "5b21d75c-e242-459e-8e50-452a97501ebd",
   "metadata": {},
   "outputs": [
    {
     "data": {
      "image/png": "[encoded data removed]",
      "text/plain": [
       "<Figure size 1000x600 with 1 Axes>"
      ]
     },
     "metadata": {},
     "output_type": "display_data"
    },
    {
     "name": "stdout",
     "output_type": "stream",
     "text": [
      "   Decile  Positives  Total  Cumulative Positives      Gain    Gain (%)\n",
      "0       1      17400  17455                 17400  0.120063   12.006293\n",
      "1       2      17346  17455                 34746  0.239753   23.975325\n",
      "2       3      17325  17454                 52071  0.359299   35.929867\n",
      "3       4      17247  17455                 69318  0.478306   47.830587\n",
      "4       5      17020  17454                 86338  0.595747   59.574674\n",
      "5       6      16650  17455                102988  0.710635   71.063454\n",
      "6       7      15900  17455                118888  0.820347   82.034722\n",
      "7       8      14004  17454                132892  0.916977   91.697717\n",
      "8       9       8981  17455                141873  0.978948   97.894759\n",
      "9      10       3051  17455                144924  1.000000  100.000000\n"
     ]
    }
   ],
   "source": [
    "import pandas as pd\n",
    "import numpy as np\n",
    "import matplotlib.pyplot as plt\n",
    "\n",
    "# Step 1: Sort the DataFrame by predicted probabilities in descending order\n",
    "merged_df = merged_df.sort_values(by=\"Positive Class Probability\", ascending=False)\n",
    "\n",
    "# Step 2: Assign deciles (Decile 10 has the highest probabilities)\n",
    "merged_df['Decile'] = pd.qcut(\n",
    "    merged_df['Positive Class Probability'], \n",
    "    q=10, \n",
    "    labels=False\n",
    ") + 1\n",
    "\n",
    "# Step 3: Flip decile labels so Decile 10 corresponds to the highest probabilities\n",
    "merged_df['Decile'] = 11 - merged_df['Decile']\n",
    "\n",
    "# Step 4: Calculate total positives in the dataset\n",
    "total_positives = (merged_df['Actual'] == 1).sum()\n",
    "\n",
    "# Step 5: Aggregate data by decile\n",
    "gain_table = merged_df.groupby('Decile').agg(\n",
    "    Positives=('Actual', lambda x: (x == 1).sum()),  # Count actual positives\n",
    "    Total=('Actual', 'count')  # Total rows in each decile\n",
    ").reset_index()\n",
    "\n",
    "# Step 6: Calculate cumulative positives and gain percentage\n",
    "gain_table['Cumulative Positives'] = gain_table['Positives'].cumsum()\n",
    "gain_table['Gain'] = gain_table['Cumulative Positives'] / total_positives  # Gain = cumulative positives / total positives\n",
    "gain_table['Gain (%)'] = gain_table['Gain'] * 100  # Convert gain to percentage\n",
    "\n",
    "# Step 7: Calculate baseline curve\n",
    "baseline_gain = np.linspace(0, 100, 11)  # Baseline evenly increases by 10% for each decile\n",
    "\n",
    "# Step 8: Plot the gain chart with the baseline curve\n",
    "plt.figure(figsize=(10, 6))\n",
    "plt.plot(gain_table['Decile'], gain_table['Gain (%)'], marker='o', label=\"Gain Chart\")\n",
    "plt.plot(range(1, 11), baseline_gain[1:], linestyle='--', color='red', label=\"Baseline\")\n",
    "plt.title(\"Gain Chart\")\n",
    "plt.xlabel(\"Decile (from highest to lowest probability)\")\n",
    "plt.ylabel(\"Gain (%)\")\n",
    "plt.xticks(range(1, 11))\n",
    "plt.grid()\n",
    "plt.legend()\n",
    "plt.show()\n",
    "\n",
    "# Optional: Display the gain table for validation\n",
    "print(gain_table)\n",
    "\n"
   ]
  },
  {
   "cell_type": "markdown",
   "id": "7618f166-5d55-43f9-bead-997873f54eff",
   "metadata": {},
   "source": [
    "*The model performs better than random but lacks strong predictive power in prioritizing positives in the early deciles, likely due to overconfidence from the neural network and CrossEntropy loss, which makes gains charts less insightful for evaluation.*"
   ]
  },
  {
   "cell_type": "markdown",
   "id": "b048da7d-f1a2-4d87-8cec-22ac0e345a27",
   "metadata": {},
   "source": [
    "Neural networks are inherently good at classification tasks rather than producing probability rankings. Therefore, the **chart's subpar performance is less concerning**."
   ]
  },
  {
   "cell_type": "markdown",
   "id": "28afb63c-0a22-427b-9b67-ba26f1fad750",
   "metadata": {},
   "source": [
    "Gains charts are more valuable for models like logistic regression, which are better calibrated probabilistically. For neural networks, other metrics like ROC curves better represent performance.\n"
   ]
  },
  {
   "cell_type": "markdown",
   "id": "b811281a-1341-4f66-9773-8d2ed0c0b5c1",
   "metadata": {},
   "source": [
    "#### Lift Chart"
   ]
  },
  {
   "cell_type": "markdown",
   "id": "2a370c08-ce33-4a0d-a314-1f993642f911",
   "metadata": {},
   "source": [
    "- Determines how effective the model is in ranking predictions.\n",
    "- Helps decide how much of the population to target for maximum positive outcomes."
   ]
  },
  {
   "cell_type": "code",
   "execution_count": 232,
   "id": "27ea85d9-8a14-45f2-a04a-973958e6e1cb",
   "metadata": {},
   "outputs": [
    {
     "data": {
      "text/html": [
       "<div>\n",
       "<style scoped>\n",
       "    .dataframe tbody tr th:only-of-type {\n",
       "        vertical-align: middle;\n",
       "    }\n",
       "\n",
       "    .dataframe tbody tr th {\n",
       "        vertical-align: top;\n",
       "    }\n",
       "\n",
       "    .dataframe thead th {\n",
       "        text-align: right;\n",
       "    }\n",
       "</style>\n",
       "<table border=\"1\" class=\"dataframe\">\n",
       "  <thead>\n",
       "    <tr style=\"text-align: right;\">\n",
       "      <th></th>\n",
       "      <th>index</th>\n",
       "      <th>Actual</th>\n",
       "      <th>Predicted</th>\n",
       "      <th>Correct</th>\n",
       "      <th>Name</th>\n",
       "      <th>Disbursement_Gross</th>\n",
       "      <th>Profit/Loss</th>\n",
       "      <th>Positive Class Probability</th>\n",
       "      <th>Decile</th>\n",
       "    </tr>\n",
       "  </thead>\n",
       "  <tbody>\n",
       "    <tr>\n",
       "      <th>83164</th>\n",
       "      <td>866515</td>\n",
       "      <td>1</td>\n",
       "      <td>1</td>\n",
       "      <td>True</td>\n",
       "      <td>FOURTH AVENUE PROPERTIES, INC.</td>\n",
       "      <td>400000</td>\n",
       "      <td>20000.0</td>\n",
       "      <td>1.0</td>\n",
       "      <td>1</td>\n",
       "    </tr>\n",
       "    <tr>\n",
       "      <th>36971</th>\n",
       "      <td>23454</td>\n",
       "      <td>1</td>\n",
       "      <td>1</td>\n",
       "      <td>True</td>\n",
       "      <td>PATEL FAMILY TRUST EPC</td>\n",
       "      <td>250000</td>\n",
       "      <td>12500.0</td>\n",
       "      <td>1.0</td>\n",
       "      <td>1</td>\n",
       "    </tr>\n",
       "    <tr>\n",
       "      <th>7522</th>\n",
       "      <td>823689</td>\n",
       "      <td>1</td>\n",
       "      <td>1</td>\n",
       "      <td>True</td>\n",
       "      <td>PRAGER WINERY &amp; PORT WORKS INC</td>\n",
       "      <td>1091400</td>\n",
       "      <td>54570.0</td>\n",
       "      <td>1.0</td>\n",
       "      <td>1</td>\n",
       "    </tr>\n",
       "    <tr>\n",
       "      <th>85481</th>\n",
       "      <td>370574</td>\n",
       "      <td>1</td>\n",
       "      <td>1</td>\n",
       "      <td>True</td>\n",
       "      <td>ST. HILAIRE SEED COMPANY, INC.</td>\n",
       "      <td>11000000</td>\n",
       "      <td>550000.0</td>\n",
       "      <td>1.0</td>\n",
       "      <td>1</td>\n",
       "    </tr>\n",
       "    <tr>\n",
       "      <th>27614</th>\n",
       "      <td>790013</td>\n",
       "      <td>1</td>\n",
       "      <td>1</td>\n",
       "      <td>True</td>\n",
       "      <td>INDUSTRIAL CONTAINER AND SUPPL</td>\n",
       "      <td>3726000</td>\n",
       "      <td>186300.0</td>\n",
       "      <td>1.0</td>\n",
       "      <td>1</td>\n",
       "    </tr>\n",
       "  </tbody>\n",
       "</table>\n",
       "</div>"
      ],
      "text/plain": [
       "        index  Actual  Predicted  Correct                            Name  \\\n",
       "83164  866515       1          1     True  FOURTH AVENUE PROPERTIES, INC.   \n",
       "36971   23454       1          1     True          PATEL FAMILY TRUST EPC   \n",
       "7522   823689       1          1     True  PRAGER WINERY & PORT WORKS INC   \n",
       "85481  370574       1          1     True  ST. HILAIRE SEED COMPANY, INC.   \n",
       "27614  790013       1          1     True  INDUSTRIAL CONTAINER AND SUPPL   \n",
       "\n",
       "       Disbursement_Gross  Profit/Loss  Positive Class Probability  Decile  \n",
       "83164              400000      20000.0                         1.0       1  \n",
       "36971              250000      12500.0                         1.0       1  \n",
       "7522              1091400      54570.0                         1.0       1  \n",
       "85481            11000000     550000.0                         1.0       1  \n",
       "27614             3726000     186300.0                         1.0       1  "
      ]
     },
     "execution_count": 232,
     "metadata": {},
     "output_type": "execute_result"
    }
   ],
   "source": [
    "merged_df.head()"
   ]
  },
  {
   "cell_type": "markdown",
   "id": "8166290f-f3d5-4224-938b-7ea3a8fa7834",
   "metadata": {},
   "source": [
    "**View average probability for each Decile**"
   ]
  },
  {
   "cell_type": "code",
   "execution_count": 235,
   "id": "c862f0c3-8ac5-4558-9c7f-e476254970b1",
   "metadata": {},
   "outputs": [],
   "source": [
    "list = []\n",
    "for i in range(1,11):\n",
    "    hi= merged_df[merged_df['Decile'] == i]\n",
    "    hi = hi['Positive Class Probability'].mean()\n",
    "    list.append(hi)"
   ]
  },
  {
   "cell_type": "code",
   "execution_count": 237,
   "id": "6f8224af-db92-4b64-8347-10f1f6b9508e",
   "metadata": {},
   "outputs": [
    {
     "data": {
      "text/plain": [
       "[0.9978815,\n",
       " 0.9910127,\n",
       " 0.97615224,\n",
       " 0.9513827,\n",
       " 0.90971863,\n",
       " 0.83708256,\n",
       " 0.7172047,\n",
       " 0.50479215,\n",
       " 0.218225,\n",
       " 0.05241653]"
      ]
     },
     "execution_count": 237,
     "metadata": {},
     "output_type": "execute_result"
    }
   ],
   "source": [
    "list"
   ]
  },
  {
   "cell_type": "markdown",
   "id": "d5a44905-4241-4c57-8bf3-f6e7a3dfa92d",
   "metadata": {},
   "source": [
    "*Since there are more 1s than 0s, it makes sense why the first 7 deciles are well about 50%*"
   ]
  },
  {
   "cell_type": "markdown",
   "id": "8081170e-c74b-4bd6-9181-437795219c94",
   "metadata": {},
   "source": [
    "**Create Lift Chart**"
   ]
  },
  {
   "cell_type": "markdown",
   "id": "00e18178-6426-471a-b8ab-d8e31fd5624f",
   "metadata": {},
   "source": [
    "This code calculates and plots a lift chart to evaluate a model's ability to rank positive outcomes. It first sorts the data by predicted probabilities in descending order, then divides it into deciles (10 equal-sized groups). For each decile, it calculates the number of actual positives and the lift, which measures how much better the model performs compared to random guessing.\n",
    "\n",
    "The lift is calculated as the ratio of positives in each decile (normalized by the decile size) to the overall proportion of positives in the dataset. A plot shows the lift curve for the model against a baseline of random performance. The function returns a summary table with decile metrics, making it a quick and visual way to assess model effectiveness."
   ]
  },
  {
   "cell_type": "code",
   "execution_count": 242,
   "id": "c0d0eb45-c1e4-4b4b-a410-e8619e2b7344",
   "metadata": {},
   "outputs": [
    {
     "data": {
      "image/png": "[encoded data removed]",
      "text/plain": [
       "<Figure size 1000x600 with 1 Axes>"
      ]
     },
     "metadata": {},
     "output_type": "display_data"
    },
    {
     "name": "stdout",
     "output_type": "stream",
     "text": [
      "   Decile  Positives  Total      Lift\n",
      "0       1      17400  17455  1.200609\n",
      "1       2      17346  17455  1.196883\n",
      "2       3      17325  17454  1.195502\n",
      "3       4      17247  17455  1.190052\n",
      "4       5      17021  17455  1.174457\n",
      "5       6      16649  17454  1.148855\n",
      "6       7      15900  17455  1.097108\n",
      "7       8      14004  17454  1.000000\n",
      "8       9       8981  17455  1.000000\n",
      "9      10       3051  17455  1.000000\n"
     ]
    }
   ],
   "source": [
    "import pandas as pd\n",
    "import numpy as np\n",
    "import matplotlib.pyplot as plt\n",
    "\n",
    "def generate_lift_chart(df, prob_col, actual_col, num_deciles=10):\n",
    "    # Sort by predicted probabilities in descending order\n",
    "    df = df.sort_values(by=prob_col, ascending=False).reset_index(drop=True)\n",
    "    \n",
    "    # Add Decile column\n",
    "    df['Decile'] = pd.qcut(df.index, num_deciles, labels=False, duplicates='drop') + 1  # Deciles from 1 to num_deciles\n",
    "    \n",
    "    # Group by Decile\n",
    "    decile_summary = df.groupby('Decile').agg(\n",
    "        Positives=(actual_col, 'sum'),  # Total actual positives in each decile\n",
    "        Total=('Decile', 'count')      # Total samples in each decile\n",
    "    ).reset_index()\n",
    "    \n",
    "    # Add cumulative metrics\n",
    "    total_positives = df[actual_col].sum()\n",
    "    decile_summary['Lift'] = (decile_summary['Positives'] / decile_summary['Total']) / (total_positives / len(df))\n",
    "    \n",
    "    # Ensure Lift values don't drop below 1.0 due to calculation issues\n",
    "    decile_summary['Lift'] = np.maximum(decile_summary['Lift'], 1.0)\n",
    "\n",
    "    # Plot the lift chart\n",
    "    plt.figure(figsize=(10, 6))\n",
    "    plt.plot(decile_summary['Decile'], decile_summary['Lift'], marker='o', color='blue', label='Model')\n",
    "    plt.axhline(y=1, color='k', linestyle='--', label='Baseline (Random)')\n",
    "    plt.title('Lift Chart')\n",
    "    plt.xlabel('Decile (from highest to lowest probability)')\n",
    "    plt.ylabel('Lift')\n",
    "    plt.xticks(range(1, num_deciles + 1))  # Ensure all deciles are labeled on the x-axis\n",
    "    plt.legend()\n",
    "    plt.grid()\n",
    "    plt.show()\n",
    "    \n",
    "    return decile_summary\n",
    "\n",
    "# Replace with your actual dataframe and column names\n",
    "# Example:\n",
    "lift_table = generate_lift_chart(merged_df, prob_col='Positive Class Probability', actual_col='Actual')\n",
    "\n",
    "# Uncomment to display the lift table if using in your environment\n",
    "print(lift_table)\n",
    "\n"
   ]
  },
  {
   "cell_type": "markdown",
   "id": "a9f0b2f7-d51a-43b9-8a0e-62947e4b7971",
   "metadata": {},
   "source": [
    "The subpar performance in the lower deciles isn’t concerning because:\n",
    "\n",
    "MLPs excel at classification, not ranking.\n",
    "The top deciles, where decisions matter, perform well.\n",
    "Lift charts are sensitive to calibration, which doesn’t reflect the model’s true classification power.\n",
    "Class imbalance naturally skews lower-decile performance, which is expected and doesn’t indicate a failure.\n",
    "Real-world applications rarely rely on lower deciles."
   ]
  },
  {
   "cell_type": "markdown",
   "id": "d94aa8e2-1fa1-4423-82b0-dcf91b8fb237",
   "metadata": {},
   "source": [
    "#### ROC Curve"
   ]
  },
  {
   "cell_type": "markdown",
   "id": "d49d1cc8-d7b3-469b-8c2c-765e697823af",
   "metadata": {},
   "source": [
    "The AUC/ROC curve (Area Under the Receiver Operating Characteristic curve) is a tool used to evaluate the performance of a classification model. It measures how well the model distinguishes between positive and negative classes at various threshold settings."
   ]
  },
  {
   "cell_type": "markdown",
   "id": "0840c865-9179-4798-bf77-400ee306b0a3",
   "metadata": {},
   "source": [
    "AUC (Area Under the Curve):\n",
    "\n",
    "The AUC is the area under the ROC curve, ranging from 0 to 1.\n",
    "Interpretation:\n",
    "AUC = 0.5: The model is no better than random guessing.\n",
    "AUC = 1.0: The model perfectly distinguishes between positives and negatives."
   ]
  },
  {
   "cell_type": "code",
   "execution_count": 248,
   "id": "b20cfe3f-195c-4d22-bc51-b7febbabc2af",
   "metadata": {},
   "outputs": [],
   "source": [
    "import matplotlib.pyplot as plt\n",
    "from sklearn.metrics import roc_curve, auc\n",
    "\n",
    "def plot_auc_curve(y_true, y_probs):\n",
    "    \"\"\"\n",
    "    Plots an AUC-ROC curve.\n",
    "    \n",
    "    Parameters:\n",
    "    - y_true: Array of true binary labels (0 or 1).\n",
    "    - y_probs: Array of predicted probabilities for the positive class.\n",
    "    \"\"\"\n",
    "    # Calculate the ROC curve\n",
    "    fpr, tpr, thresholds = roc_curve(y_true, y_probs)\n",
    "    \n",
    "    # Calculate the AUC\n",
    "    roc_auc = auc(fpr, tpr)\n",
    "    \n",
    "    # Plot the ROC curve\n",
    "    plt.figure(figsize=(10, 6))\n",
    "    plt.plot(fpr, tpr, color='blue', lw=2, label=f'ROC curve (AUC = {roc_auc:.2f})')\n",
    "    plt.plot([0, 1], [0, 1], color='grey', lw=2, linestyle='--', label='Random Guessing')\n",
    "    plt.xlabel('False Positive Rate')\n",
    "    plt.ylabel('True Positive Rate')\n",
    "    plt.title('Receiver Operating Characteristic (ROC) Curve')\n",
    "    plt.legend(loc='lower right')\n",
    "    plt.grid()\n",
    "    plt.show()\n"
   ]
  },
  {
   "cell_type": "code",
   "execution_count": 250,
   "id": "905c927d-932a-4649-94f8-18a1a7e1253b",
   "metadata": {},
   "outputs": [
    {
     "data": {
      "image/png": "[encoded data removed]",
      "text/plain": [
       "<Figure size 1000x600 with 1 Axes>"
      ]
     },
     "metadata": {},
     "output_type": "display_data"
    }
   ],
   "source": [
    "y_true = merged_df['Actual']  # Replace with the column of true labels\n",
    "y_probs = merged_df['Positive Class Probability']  # Replace with the column of predicted probabilities\n",
    "plot_auc_curve(y_true, y_probs)\n"
   ]
  },
  {
   "cell_type": "markdown",
   "id": "c23dabdc-4bc3-4593-bd14-72ee044713e9",
   "metadata": {},
   "source": [
    "The AUC of 0.93 is very high, meaning the model does an excellent job of distinguishing between paying and non-paying businesses. This suggests the model is highly reliable for making predictions about whether a business will pay the loan in full."
   ]
  },
  {
   "cell_type": "markdown",
   "id": "2661d7a4-23e4-4fd8-8aea-d09cce1bf0fd",
   "metadata": {},
   "source": [
    "**In conclusion, this model is a robust tool for loan decision-making, allowing the business to confidently predict loan repayment outcomes**"
   ]
  },
  {
   "cell_type": "code",
   "execution_count": null,
   "id": "0819540e-2b7d-4b90-aab5-79b9bdd85f04",
   "metadata": {},
   "outputs": [],
   "source": []
  }
 ],
 "metadata": {
  "kernelspec": {
   "display_name": "Python 3 (ipykernel)",
   "language": "python",
   "name": "python3"
  },
  "language_info": {
   "codemirror_mode": {
    "name": "ipython",
    "version": 3
   },
   "file_extension": ".py",
   "mimetype": "text/x-python",
   "name": "python",
   "nbconvert_exporter": "python",
   "pygments_lexer": "ipython3",
   "version": "3.11.7"
  }
 },
 "nbformat": 4,
 "nbformat_minor": 5
}
